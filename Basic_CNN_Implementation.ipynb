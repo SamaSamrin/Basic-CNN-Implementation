{
  "nbformat": 4,
  "nbformat_minor": 0,
  "metadata": {
    "colab": {
      "provenance": [],
      "collapsed_sections": [
        "E5kpkIntHAX4"
      ],
      "authorship_tag": "ABX9TyPr4s/uvHXD9M+/FnstMA7P",
      "include_colab_link": true
    },
    "kernelspec": {
      "name": "python3",
      "display_name": "Python 3"
    },
    "language_info": {
      "name": "python"
    },
    "accelerator": "GPU",
    "gpuClass": "standard"
  },
  "cells": [
    {
      "cell_type": "markdown",
      "metadata": {
        "id": "view-in-github",
        "colab_type": "text"
      },
      "source": [
        "<a href=\"https://colab.research.google.com/github/SamaSamrin/Basic-CNN-Implementation/blob/main/Basic_CNN_Implementation.ipynb\" target=\"_parent\"><img src=\"https://colab.research.google.com/assets/colab-badge.svg\" alt=\"Open In Colab\"/></a>"
      ]
    },
    {
      "cell_type": "code",
      "execution_count": 1,
      "metadata": {
        "id": "tEoE6GBFWPNe"
      },
      "outputs": [],
      "source": [
        "import tensorflow as tf\n",
        "from tensorflow.keras import datasets, layers, models, utils\n",
        "\n",
        "import matplotlib.pyplot as plt\n",
        "import numpy as np"
      ]
    },
    {
      "cell_type": "markdown",
      "source": [
        "# **Importing & Exploring the dataset**\n",
        "\n",
        "The CIFAR10 dataset contains has **100 classes** containing **600 images each**. There are **500 training images and 100 testing images per class**. The 100 classes in the CIFAR-100 are grouped into **20 superclasses**. Each image comes with a \"fine\" label (the class to which it belongs) and a \"coarse\" label (the superclass to which it belongs)."
      ],
      "metadata": {
        "id": "WgmTto-Vegs7"
      }
    },
    {
      "cell_type": "code",
      "source": [
        "(train_images, train_labels), (test_images, test_labels) = datasets.cifar100.load_data()"
      ],
      "metadata": {
        "id": "b2rHy24Vezr5"
      },
      "execution_count": 26,
      "outputs": []
    },
    {
      "cell_type": "code",
      "source": [
        "type(train_images)"
      ],
      "metadata": {
        "colab": {
          "base_uri": "https://localhost:8080/",
          "height": 0
        },
        "id": "ald6umlKgxET",
        "outputId": "f5a56160-e7cf-4dd4-e28b-10e877ca3818"
      },
      "execution_count": 27,
      "outputs": [
        {
          "output_type": "execute_result",
          "data": {
            "text/plain": [
              "numpy.ndarray"
            ]
          },
          "metadata": {},
          "execution_count": 27
        }
      ]
    },
    {
      "cell_type": "code",
      "source": [
        "np.shape(train_images)"
      ],
      "metadata": {
        "colab": {
          "base_uri": "https://localhost:8080/",
          "height": 0
        },
        "id": "chqFvyL-hC-J",
        "outputId": "e0ac4f96-c86a-4da3-a35b-ab708c9efa00"
      },
      "execution_count": 28,
      "outputs": [
        {
          "output_type": "execute_result",
          "data": {
            "text/plain": [
              "(50000, 32, 32, 3)"
            ]
          },
          "metadata": {},
          "execution_count": 28
        }
      ]
    },
    {
      "cell_type": "code",
      "source": [
        "train_images[0,1,1]"
      ],
      "metadata": {
        "colab": {
          "base_uri": "https://localhost:8080/",
          "height": 0
        },
        "id": "xHzmu7kShQya",
        "outputId": "7c654591-b165-4feb-8324-5cc247d4307e"
      },
      "execution_count": 29,
      "outputs": [
        {
          "output_type": "execute_result",
          "data": {
            "text/plain": [
              "array([254, 254, 254], dtype=uint8)"
            ]
          },
          "metadata": {},
          "execution_count": 29
        }
      ]
    },
    {
      "cell_type": "code",
      "source": [
        "test_images[0,1,1]"
      ],
      "metadata": {
        "colab": {
          "base_uri": "https://localhost:8080/",
          "height": 0
        },
        "id": "4QKUa8J5igRF",
        "outputId": "7db0dc0e-c60d-41b9-992c-a1b78a346ce1"
      },
      "execution_count": 30,
      "outputs": [
        {
          "output_type": "execute_result",
          "data": {
            "text/plain": [
              "array([195, 208, 238], dtype=uint8)"
            ]
          },
          "metadata": {},
          "execution_count": 30
        }
      ]
    },
    {
      "cell_type": "code",
      "source": [
        "np.shape(test_labels)"
      ],
      "metadata": {
        "colab": {
          "base_uri": "https://localhost:8080/",
          "height": 0
        },
        "id": "lxntsPumjo7B",
        "outputId": "fe8decd2-8262-4bf6-cb01-a08e43df068a"
      },
      "execution_count": 31,
      "outputs": [
        {
          "output_type": "execute_result",
          "data": {
            "text/plain": [
              "(10000, 1)"
            ]
          },
          "metadata": {},
          "execution_count": 31
        }
      ]
    },
    {
      "cell_type": "code",
      "source": [
        "test_labels[1,0]"
      ],
      "metadata": {
        "colab": {
          "base_uri": "https://localhost:8080/",
          "height": 0
        },
        "id": "43ZrHJNdjt5o",
        "outputId": "7b2a472b-7d98-4be7-e654-450d18455225"
      },
      "execution_count": 32,
      "outputs": [
        {
          "output_type": "execute_result",
          "data": {
            "text/plain": [
              "33"
            ]
          },
          "metadata": {},
          "execution_count": 32
        }
      ]
    },
    {
      "cell_type": "code",
      "source": [
        "plt.figure(figsize=(10, 10))\n",
        "for i in range (9):\n",
        "  rand_num = np.random.randint(0, 50000)\n",
        "  img = plt.subplot(3,3, i+1)\n",
        "  plt.imshow(train_images[rand_num])"
      ],
      "metadata": {
        "colab": {
          "base_uri": "https://localhost:8080/",
          "height": 593
        },
        "id": "Y5CSc998jUNA",
        "outputId": "541ee253-53b3-4251-9a94-b4661ee8d43c"
      },
      "execution_count": 33,
      "outputs": [
        {
          "output_type": "display_data",
          "data": {
            "text/plain": [
              "<Figure size 720x720 with 9 Axes>"
            ],
            "image/png": "[encoded data removed]"
          },
          "metadata": {
            "needs_background": "light"
          }
        }
      ]
    },
    {
      "cell_type": "code",
      "source": [
        "train_images[0,0].max()"
      ],
      "metadata": {
        "colab": {
          "base_uri": "https://localhost:8080/",
          "height": 0
        },
        "id": "7W098j4RkX4Y",
        "outputId": "249cf9e6-90c2-49de-99e8-ee270edc69e6"
      },
      "execution_count": 34,
      "outputs": [
        {
          "output_type": "execute_result",
          "data": {
            "text/plain": [
              "255"
            ]
          },
          "metadata": {},
          "execution_count": 34
        }
      ]
    },
    {
      "cell_type": "code",
      "source": [
        "test_images[0].max()"
      ],
      "metadata": {
        "colab": {
          "base_uri": "https://localhost:8080/",
          "height": 0
        },
        "id": "wzQOTo2sk3h_",
        "outputId": "010fff34-0033-4fec-911b-131dc2d3a601"
      },
      "execution_count": 35,
      "outputs": [
        {
          "output_type": "execute_result",
          "data": {
            "text/plain": [
              "255"
            ]
          },
          "metadata": {},
          "execution_count": 35
        }
      ]
    },
    {
      "cell_type": "code",
      "source": [
        "#Normalization\n",
        "train_images = train_images/255.0\n",
        "test_images = test_images/255.0"
      ],
      "metadata": {
        "id": "BlhkOr1Pk-c5"
      },
      "execution_count": 36,
      "outputs": []
    },
    {
      "cell_type": "code",
      "source": [
        "#One Hot Encoding\n",
        "train_labels = utils.to_categorical(train_labels)\n",
        "test_labels = utils.to_categorical(test_labels)"
      ],
      "metadata": {
        "id": "V7-EWk01lWT_"
      },
      "execution_count": 37,
      "outputs": []
    },
    {
      "cell_type": "markdown",
      "source": [
        "#**CNN Model**"
      ],
      "metadata": {
        "id": "BKhLsJY7ov__"
      }
    },
    {
      "cell_type": "code",
      "source": [
        "from keras.models import Sequential\n",
        "from keras.layers import MaxPooling2D, Conv2D, Flatten, Dense, Activation, Dropout\n",
        "\n",
        "# CNN for feature extraction\n",
        "model = Sequential()\n",
        "model.add(Conv2D(32, (3,3), activation='relu', input_shape=(32,32,3)))\n",
        "model.add(Conv2D(32, (3,3), activation='relu'))\n",
        "model.add(MaxPooling2D(2,2))\n",
        "model.add(Conv2D(32, (3,3), activation='relu'))\n",
        "model.add(Conv2D(32, (3,3), activation='relu'))\n",
        "model.add(MaxPooling2D(2,2))\n",
        "model.add(Conv2D(32, (3,3), activation='relu'))\n",
        "model.add(MaxPooling2D(2,2))\n",
        "\n",
        "# FC for classifying\n",
        "model.add(Flatten())\n",
        "model.add(Dense(64, activation='relu'))\n",
        "model.add(Dense(100, activation='softmax'))\n",
        "\n",
        "model.summary()"
      ],
      "metadata": {
        "colab": {
          "base_uri": "https://localhost:8080/",
          "height": 0
        },
        "id": "wt0stJ7_o22o",
        "outputId": "5a88a4ef-b853-4efe-c664-adbfbde0f08d"
      },
      "execution_count": 38,
      "outputs": [
        {
          "output_type": "stream",
          "name": "stdout",
          "text": [
            "Model: \"sequential\"\n",
            "_________________________________________________________________\n",
            " Layer (type)                Output Shape              Param #   \n",
            "=================================================================\n",
            " conv2d (Conv2D)             (None, 30, 30, 32)        896       \n",
            "                                                                 \n",
            " conv2d_1 (Conv2D)           (None, 28, 28, 32)        9248      \n",
            "                                                                 \n",
            " max_pooling2d (MaxPooling2D  (None, 14, 14, 32)       0         \n",
            " )                                                               \n",
            "                                                                 \n",
            " conv2d_2 (Conv2D)           (None, 12, 12, 32)        9248      \n",
            "                                                                 \n",
            " conv2d_3 (Conv2D)           (None, 10, 10, 32)        9248      \n",
            "                                                                 \n",
            " max_pooling2d_1 (MaxPooling  (None, 5, 5, 32)         0         \n",
            " 2D)                                                             \n",
            "                                                                 \n",
            " conv2d_4 (Conv2D)           (None, 3, 3, 32)          9248      \n",
            "                                                                 \n",
            " max_pooling2d_2 (MaxPooling  (None, 1, 1, 32)         0         \n",
            " 2D)                                                             \n",
            "                                                                 \n",
            " flatten (Flatten)           (None, 32)                0         \n",
            "                                                                 \n",
            " dense (Dense)               (None, 64)                2112      \n",
            "                                                                 \n",
            " dense_1 (Dense)             (None, 100)               6500      \n",
            "                                                                 \n",
            "=================================================================\n",
            "Total params: 46,500\n",
            "Trainable params: 46,500\n",
            "Non-trainable params: 0\n",
            "_________________________________________________________________\n"
          ]
        }
      ]
    },
    {
      "cell_type": "markdown",
      "source": [
        "### The input matrix of **30x30x32** is converted into the **1xN matrix (1x1x32)** after processing it with **5 convolution layers and 3 max pooling** operations. So it is ready to be flattened to a single column and fed to the fully connected layer which will classify the image. "
      ],
      "metadata": {
        "id": "84QWJIr_OfAR"
      }
    },
    {
      "cell_type": "markdown",
      "source": [
        "# **Training & Testing**"
      ],
      "metadata": {
        "id": "kAFSjWO-q444"
      }
    },
    {
      "cell_type": "code",
      "source": [
        "from keras import optimizers\n",
        "from keras import backend as K\n",
        "import time"
      ],
      "metadata": {
        "id": "8uMCthZzq-Fu"
      },
      "execution_count": 40,
      "outputs": []
    },
    {
      "cell_type": "markdown",
      "source": [
        "##1 - Learning Rate: 0.001, Epochs/Steps: 50/10, Training time: 1 hr 45 min (appx), Accuracy: 19.7%\n",
        "\n"
      ],
      "metadata": {
        "id": "E5kpkIntHAX4"
      }
    },
    {
      "cell_type": "code",
      "source": [
        "model.compile(optimizer=optimizers.Adam(learning_rate=1e-3),\n",
        "              loss='categorical_crossentropy',\n",
        "              metrics=['acc'])\n",
        "print(\"Learning rate before first fit:\", model.optimizer.learning_rate.numpy())"
      ],
      "metadata": {
        "colab": {
          "base_uri": "https://localhost:8080/",
          "height": 0
        },
        "id": "K4U4-z88q8Ld",
        "outputId": "0a2313f9-95d9-45b5-a92b-a4d1f6867f21"
      },
      "execution_count": 32,
      "outputs": [
        {
          "output_type": "stream",
          "name": "stdout",
          "text": [
            "Learning rate before first fit: 0.001\n"
          ]
        }
      ]
    },
    {
      "cell_type": "code",
      "source": [
        "training_start = time.time()\n",
        "history = model.fit(train_images, train_labels,\n",
        "                    steps_per_epoch=10,\n",
        "                    epochs=50,\n",
        "                    validation_split=0.2) \n",
        "training_stop = time.time()\n",
        "training_time = training_stop - training_start\n",
        "print(f\"Training time: {training_time}\")"
      ],
      "metadata": {
        "colab": {
          "base_uri": "https://localhost:8080/",
          "height": 0
        },
        "id": "7VwbyXZDtBp8",
        "outputId": "b20ce5bb-06de-4f37-ce4c-083a3d075ad1"
      },
      "execution_count": 33,
      "outputs": [
        {
          "output_type": "stream",
          "name": "stdout",
          "text": [
            "Epoch 1/50\n",
            "10/10 [==============================] - 134s 13s/step - loss: 4.5992 - acc: 0.0105 - val_loss: 4.5835 - val_acc: 0.0164\n",
            "Epoch 2/50\n",
            "10/10 [==============================] - 123s 12s/step - loss: 4.5503 - acc: 0.0158 - val_loss: 4.5079 - val_acc: 0.0206\n",
            "Epoch 3/50\n",
            "10/10 [==============================] - 127s 13s/step - loss: 4.4734 - acc: 0.0203 - val_loss: 4.4365 - val_acc: 0.0287\n",
            "Epoch 4/50\n",
            "10/10 [==============================] - 123s 12s/step - loss: 4.3952 - acc: 0.0269 - val_loss: 4.3597 - val_acc: 0.0328\n",
            "Epoch 5/50\n",
            "10/10 [==============================] - 129s 13s/step - loss: 4.3096 - acc: 0.0357 - val_loss: 4.2775 - val_acc: 0.0442\n",
            "Epoch 6/50\n",
            "10/10 [==============================] - 133s 13s/step - loss: 4.2344 - acc: 0.0478 - val_loss: 4.2168 - val_acc: 0.0533\n",
            "Epoch 7/50\n",
            "10/10 [==============================] - 124s 13s/step - loss: 4.1726 - acc: 0.0635 - val_loss: 4.1477 - val_acc: 0.0661\n",
            "Epoch 8/50\n",
            "10/10 [==============================] - 126s 13s/step - loss: 4.1133 - acc: 0.0735 - val_loss: 4.0955 - val_acc: 0.0706\n",
            "Epoch 9/50\n",
            "10/10 [==============================] - 123s 12s/step - loss: 4.0694 - acc: 0.0795 - val_loss: 4.0706 - val_acc: 0.0780\n",
            "Epoch 10/50\n",
            "10/10 [==============================] - 127s 13s/step - loss: 4.0317 - acc: 0.0825 - val_loss: 4.0246 - val_acc: 0.0872\n",
            "Epoch 11/50\n",
            "10/10 [==============================] - 122s 12s/step - loss: 3.9828 - acc: 0.0946 - val_loss: 3.9769 - val_acc: 0.0956\n",
            "Epoch 12/50\n",
            "10/10 [==============================] - 128s 13s/step - loss: 3.9326 - acc: 0.1024 - val_loss: 3.9394 - val_acc: 0.1039\n",
            "Epoch 13/50\n",
            "10/10 [==============================] - 128s 13s/step - loss: 3.8954 - acc: 0.1084 - val_loss: 3.9074 - val_acc: 0.1065\n",
            "Epoch 14/50\n",
            "10/10 [==============================] - 126s 13s/step - loss: 3.8633 - acc: 0.1123 - val_loss: 3.8825 - val_acc: 0.1135\n",
            "Epoch 15/50\n",
            "10/10 [==============================] - 127s 13s/step - loss: 3.8239 - acc: 0.1214 - val_loss: 3.8405 - val_acc: 0.1205\n",
            "Epoch 16/50\n",
            "10/10 [==============================] - 124s 12s/step - loss: 3.7813 - acc: 0.1285 - val_loss: 3.7998 - val_acc: 0.1245\n",
            "Epoch 17/50\n",
            "10/10 [==============================] - 123s 12s/step - loss: 3.7480 - acc: 0.1314 - val_loss: 3.7870 - val_acc: 0.1286\n",
            "Epoch 18/50\n",
            "10/10 [==============================] - 129s 13s/step - loss: 3.7359 - acc: 0.1332 - val_loss: 3.7756 - val_acc: 0.1275\n",
            "Epoch 19/50\n",
            "10/10 [==============================] - 128s 13s/step - loss: 3.7029 - acc: 0.1393 - val_loss: 3.7323 - val_acc: 0.1333\n",
            "Epoch 20/50\n",
            "10/10 [==============================] - 126s 13s/step - loss: 3.6719 - acc: 0.1452 - val_loss: 3.7302 - val_acc: 0.1388\n",
            "Epoch 21/50\n",
            "10/10 [==============================] - 125s 13s/step - loss: 3.6403 - acc: 0.1478 - val_loss: 3.6743 - val_acc: 0.1409\n",
            "Epoch 22/50\n",
            "10/10 [==============================] - 126s 13s/step - loss: 3.6088 - acc: 0.1522 - val_loss: 3.6482 - val_acc: 0.1445\n",
            "Epoch 23/50\n",
            "10/10 [==============================] - 123s 12s/step - loss: 3.6359 - acc: 0.1481 - val_loss: 3.7170 - val_acc: 0.1340\n",
            "Epoch 24/50\n",
            "10/10 [==============================] - 128s 13s/step - loss: 3.6070 - acc: 0.1533 - val_loss: 3.6353 - val_acc: 0.1490\n",
            "Epoch 25/50\n",
            "10/10 [==============================] - 128s 13s/step - loss: 3.5577 - acc: 0.1609 - val_loss: 3.6055 - val_acc: 0.1526\n",
            "Epoch 26/50\n",
            "10/10 [==============================] - 130s 13s/step - loss: 3.5440 - acc: 0.1634 - val_loss: 3.6007 - val_acc: 0.1515\n",
            "Epoch 27/50\n",
            "10/10 [==============================] - 124s 12s/step - loss: 3.5232 - acc: 0.1657 - val_loss: 3.5780 - val_acc: 0.1587\n",
            "Epoch 28/50\n",
            "10/10 [==============================] - 126s 13s/step - loss: 3.5074 - acc: 0.1691 - val_loss: 3.5600 - val_acc: 0.1603\n",
            "Epoch 29/50\n",
            "10/10 [==============================] - 124s 12s/step - loss: 3.4894 - acc: 0.1714 - val_loss: 3.5601 - val_acc: 0.1589\n",
            "Epoch 30/50\n",
            "10/10 [==============================] - 127s 13s/step - loss: 3.4803 - acc: 0.1719 - val_loss: 3.5269 - val_acc: 0.1632\n",
            "Epoch 31/50\n",
            "10/10 [==============================] - 127s 13s/step - loss: 3.4603 - acc: 0.1763 - val_loss: 3.5225 - val_acc: 0.1650\n",
            "Epoch 32/50\n",
            "10/10 [==============================] - 126s 13s/step - loss: 3.4622 - acc: 0.1748 - val_loss: 3.5157 - val_acc: 0.1666\n",
            "Epoch 33/50\n",
            "10/10 [==============================] - 124s 13s/step - loss: 3.4401 - acc: 0.1780 - val_loss: 3.4939 - val_acc: 0.1709\n",
            "Epoch 34/50\n",
            "10/10 [==============================] - 124s 12s/step - loss: 3.4186 - acc: 0.1823 - val_loss: 3.4907 - val_acc: 0.1694\n",
            "Epoch 35/50\n",
            "10/10 [==============================] - 128s 13s/step - loss: 3.4151 - acc: 0.1848 - val_loss: 3.4727 - val_acc: 0.1725\n",
            "Epoch 36/50\n",
            "10/10 [==============================] - 122s 12s/step - loss: 3.3960 - acc: 0.1878 - val_loss: 3.4625 - val_acc: 0.1721\n",
            "Epoch 37/50\n",
            "10/10 [==============================] - 126s 13s/step - loss: 3.3792 - acc: 0.1928 - val_loss: 3.4730 - val_acc: 0.1752\n",
            "Epoch 38/50\n",
            "10/10 [==============================] - 128s 13s/step - loss: 3.3909 - acc: 0.1886 - val_loss: 3.5112 - val_acc: 0.1682\n",
            "Epoch 39/50\n",
            "10/10 [==============================] - 127s 13s/step - loss: 3.3815 - acc: 0.1905 - val_loss: 3.4529 - val_acc: 0.1760\n",
            "Epoch 40/50\n",
            "10/10 [==============================] - 127s 13s/step - loss: 3.3587 - acc: 0.1951 - val_loss: 3.4507 - val_acc: 0.1802\n",
            "Epoch 41/50\n",
            "10/10 [==============================] - 129s 13s/step - loss: 3.3420 - acc: 0.1981 - val_loss: 3.4399 - val_acc: 0.1799\n",
            "Epoch 42/50\n",
            "10/10 [==============================] - 126s 13s/step - loss: 3.3273 - acc: 0.1987 - val_loss: 3.4201 - val_acc: 0.1822\n",
            "Epoch 43/50\n",
            "10/10 [==============================] - 127s 13s/step - loss: 3.3236 - acc: 0.2001 - val_loss: 3.4046 - val_acc: 0.1870\n",
            "Epoch 44/50\n",
            "10/10 [==============================] - 128s 13s/step - loss: 3.3115 - acc: 0.2029 - val_loss: 3.4040 - val_acc: 0.1852\n",
            "Epoch 45/50\n",
            "10/10 [==============================] - 123s 12s/step - loss: 3.3160 - acc: 0.2013 - val_loss: 3.4094 - val_acc: 0.1863\n",
            "Epoch 46/50\n",
            "10/10 [==============================] - 127s 13s/step - loss: 3.3110 - acc: 0.2023 - val_loss: 3.4155 - val_acc: 0.1829\n",
            "Epoch 47/50\n",
            "10/10 [==============================] - 125s 13s/step - loss: 3.2991 - acc: 0.2064 - val_loss: 3.3890 - val_acc: 0.1917\n",
            "Epoch 48/50\n",
            "10/10 [==============================] - 127s 13s/step - loss: 3.2991 - acc: 0.2060 - val_loss: 3.3799 - val_acc: 0.1940\n",
            "Epoch 49/50\n",
            "10/10 [==============================] - 122s 12s/step - loss: 3.2964 - acc: 0.2063 - val_loss: 3.3956 - val_acc: 0.1862\n",
            "Epoch 50/50\n",
            "10/10 [==============================] - 128s 13s/step - loss: 3.2733 - acc: 0.2078 - val_loss: 3.3995 - val_acc: 0.1885\n",
            "Training time: 6324.650381088257\n"
          ]
        }
      ]
    },
    {
      "cell_type": "code",
      "source": [
        "plt.plot(history.history['acc'], label='accuracy')\n",
        "plt.plot(history.history['val_acc'], label = 'val_accuracy')\n",
        "plt.xlabel('Epoch')\n",
        "plt.ylabel('Accuracy')\n",
        "plt.legend(loc='lower right')\n",
        "\n",
        "test_loss, test_acc = model.evaluate(test_images,  test_labels, verbose=2)"
      ],
      "metadata": {
        "colab": {
          "base_uri": "https://localhost:8080/",
          "height": 296
        },
        "id": "TRsnQcNZvgSz",
        "outputId": "f165e768-840d-47be-f897-a08a4056f787"
      },
      "execution_count": 36,
      "outputs": [
        {
          "output_type": "stream",
          "name": "stdout",
          "text": [
            "313/313 - 6s - loss: 3.3687 - acc: 0.1968 - 6s/epoch - 19ms/step\n"
          ]
        },
        {
          "output_type": "display_data",
          "data": {
            "text/plain": [
              "<Figure size 432x288 with 1 Axes>"
            ],
            "image/png": "[encoded data removed]"
          },
          "metadata": {
            "needs_background": "light"
          }
        }
      ]
    },
    {
      "cell_type": "code",
      "source": [
        "print(test_acc)"
      ],
      "metadata": {
        "colab": {
          "base_uri": "https://localhost:8080/",
          "height": 0
        },
        "id": "qJQGXUdEwGQU",
        "outputId": "582ed50d-25cb-477c-a13b-522f43f9096a"
      },
      "execution_count": 37,
      "outputs": [
        {
          "output_type": "stream",
          "name": "stdout",
          "text": [
            "0.19679999351501465\n"
          ]
        }
      ]
    },
    {
      "cell_type": "markdown",
      "source": [
        "##2 - Learning Rate: 0.0001, Epochs/Steps: 100/100, GPU selected as Hardware Accelerator, Training time: 5.4 minutes, Accuracy: 22%"
      ],
      "metadata": {
        "id": "Ifdz_AJ4HFe0"
      }
    },
    {
      "cell_type": "code",
      "source": [
        "model.compile(optimizer=optimizers.Adam(learning_rate=0.0001),\n",
        "              loss='categorical_crossentropy',\n",
        "              metrics=['acc'])\n",
        "print(\"Learning rate before second fit:\", model.optimizer.learning_rate.numpy())"
      ],
      "metadata": {
        "colab": {
          "base_uri": "https://localhost:8080/",
          "height": 0
        },
        "id": "eYvo6-wUHGnn",
        "outputId": "077d022d-4bda-4cc7-b060-c23b7b1ad92e"
      },
      "execution_count": 41,
      "outputs": [
        {
          "output_type": "stream",
          "name": "stdout",
          "text": [
            "Learning rate before second fit: 1e-04\n"
          ]
        }
      ]
    },
    {
      "cell_type": "code",
      "source": [
        "import time\n",
        "training_start = time.time()\n",
        "history = model.fit(train_images, train_labels,\n",
        "                    steps_per_epoch=100,\n",
        "                    epochs=100,\n",
        "                    validation_split=0.2) \n",
        "training_stop = time.time()\n",
        "training_time = training_stop - training_start\n",
        "print(f\"Training time: {training_time}\")"
      ],
      "metadata": {
        "colab": {
          "base_uri": "https://localhost:8080/",
          "height": 0
        },
        "id": "bYblU0fCJvWj",
        "outputId": "2c61f173-50b1-41cc-9b75-d897c6bcad93"
      },
      "execution_count": 42,
      "outputs": [
        {
          "output_type": "stream",
          "name": "stdout",
          "text": [
            "Epoch 1/100\n",
            "100/100 [==============================] - 12s 37ms/step - loss: 4.6008 - acc: 0.0104 - val_loss: 4.5827 - val_acc: 0.0121\n",
            "Epoch 2/100\n",
            "100/100 [==============================] - 3s 29ms/step - loss: 4.5260 - acc: 0.0198 - val_loss: 4.4709 - val_acc: 0.0225\n",
            "Epoch 3/100\n",
            "100/100 [==============================] - 3s 29ms/step - loss: 4.4211 - acc: 0.0249 - val_loss: 4.3839 - val_acc: 0.0358\n",
            "Epoch 4/100\n",
            "100/100 [==============================] - 3s 29ms/step - loss: 4.3482 - acc: 0.0331 - val_loss: 4.3255 - val_acc: 0.0366\n",
            "Epoch 5/100\n",
            "100/100 [==============================] - 3s 28ms/step - loss: 4.2920 - acc: 0.0395 - val_loss: 4.2775 - val_acc: 0.0436\n",
            "Epoch 6/100\n",
            "100/100 [==============================] - 2s 24ms/step - loss: 4.2449 - acc: 0.0450 - val_loss: 4.2433 - val_acc: 0.0467\n",
            "Epoch 7/100\n",
            "100/100 [==============================] - 2s 24ms/step - loss: 4.2067 - acc: 0.0494 - val_loss: 4.2046 - val_acc: 0.0550\n",
            "Epoch 8/100\n",
            "100/100 [==============================] - 2s 24ms/step - loss: 4.1731 - acc: 0.0560 - val_loss: 4.1861 - val_acc: 0.0573\n",
            "Epoch 9/100\n",
            "100/100 [==============================] - 2s 25ms/step - loss: 4.1425 - acc: 0.0615 - val_loss: 4.1473 - val_acc: 0.0594\n",
            "Epoch 10/100\n",
            "100/100 [==============================] - 3s 31ms/step - loss: 4.1113 - acc: 0.0685 - val_loss: 4.1126 - val_acc: 0.0721\n",
            "Epoch 11/100\n",
            "100/100 [==============================] - 3s 29ms/step - loss: 4.0808 - acc: 0.0758 - val_loss: 4.0822 - val_acc: 0.0765\n",
            "Epoch 12/100\n",
            "100/100 [==============================] - 2s 24ms/step - loss: 4.0505 - acc: 0.0811 - val_loss: 4.0577 - val_acc: 0.0826\n",
            "Epoch 13/100\n",
            "100/100 [==============================] - 3s 32ms/step - loss: 4.0213 - acc: 0.0871 - val_loss: 4.0304 - val_acc: 0.0919\n",
            "Epoch 14/100\n",
            "100/100 [==============================] - 4s 39ms/step - loss: 3.9929 - acc: 0.0934 - val_loss: 4.0112 - val_acc: 0.0908\n",
            "Epoch 15/100\n",
            "100/100 [==============================] - 3s 34ms/step - loss: 3.9660 - acc: 0.0973 - val_loss: 3.9756 - val_acc: 0.0964\n",
            "Epoch 16/100\n",
            "100/100 [==============================] - 3s 28ms/step - loss: 3.9375 - acc: 0.1022 - val_loss: 3.9570 - val_acc: 0.0999\n",
            "Epoch 17/100\n",
            "100/100 [==============================] - 3s 28ms/step - loss: 3.9133 - acc: 0.1075 - val_loss: 3.9280 - val_acc: 0.1065\n",
            "Epoch 18/100\n",
            "100/100 [==============================] - 3s 33ms/step - loss: 3.8865 - acc: 0.1122 - val_loss: 3.9085 - val_acc: 0.1092\n",
            "Epoch 19/100\n",
            "100/100 [==============================] - 3s 33ms/step - loss: 3.8613 - acc: 0.1162 - val_loss: 3.8887 - val_acc: 0.1121\n",
            "Epoch 20/100\n",
            "100/100 [==============================] - 2s 24ms/step - loss: 3.8416 - acc: 0.1184 - val_loss: 3.8677 - val_acc: 0.1155\n",
            "Epoch 21/100\n",
            "100/100 [==============================] - 3s 29ms/step - loss: 3.8164 - acc: 0.1222 - val_loss: 3.8539 - val_acc: 0.1203\n",
            "Epoch 22/100\n",
            "100/100 [==============================] - 3s 31ms/step - loss: 3.7976 - acc: 0.1258 - val_loss: 3.8279 - val_acc: 0.1231\n",
            "Epoch 23/100\n",
            "100/100 [==============================] - 3s 28ms/step - loss: 3.7742 - acc: 0.1292 - val_loss: 3.8071 - val_acc: 0.1242\n",
            "Epoch 24/100\n",
            "100/100 [==============================] - 3s 28ms/step - loss: 3.7557 - acc: 0.1328 - val_loss: 3.7906 - val_acc: 0.1277\n",
            "Epoch 25/100\n",
            "100/100 [==============================] - 3s 30ms/step - loss: 3.7383 - acc: 0.1329 - val_loss: 3.7732 - val_acc: 0.1315\n",
            "Epoch 26/100\n",
            "100/100 [==============================] - 3s 33ms/step - loss: 3.7194 - acc: 0.1373 - val_loss: 3.7603 - val_acc: 0.1306\n",
            "Epoch 27/100\n",
            "100/100 [==============================] - 3s 26ms/step - loss: 3.6997 - acc: 0.1397 - val_loss: 3.7417 - val_acc: 0.1343\n",
            "Epoch 28/100\n",
            "100/100 [==============================] - 3s 30ms/step - loss: 3.6858 - acc: 0.1436 - val_loss: 3.7277 - val_acc: 0.1378\n",
            "Epoch 29/100\n",
            "100/100 [==============================] - 3s 30ms/step - loss: 3.6698 - acc: 0.1471 - val_loss: 3.7241 - val_acc: 0.1373\n",
            "Epoch 30/100\n",
            "100/100 [==============================] - 3s 30ms/step - loss: 3.6548 - acc: 0.1488 - val_loss: 3.7024 - val_acc: 0.1408\n",
            "Epoch 31/100\n",
            "100/100 [==============================] - 3s 31ms/step - loss: 3.6414 - acc: 0.1505 - val_loss: 3.6922 - val_acc: 0.1409\n",
            "Epoch 32/100\n",
            "100/100 [==============================] - 3s 25ms/step - loss: 3.6282 - acc: 0.1530 - val_loss: 3.6813 - val_acc: 0.1419\n",
            "Epoch 33/100\n",
            "100/100 [==============================] - 3s 30ms/step - loss: 3.6146 - acc: 0.1548 - val_loss: 3.6625 - val_acc: 0.1452\n",
            "Epoch 34/100\n",
            "100/100 [==============================] - 2s 25ms/step - loss: 3.6021 - acc: 0.1563 - val_loss: 3.6651 - val_acc: 0.1471\n",
            "Epoch 35/100\n",
            "100/100 [==============================] - 3s 30ms/step - loss: 3.5919 - acc: 0.1588 - val_loss: 3.6451 - val_acc: 0.1499\n",
            "Epoch 36/100\n",
            "100/100 [==============================] - 3s 30ms/step - loss: 3.5810 - acc: 0.1610 - val_loss: 3.6372 - val_acc: 0.1479\n",
            "Epoch 37/100\n",
            "100/100 [==============================] - 3s 25ms/step - loss: 3.5683 - acc: 0.1626 - val_loss: 3.6292 - val_acc: 0.1497\n",
            "Epoch 38/100\n",
            "100/100 [==============================] - 3s 30ms/step - loss: 3.5632 - acc: 0.1632 - val_loss: 3.6315 - val_acc: 0.1510\n",
            "Epoch 39/100\n",
            "100/100 [==============================] - 3s 30ms/step - loss: 3.5470 - acc: 0.1663 - val_loss: 3.6134 - val_acc: 0.1514\n",
            "Epoch 40/100\n",
            "100/100 [==============================] - 3s 30ms/step - loss: 3.5386 - acc: 0.1677 - val_loss: 3.6038 - val_acc: 0.1527\n",
            "Epoch 41/100\n",
            "100/100 [==============================] - 3s 30ms/step - loss: 3.5268 - acc: 0.1693 - val_loss: 3.5965 - val_acc: 0.1544\n",
            "Epoch 42/100\n",
            "100/100 [==============================] - 3s 30ms/step - loss: 3.5181 - acc: 0.1693 - val_loss: 3.5890 - val_acc: 0.1578\n",
            "Epoch 43/100\n",
            "100/100 [==============================] - 3s 30ms/step - loss: 3.5077 - acc: 0.1717 - val_loss: 3.5825 - val_acc: 0.1585\n",
            "Epoch 44/100\n",
            "100/100 [==============================] - 3s 26ms/step - loss: 3.4994 - acc: 0.1732 - val_loss: 3.5787 - val_acc: 0.1585\n",
            "Epoch 45/100\n",
            "100/100 [==============================] - 3s 30ms/step - loss: 3.4922 - acc: 0.1743 - val_loss: 3.5591 - val_acc: 0.1616\n",
            "Epoch 46/100\n",
            "100/100 [==============================] - 3s 30ms/step - loss: 3.4827 - acc: 0.1762 - val_loss: 3.5612 - val_acc: 0.1630\n",
            "Epoch 47/100\n",
            "100/100 [==============================] - 3s 29ms/step - loss: 3.4729 - acc: 0.1764 - val_loss: 3.5511 - val_acc: 0.1637\n",
            "Epoch 48/100\n",
            "100/100 [==============================] - 3s 31ms/step - loss: 3.4648 - acc: 0.1786 - val_loss: 3.5446 - val_acc: 0.1669\n",
            "Epoch 49/100\n",
            "100/100 [==============================] - 3s 25ms/step - loss: 3.4572 - acc: 0.1783 - val_loss: 3.5307 - val_acc: 0.1683\n",
            "Epoch 50/100\n",
            "100/100 [==============================] - 3s 30ms/step - loss: 3.4501 - acc: 0.1810 - val_loss: 3.5332 - val_acc: 0.1650\n",
            "Epoch 51/100\n",
            "100/100 [==============================] - 3s 25ms/step - loss: 3.4420 - acc: 0.1817 - val_loss: 3.5282 - val_acc: 0.1697\n",
            "Epoch 52/100\n",
            "100/100 [==============================] - 3s 29ms/step - loss: 3.4321 - acc: 0.1840 - val_loss: 3.5110 - val_acc: 0.1724\n",
            "Epoch 53/100\n",
            "100/100 [==============================] - 3s 25ms/step - loss: 3.4245 - acc: 0.1852 - val_loss: 3.5061 - val_acc: 0.1747\n",
            "Epoch 54/100\n",
            "100/100 [==============================] - 3s 30ms/step - loss: 3.4203 - acc: 0.1852 - val_loss: 3.4977 - val_acc: 0.1735\n",
            "Epoch 55/100\n",
            "100/100 [==============================] - 3s 30ms/step - loss: 3.4110 - acc: 0.1869 - val_loss: 3.4997 - val_acc: 0.1730\n",
            "Epoch 56/100\n",
            "100/100 [==============================] - 4s 37ms/step - loss: 3.4045 - acc: 0.1883 - val_loss: 3.4896 - val_acc: 0.1756\n",
            "Epoch 57/100\n",
            "100/100 [==============================] - 3s 30ms/step - loss: 3.3979 - acc: 0.1905 - val_loss: 3.4992 - val_acc: 0.1754\n",
            "Epoch 58/100\n",
            "100/100 [==============================] - 3s 30ms/step - loss: 3.3930 - acc: 0.1902 - val_loss: 3.4758 - val_acc: 0.1793\n",
            "Epoch 59/100\n",
            "100/100 [==============================] - 3s 30ms/step - loss: 3.3850 - acc: 0.1917 - val_loss: 3.4737 - val_acc: 0.1793\n",
            "Epoch 60/100\n",
            "100/100 [==============================] - 3s 29ms/step - loss: 3.3798 - acc: 0.1933 - val_loss: 3.4871 - val_acc: 0.1780\n",
            "Epoch 61/100\n",
            "100/100 [==============================] - 3s 30ms/step - loss: 3.3730 - acc: 0.1940 - val_loss: 3.4620 - val_acc: 0.1784\n",
            "Epoch 62/100\n",
            "100/100 [==============================] - 3s 25ms/step - loss: 3.3709 - acc: 0.1942 - val_loss: 3.4623 - val_acc: 0.1804\n",
            "Epoch 63/100\n",
            "100/100 [==============================] - 2s 25ms/step - loss: 3.3614 - acc: 0.1963 - val_loss: 3.4689 - val_acc: 0.1812\n",
            "Epoch 64/100\n",
            "100/100 [==============================] - 3s 30ms/step - loss: 3.3534 - acc: 0.1970 - val_loss: 3.4640 - val_acc: 0.1816\n",
            "Epoch 65/100\n",
            "100/100 [==============================] - 3s 26ms/step - loss: 3.3478 - acc: 0.1993 - val_loss: 3.4491 - val_acc: 0.1837\n",
            "Epoch 66/100\n",
            "100/100 [==============================] - 3s 30ms/step - loss: 3.3437 - acc: 0.1985 - val_loss: 3.4356 - val_acc: 0.1881\n",
            "Epoch 67/100\n",
            "100/100 [==============================] - 3s 30ms/step - loss: 3.3394 - acc: 0.2001 - val_loss: 3.4401 - val_acc: 0.1849\n",
            "Epoch 68/100\n",
            "100/100 [==============================] - 3s 30ms/step - loss: 3.3320 - acc: 0.2019 - val_loss: 3.4311 - val_acc: 0.1884\n",
            "Epoch 69/100\n",
            "100/100 [==============================] - 3s 31ms/step - loss: 3.3284 - acc: 0.2006 - val_loss: 3.4341 - val_acc: 0.1865\n",
            "Epoch 70/100\n",
            "100/100 [==============================] - 3s 25ms/step - loss: 3.3217 - acc: 0.2034 - val_loss: 3.4209 - val_acc: 0.1872\n",
            "Epoch 71/100\n",
            "100/100 [==============================] - 3s 30ms/step - loss: 3.3182 - acc: 0.2050 - val_loss: 3.4235 - val_acc: 0.1860\n",
            "Epoch 72/100\n",
            "100/100 [==============================] - 3s 25ms/step - loss: 3.3142 - acc: 0.2054 - val_loss: 3.4074 - val_acc: 0.1916\n",
            "Epoch 73/100\n",
            "100/100 [==============================] - 3s 32ms/step - loss: 3.3085 - acc: 0.2063 - val_loss: 3.4028 - val_acc: 0.1921\n",
            "Epoch 74/100\n",
            "100/100 [==============================] - 3s 30ms/step - loss: 3.3003 - acc: 0.2068 - val_loss: 3.4033 - val_acc: 0.1932\n",
            "Epoch 75/100\n",
            "100/100 [==============================] - 3s 25ms/step - loss: 3.2968 - acc: 0.2095 - val_loss: 3.3964 - val_acc: 0.1946\n",
            "Epoch 76/100\n",
            "100/100 [==============================] - 3s 25ms/step - loss: 3.2898 - acc: 0.2098 - val_loss: 3.3971 - val_acc: 0.1967\n",
            "Epoch 77/100\n",
            "100/100 [==============================] - 3s 30ms/step - loss: 3.2838 - acc: 0.2110 - val_loss: 3.3976 - val_acc: 0.1951\n",
            "Epoch 78/100\n",
            "100/100 [==============================] - 3s 31ms/step - loss: 3.2866 - acc: 0.2093 - val_loss: 3.3848 - val_acc: 0.1967\n",
            "Epoch 79/100\n",
            "100/100 [==============================] - 3s 25ms/step - loss: 3.2793 - acc: 0.2125 - val_loss: 3.3824 - val_acc: 0.1995\n",
            "Epoch 80/100\n",
            "100/100 [==============================] - 3s 25ms/step - loss: 3.2756 - acc: 0.2114 - val_loss: 3.3758 - val_acc: 0.1999\n",
            "Epoch 81/100\n",
            "100/100 [==============================] - 3s 25ms/step - loss: 3.2684 - acc: 0.2139 - val_loss: 3.3748 - val_acc: 0.1974\n",
            "Epoch 82/100\n",
            "100/100 [==============================] - 3s 29ms/step - loss: 3.2612 - acc: 0.2134 - val_loss: 3.3713 - val_acc: 0.1992\n",
            "Epoch 83/100\n",
            "100/100 [==============================] - 3s 25ms/step - loss: 3.2577 - acc: 0.2132 - val_loss: 3.3661 - val_acc: 0.2018\n",
            "Epoch 84/100\n",
            "100/100 [==============================] - 3s 25ms/step - loss: 3.2557 - acc: 0.2156 - val_loss: 3.3664 - val_acc: 0.2007\n",
            "Epoch 85/100\n",
            "100/100 [==============================] - 2s 25ms/step - loss: 3.2480 - acc: 0.2173 - val_loss: 3.3619 - val_acc: 0.2025\n",
            "Epoch 86/100\n",
            "100/100 [==============================] - 3s 27ms/step - loss: 3.2455 - acc: 0.2171 - val_loss: 3.3531 - val_acc: 0.2041\n",
            "Epoch 87/100\n",
            "100/100 [==============================] - 3s 32ms/step - loss: 3.2431 - acc: 0.2186 - val_loss: 3.3498 - val_acc: 0.2026\n",
            "Epoch 88/100\n",
            "100/100 [==============================] - 3s 26ms/step - loss: 3.2383 - acc: 0.2184 - val_loss: 3.3467 - val_acc: 0.2059\n",
            "Epoch 89/100\n",
            "100/100 [==============================] - 3s 30ms/step - loss: 3.2314 - acc: 0.2194 - val_loss: 3.3589 - val_acc: 0.2040\n",
            "Epoch 90/100\n",
            "100/100 [==============================] - 3s 25ms/step - loss: 3.2285 - acc: 0.2209 - val_loss: 3.3427 - val_acc: 0.2037\n",
            "Epoch 91/100\n",
            "100/100 [==============================] - 3s 29ms/step - loss: 3.2236 - acc: 0.2205 - val_loss: 3.3398 - val_acc: 0.2026\n",
            "Epoch 92/100\n",
            "100/100 [==============================] - 3s 26ms/step - loss: 3.2196 - acc: 0.2228 - val_loss: 3.3485 - val_acc: 0.2016\n",
            "Epoch 93/100\n",
            "100/100 [==============================] - 3s 25ms/step - loss: 3.2153 - acc: 0.2227 - val_loss: 3.3440 - val_acc: 0.2051\n",
            "Epoch 94/100\n",
            "100/100 [==============================] - 3s 25ms/step - loss: 3.2150 - acc: 0.2224 - val_loss: 3.3297 - val_acc: 0.2073\n",
            "Epoch 95/100\n",
            "100/100 [==============================] - 3s 25ms/step - loss: 3.2096 - acc: 0.2245 - val_loss: 3.3242 - val_acc: 0.2074\n",
            "Epoch 96/100\n",
            "100/100 [==============================] - 3s 31ms/step - loss: 3.2023 - acc: 0.2245 - val_loss: 3.3237 - val_acc: 0.2083\n",
            "Epoch 97/100\n",
            "100/100 [==============================] - 3s 26ms/step - loss: 3.2007 - acc: 0.2275 - val_loss: 3.3299 - val_acc: 0.2099\n",
            "Epoch 98/100\n",
            "100/100 [==============================] - 3s 25ms/step - loss: 3.1986 - acc: 0.2256 - val_loss: 3.3161 - val_acc: 0.2110\n",
            "Epoch 99/100\n",
            "100/100 [==============================] - 3s 25ms/step - loss: 3.1931 - acc: 0.2250 - val_loss: 3.3226 - val_acc: 0.2074\n",
            "Epoch 100/100\n",
            "100/100 [==============================] - 3s 30ms/step - loss: 3.1909 - acc: 0.2271 - val_loss: 3.3054 - val_acc: 0.2111\n",
            "Training time: 323.9760437011719\n"
          ]
        }
      ]
    },
    {
      "cell_type": "code",
      "source": [
        "plt.plot(history.history['acc'], label='accuracy')\n",
        "plt.plot(history.history['val_acc'], label = 'val_accuracy')\n",
        "plt.xlabel('Epoch')\n",
        "plt.ylabel('Accuracy')\n",
        "plt.legend(loc='lower right')"
      ],
      "metadata": {
        "colab": {
          "base_uri": "https://localhost:8080/",
          "height": 296
        },
        "id": "4oK8BAA9pOmi",
        "outputId": "6a1673f1-9c49-439d-f950-58e45c6748c4"
      },
      "execution_count": 43,
      "outputs": [
        {
          "output_type": "execute_result",
          "data": {
            "text/plain": [
              "<matplotlib.legend.Legend at 0x7f472006ac70>"
            ]
          },
          "metadata": {},
          "execution_count": 43
        },
        {
          "output_type": "display_data",
          "data": {
            "text/plain": [
              "<Figure size 432x288 with 1 Axes>"
            ],
            "image/png": "[encoded data removed]"
          },
          "metadata": {
            "needs_background": "light"
          }
        }
      ]
    },
    {
      "cell_type": "code",
      "source": [
        "test_loss, test_acc = model.evaluate(test_images,  test_labels, verbose=2)\n",
        "print(test_acc)"
      ],
      "metadata": {
        "colab": {
          "base_uri": "https://localhost:8080/",
          "height": 0
        },
        "id": "E5gkagCUwqYB",
        "outputId": "ad43cb01-b41f-49b5-9e4e-231dc0d4c73c"
      },
      "execution_count": 44,
      "outputs": [
        {
          "output_type": "stream",
          "name": "stdout",
          "text": [
            "313/313 - 1s - loss: 3.2837 - acc: 0.2177 - 873ms/epoch - 3ms/step\n",
            "0.21770000457763672\n"
          ]
        }
      ]
    },
    {
      "cell_type": "markdown",
      "source": [
        "##3 - Learning Rate: 1e-05, Epochs/Steps: 100/100, GPU as Hardware Accelerator, Training time: 5.33 minutes, Accuracy: 23%"
      ],
      "metadata": {
        "id": "BLuMBnfMxBL3"
      }
    },
    {
      "cell_type": "code",
      "source": [
        "model.compile(optimizer=optimizers.Adam(learning_rate=1e-05),\n",
        "              loss='categorical_crossentropy',\n",
        "              metrics=['acc'])\n",
        "print(\"Learning rate before third fit:\", model.optimizer.learning_rate.numpy())"
      ],
      "metadata": {
        "colab": {
          "base_uri": "https://localhost:8080/",
          "height": 0
        },
        "id": "fTnPOdsXxSvw",
        "outputId": "31ef5073-3f79-4300-b306-bed9b296322a"
      },
      "execution_count": 46,
      "outputs": [
        {
          "output_type": "stream",
          "name": "stdout",
          "text": [
            "Learning rate before third fit: 1e-05\n"
          ]
        }
      ]
    },
    {
      "cell_type": "code",
      "source": [
        "training_start = time.time()\n",
        "history = model.fit(train_images, train_labels,\n",
        "                    steps_per_epoch=100,\n",
        "                    epochs=100,\n",
        "                    validation_split=0.2) \n",
        "training_stop = time.time()\n",
        "training_time = training_stop - training_start\n",
        "print(f\"Training time: {training_time}\")"
      ],
      "metadata": {
        "colab": {
          "base_uri": "https://localhost:8080/",
          "height": 0
        },
        "id": "GVPpyCfFxamp",
        "outputId": "fc56bd0c-d20d-42c0-9856-6e042718e558"
      },
      "execution_count": 50,
      "outputs": [
        {
          "output_type": "stream",
          "name": "stdout",
          "text": [
            "Epoch 1/100\n",
            "100/100 [==============================] - 4s 36ms/step - loss: 3.1278 - acc: 0.2394 - val_loss: 3.2241 - val_acc: 0.2261\n",
            "Epoch 2/100\n",
            "100/100 [==============================] - 3s 31ms/step - loss: 3.1271 - acc: 0.2396 - val_loss: 3.2245 - val_acc: 0.2258\n",
            "Epoch 3/100\n",
            "100/100 [==============================] - 3s 25ms/step - loss: 3.1266 - acc: 0.2403 - val_loss: 3.2241 - val_acc: 0.2260\n",
            "Epoch 4/100\n",
            "100/100 [==============================] - 3s 25ms/step - loss: 3.1261 - acc: 0.2404 - val_loss: 3.2251 - val_acc: 0.2266\n",
            "Epoch 5/100\n",
            "100/100 [==============================] - 3s 26ms/step - loss: 3.1253 - acc: 0.2406 - val_loss: 3.2253 - val_acc: 0.2238\n",
            "Epoch 6/100\n",
            "100/100 [==============================] - 3s 32ms/step - loss: 3.1247 - acc: 0.2405 - val_loss: 3.2258 - val_acc: 0.2251\n",
            "Epoch 7/100\n",
            "100/100 [==============================] - 3s 26ms/step - loss: 3.1240 - acc: 0.2404 - val_loss: 3.2261 - val_acc: 0.2270\n",
            "Epoch 8/100\n",
            "100/100 [==============================] - 3s 30ms/step - loss: 3.1239 - acc: 0.2396 - val_loss: 3.2263 - val_acc: 0.2263\n",
            "Epoch 9/100\n",
            "100/100 [==============================] - 3s 31ms/step - loss: 3.1233 - acc: 0.2398 - val_loss: 3.2262 - val_acc: 0.2258\n",
            "Epoch 10/100\n",
            "100/100 [==============================] - 3s 33ms/step - loss: 3.1234 - acc: 0.2401 - val_loss: 3.2365 - val_acc: 0.2233\n",
            "Epoch 11/100\n",
            "100/100 [==============================] - 3s 26ms/step - loss: 3.1235 - acc: 0.2405 - val_loss: 3.2260 - val_acc: 0.2267\n",
            "Epoch 12/100\n",
            "100/100 [==============================] - 3s 31ms/step - loss: 3.1223 - acc: 0.2394 - val_loss: 3.2264 - val_acc: 0.2253\n",
            "Epoch 13/100\n",
            "100/100 [==============================] - 3s 26ms/step - loss: 3.1217 - acc: 0.2402 - val_loss: 3.2249 - val_acc: 0.2252\n",
            "Epoch 14/100\n",
            "100/100 [==============================] - 5s 51ms/step - loss: 3.1212 - acc: 0.2399 - val_loss: 3.2283 - val_acc: 0.2261\n",
            "Epoch 15/100\n",
            "100/100 [==============================] - 3s 31ms/step - loss: 3.1208 - acc: 0.2410 - val_loss: 3.2259 - val_acc: 0.2272\n",
            "Epoch 16/100\n",
            "100/100 [==============================] - 3s 26ms/step - loss: 3.1202 - acc: 0.2403 - val_loss: 3.2254 - val_acc: 0.2261\n",
            "Epoch 17/100\n",
            "100/100 [==============================] - 3s 26ms/step - loss: 3.1201 - acc: 0.2409 - val_loss: 3.2266 - val_acc: 0.2244\n",
            "Epoch 18/100\n",
            "100/100 [==============================] - 3s 35ms/step - loss: 3.1196 - acc: 0.2402 - val_loss: 3.2256 - val_acc: 0.2268\n",
            "Epoch 19/100\n",
            "100/100 [==============================] - 3s 31ms/step - loss: 3.1187 - acc: 0.2407 - val_loss: 3.2258 - val_acc: 0.2264\n",
            "Epoch 20/100\n",
            "100/100 [==============================] - 3s 30ms/step - loss: 3.1190 - acc: 0.2405 - val_loss: 3.2296 - val_acc: 0.2260\n",
            "Epoch 21/100\n",
            "100/100 [==============================] - 3s 26ms/step - loss: 3.1185 - acc: 0.2409 - val_loss: 3.2254 - val_acc: 0.2267\n",
            "Epoch 22/100\n",
            "100/100 [==============================] - 3s 31ms/step - loss: 3.1177 - acc: 0.2410 - val_loss: 3.2270 - val_acc: 0.2261\n",
            "Epoch 23/100\n",
            "100/100 [==============================] - 3s 26ms/step - loss: 3.1174 - acc: 0.2413 - val_loss: 3.2267 - val_acc: 0.2272\n",
            "Epoch 24/100\n",
            "100/100 [==============================] - 3s 31ms/step - loss: 3.1171 - acc: 0.2411 - val_loss: 3.2282 - val_acc: 0.2268\n",
            "Epoch 25/100\n",
            "100/100 [==============================] - 3s 26ms/step - loss: 3.1168 - acc: 0.2412 - val_loss: 3.2263 - val_acc: 0.2267\n",
            "Epoch 26/100\n",
            "100/100 [==============================] - 3s 31ms/step - loss: 3.1165 - acc: 0.2411 - val_loss: 3.2258 - val_acc: 0.2272\n",
            "Epoch 27/100\n",
            "100/100 [==============================] - 3s 31ms/step - loss: 3.1160 - acc: 0.2412 - val_loss: 3.2252 - val_acc: 0.2267\n",
            "Epoch 28/100\n",
            "100/100 [==============================] - 3s 25ms/step - loss: 3.1154 - acc: 0.2407 - val_loss: 3.2255 - val_acc: 0.2270\n",
            "Epoch 29/100\n",
            "100/100 [==============================] - 3s 25ms/step - loss: 3.1152 - acc: 0.2421 - val_loss: 3.2261 - val_acc: 0.2266\n",
            "Epoch 30/100\n",
            "100/100 [==============================] - 3s 30ms/step - loss: 3.1148 - acc: 0.2409 - val_loss: 3.2251 - val_acc: 0.2272\n",
            "Epoch 31/100\n",
            "100/100 [==============================] - 3s 27ms/step - loss: 3.1144 - acc: 0.2411 - val_loss: 3.2257 - val_acc: 0.2263\n",
            "Epoch 32/100\n",
            "100/100 [==============================] - 3s 31ms/step - loss: 3.1141 - acc: 0.2418 - val_loss: 3.2243 - val_acc: 0.2283\n",
            "Epoch 33/100\n",
            "100/100 [==============================] - 3s 30ms/step - loss: 3.1136 - acc: 0.2417 - val_loss: 3.2237 - val_acc: 0.2254\n",
            "Epoch 34/100\n",
            "100/100 [==============================] - 3s 31ms/step - loss: 3.1129 - acc: 0.2417 - val_loss: 3.2252 - val_acc: 0.2261\n",
            "Epoch 35/100\n",
            "100/100 [==============================] - 3s 27ms/step - loss: 3.1128 - acc: 0.2422 - val_loss: 3.2250 - val_acc: 0.2268\n",
            "Epoch 36/100\n",
            "100/100 [==============================] - 3s 26ms/step - loss: 3.1124 - acc: 0.2421 - val_loss: 3.2232 - val_acc: 0.2261\n",
            "Epoch 37/100\n",
            "100/100 [==============================] - 3s 30ms/step - loss: 3.1117 - acc: 0.2420 - val_loss: 3.2247 - val_acc: 0.2265\n",
            "Epoch 38/100\n",
            "100/100 [==============================] - 3s 26ms/step - loss: 3.1115 - acc: 0.2411 - val_loss: 3.2240 - val_acc: 0.2280\n",
            "Epoch 39/100\n",
            "100/100 [==============================] - 3s 30ms/step - loss: 3.1112 - acc: 0.2416 - val_loss: 3.2233 - val_acc: 0.2266\n",
            "Epoch 40/100\n",
            "100/100 [==============================] - 3s 31ms/step - loss: 3.1106 - acc: 0.2419 - val_loss: 3.2237 - val_acc: 0.2263\n",
            "Epoch 41/100\n",
            "100/100 [==============================] - 3s 31ms/step - loss: 3.1110 - acc: 0.2421 - val_loss: 3.2236 - val_acc: 0.2275\n",
            "Epoch 42/100\n",
            "100/100 [==============================] - 3s 31ms/step - loss: 3.1099 - acc: 0.2425 - val_loss: 3.2230 - val_acc: 0.2273\n",
            "Epoch 43/100\n",
            "100/100 [==============================] - 3s 32ms/step - loss: 3.1095 - acc: 0.2422 - val_loss: 3.2224 - val_acc: 0.2254\n",
            "Epoch 44/100\n",
            "100/100 [==============================] - 3s 27ms/step - loss: 3.1102 - acc: 0.2421 - val_loss: 3.2228 - val_acc: 0.2271\n",
            "Epoch 45/100\n",
            "100/100 [==============================] - 3s 31ms/step - loss: 3.1087 - acc: 0.2423 - val_loss: 3.2223 - val_acc: 0.2251\n",
            "Epoch 46/100\n",
            "100/100 [==============================] - 3s 26ms/step - loss: 3.1090 - acc: 0.2431 - val_loss: 3.2244 - val_acc: 0.2264\n",
            "Epoch 47/100\n",
            "100/100 [==============================] - 3s 31ms/step - loss: 3.1075 - acc: 0.2424 - val_loss: 3.2235 - val_acc: 0.2260\n",
            "Epoch 48/100\n",
            "100/100 [==============================] - 3s 27ms/step - loss: 3.1076 - acc: 0.2422 - val_loss: 3.2213 - val_acc: 0.2276\n",
            "Epoch 49/100\n",
            "100/100 [==============================] - 3s 26ms/step - loss: 3.1075 - acc: 0.2424 - val_loss: 3.2221 - val_acc: 0.2268\n",
            "Epoch 50/100\n",
            "100/100 [==============================] - 3s 26ms/step - loss: 3.1069 - acc: 0.2427 - val_loss: 3.2213 - val_acc: 0.2268\n",
            "Epoch 51/100\n",
            "100/100 [==============================] - 3s 31ms/step - loss: 3.1066 - acc: 0.2422 - val_loss: 3.2232 - val_acc: 0.2271\n",
            "Epoch 52/100\n",
            "100/100 [==============================] - 3s 27ms/step - loss: 3.1068 - acc: 0.2427 - val_loss: 3.2210 - val_acc: 0.2261\n",
            "Epoch 53/100\n",
            "100/100 [==============================] - 3s 26ms/step - loss: 3.1063 - acc: 0.2430 - val_loss: 3.2216 - val_acc: 0.2274\n",
            "Epoch 54/100\n",
            "100/100 [==============================] - 3s 26ms/step - loss: 3.1055 - acc: 0.2430 - val_loss: 3.2205 - val_acc: 0.2269\n",
            "Epoch 55/100\n",
            "100/100 [==============================] - 3s 31ms/step - loss: 3.1047 - acc: 0.2430 - val_loss: 3.2220 - val_acc: 0.2275\n",
            "Epoch 56/100\n",
            "100/100 [==============================] - 3s 30ms/step - loss: 3.1048 - acc: 0.2435 - val_loss: 3.2197 - val_acc: 0.2284\n",
            "Epoch 57/100\n",
            "100/100 [==============================] - 3s 30ms/step - loss: 3.1039 - acc: 0.2429 - val_loss: 3.2217 - val_acc: 0.2262\n",
            "Epoch 58/100\n",
            "100/100 [==============================] - 3s 26ms/step - loss: 3.1039 - acc: 0.2433 - val_loss: 3.2210 - val_acc: 0.2280\n",
            "Epoch 59/100\n",
            "100/100 [==============================] - 3s 31ms/step - loss: 3.1034 - acc: 0.2438 - val_loss: 3.2214 - val_acc: 0.2271\n",
            "Epoch 60/100\n",
            "100/100 [==============================] - 3s 30ms/step - loss: 3.1034 - acc: 0.2432 - val_loss: 3.2207 - val_acc: 0.2280\n",
            "Epoch 61/100\n",
            "100/100 [==============================] - 3s 31ms/step - loss: 3.1029 - acc: 0.2439 - val_loss: 3.2203 - val_acc: 0.2276\n",
            "Epoch 62/100\n",
            "100/100 [==============================] - 3s 26ms/step - loss: 3.1022 - acc: 0.2438 - val_loss: 3.2200 - val_acc: 0.2281\n",
            "Epoch 63/100\n",
            "100/100 [==============================] - 3s 26ms/step - loss: 3.1020 - acc: 0.2424 - val_loss: 3.2188 - val_acc: 0.2276\n",
            "Epoch 64/100\n",
            "100/100 [==============================] - 3s 28ms/step - loss: 3.1013 - acc: 0.2443 - val_loss: 3.2202 - val_acc: 0.2272\n",
            "Epoch 65/100\n",
            "100/100 [==============================] - 3s 28ms/step - loss: 3.1008 - acc: 0.2437 - val_loss: 3.2201 - val_acc: 0.2278\n",
            "Epoch 66/100\n",
            "100/100 [==============================] - 3s 26ms/step - loss: 3.1018 - acc: 0.2433 - val_loss: 3.2196 - val_acc: 0.2274\n",
            "Epoch 67/100\n",
            "100/100 [==============================] - 3s 31ms/step - loss: 3.1007 - acc: 0.2440 - val_loss: 3.2182 - val_acc: 0.2280\n",
            "Epoch 68/100\n",
            "100/100 [==============================] - 3s 31ms/step - loss: 3.1003 - acc: 0.2444 - val_loss: 3.2197 - val_acc: 0.2264\n",
            "Epoch 69/100\n",
            "100/100 [==============================] - 3s 32ms/step - loss: 3.0998 - acc: 0.2445 - val_loss: 3.2182 - val_acc: 0.2284\n",
            "Epoch 70/100\n",
            "100/100 [==============================] - 3s 32ms/step - loss: 3.0994 - acc: 0.2440 - val_loss: 3.2184 - val_acc: 0.2286\n",
            "Epoch 71/100\n",
            "100/100 [==============================] - 3s 27ms/step - loss: 3.0988 - acc: 0.2445 - val_loss: 3.2178 - val_acc: 0.2286\n",
            "Epoch 72/100\n",
            "100/100 [==============================] - 3s 31ms/step - loss: 3.0990 - acc: 0.2441 - val_loss: 3.2176 - val_acc: 0.2272\n",
            "Epoch 73/100\n",
            "100/100 [==============================] - 3s 31ms/step - loss: 3.0985 - acc: 0.2442 - val_loss: 3.2176 - val_acc: 0.2278\n",
            "Epoch 74/100\n",
            "100/100 [==============================] - 3s 26ms/step - loss: 3.0981 - acc: 0.2441 - val_loss: 3.2167 - val_acc: 0.2279\n",
            "Epoch 75/100\n",
            "100/100 [==============================] - 3s 26ms/step - loss: 3.0977 - acc: 0.2446 - val_loss: 3.2171 - val_acc: 0.2275\n",
            "Epoch 76/100\n",
            "100/100 [==============================] - 3s 31ms/step - loss: 3.0973 - acc: 0.2448 - val_loss: 3.2162 - val_acc: 0.2283\n",
            "Epoch 77/100\n",
            "100/100 [==============================] - 3s 30ms/step - loss: 3.0965 - acc: 0.2453 - val_loss: 3.2157 - val_acc: 0.2284\n",
            "Epoch 78/100\n",
            "100/100 [==============================] - 3s 31ms/step - loss: 3.0962 - acc: 0.2450 - val_loss: 3.2159 - val_acc: 0.2274\n",
            "Epoch 79/100\n",
            "100/100 [==============================] - 3s 26ms/step - loss: 3.0961 - acc: 0.2449 - val_loss: 3.2173 - val_acc: 0.2272\n",
            "Epoch 80/100\n",
            "100/100 [==============================] - 3s 31ms/step - loss: 3.0953 - acc: 0.2442 - val_loss: 3.2157 - val_acc: 0.2285\n",
            "Epoch 81/100\n",
            "100/100 [==============================] - 3s 31ms/step - loss: 3.0952 - acc: 0.2446 - val_loss: 3.2152 - val_acc: 0.2291\n",
            "Epoch 82/100\n",
            "100/100 [==============================] - 3s 32ms/step - loss: 3.0955 - acc: 0.2449 - val_loss: 3.2159 - val_acc: 0.2290\n",
            "Epoch 83/100\n",
            "100/100 [==============================] - 3s 31ms/step - loss: 3.0945 - acc: 0.2452 - val_loss: 3.2154 - val_acc: 0.2283\n",
            "Epoch 84/100\n",
            "100/100 [==============================] - 3s 31ms/step - loss: 3.0951 - acc: 0.2442 - val_loss: 3.2176 - val_acc: 0.2297\n",
            "Epoch 85/100\n",
            "100/100 [==============================] - 3s 29ms/step - loss: 3.0941 - acc: 0.2447 - val_loss: 3.2152 - val_acc: 0.2301\n",
            "Epoch 86/100\n",
            "100/100 [==============================] - 3s 27ms/step - loss: 3.0938 - acc: 0.2453 - val_loss: 3.2151 - val_acc: 0.2273\n",
            "Epoch 87/100\n",
            "100/100 [==============================] - 3s 31ms/step - loss: 3.0930 - acc: 0.2454 - val_loss: 3.2140 - val_acc: 0.2281\n",
            "Epoch 88/100\n",
            "100/100 [==============================] - 3s 26ms/step - loss: 3.0927 - acc: 0.2454 - val_loss: 3.2148 - val_acc: 0.2275\n",
            "Epoch 89/100\n",
            "100/100 [==============================] - 3s 26ms/step - loss: 3.0925 - acc: 0.2455 - val_loss: 3.2157 - val_acc: 0.2282\n",
            "Epoch 90/100\n",
            "100/100 [==============================] - 3s 32ms/step - loss: 3.0924 - acc: 0.2465 - val_loss: 3.2137 - val_acc: 0.2286\n",
            "Epoch 91/100\n",
            "100/100 [==============================] - 3s 31ms/step - loss: 3.0917 - acc: 0.2452 - val_loss: 3.2128 - val_acc: 0.2272\n",
            "Epoch 92/100\n",
            "100/100 [==============================] - 3s 26ms/step - loss: 3.0914 - acc: 0.2460 - val_loss: 3.2155 - val_acc: 0.2279\n",
            "Epoch 93/100\n",
            "100/100 [==============================] - 3s 31ms/step - loss: 3.0912 - acc: 0.2454 - val_loss: 3.2140 - val_acc: 0.2287\n",
            "Epoch 94/100\n",
            "100/100 [==============================] - 3s 30ms/step - loss: 3.0908 - acc: 0.2455 - val_loss: 3.2156 - val_acc: 0.2280\n",
            "Epoch 95/100\n",
            "100/100 [==============================] - 3s 26ms/step - loss: 3.0903 - acc: 0.2459 - val_loss: 3.2117 - val_acc: 0.2294\n",
            "Epoch 96/100\n",
            "100/100 [==============================] - 3s 26ms/step - loss: 3.0900 - acc: 0.2464 - val_loss: 3.2132 - val_acc: 0.2306\n",
            "Epoch 97/100\n",
            "100/100 [==============================] - 3s 26ms/step - loss: 3.0896 - acc: 0.2460 - val_loss: 3.2131 - val_acc: 0.2294\n",
            "Epoch 98/100\n",
            "100/100 [==============================] - 3s 31ms/step - loss: 3.0888 - acc: 0.2457 - val_loss: 3.2132 - val_acc: 0.2291\n",
            "Epoch 99/100\n",
            "100/100 [==============================] - 3s 27ms/step - loss: 3.0887 - acc: 0.2459 - val_loss: 3.2112 - val_acc: 0.2293\n",
            "Epoch 100/100\n",
            "100/100 [==============================] - 3s 25ms/step - loss: 3.0885 - acc: 0.2465 - val_loss: 3.2117 - val_acc: 0.2288\n",
            "Training time: 323.4463264942169\n"
          ]
        }
      ]
    },
    {
      "cell_type": "code",
      "source": [
        "plt.plot(history.history['acc'], label='accuracy')\n",
        "plt.plot(history.history['val_acc'], label = 'val_accuracy')\n",
        "plt.xlabel('Epoch')\n",
        "plt.ylabel('Accuracy')\n",
        "plt.legend(loc='lower right')"
      ],
      "metadata": {
        "colab": {
          "base_uri": "https://localhost:8080/",
          "height": 296
        },
        "id": "dgUV6q8DyotW",
        "outputId": "3e632486-fcc5-4da9-ff81-8d0c268981ca"
      },
      "execution_count": 51,
      "outputs": [
        {
          "output_type": "execute_result",
          "data": {
            "text/plain": [
              "<matplotlib.legend.Legend at 0x7f47201ff760>"
            ]
          },
          "metadata": {},
          "execution_count": 51
        },
        {
          "output_type": "display_data",
          "data": {
            "text/plain": [
              "<Figure size 432x288 with 1 Axes>"
            ],
            "image/png": "[encoded data removed]"
          },
          "metadata": {
            "needs_background": "light"
          }
        }
      ]
    },
    {
      "cell_type": "code",
      "source": [
        "test_loss, test_acc = model.evaluate(test_images,  test_labels, verbose=2)\n",
        "print(test_acc)"
      ],
      "metadata": {
        "colab": {
          "base_uri": "https://localhost:8080/",
          "height": 0
        },
        "id": "GDaa3dwa09uB",
        "outputId": "bbf209f1-eb23-4cd3-e878-c3bcd39ec7e2"
      },
      "execution_count": 52,
      "outputs": [
        {
          "output_type": "stream",
          "name": "stdout",
          "text": [
            "313/313 - 1s - loss: 3.2063 - acc: 0.2302 - 1s/epoch - 4ms/step\n",
            "0.23019999265670776\n"
          ]
        }
      ]
    },
    {
      "cell_type": "markdown",
      "source": [
        "##4 - Learning Rate: 1e-04, Epochs/Steps: 500/100, GPU as Hardware Accelerator, Training time: 24.22 minutes, Accuracy: 27.4%"
      ],
      "metadata": {
        "id": "aSHBfwOY1Lmt"
      }
    },
    {
      "cell_type": "code",
      "source": [
        "model.compile(optimizer=optimizers.Adam(learning_rate=1e-05),\n",
        "              loss='categorical_crossentropy',\n",
        "              metrics=['acc'])\n",
        "print(\"Learning rate before fourth fit:\", model.optimizer.learning_rate.numpy())"
      ],
      "metadata": {
        "colab": {
          "base_uri": "https://localhost:8080/",
          "height": 0
        },
        "id": "MnbGRiir1Tzs",
        "outputId": "58e418de-1bcd-4d3a-dbf9-6151a5f216a0"
      },
      "execution_count": 54,
      "outputs": [
        {
          "output_type": "stream",
          "name": "stdout",
          "text": [
            "Learning rate before fourth fit: 1e-05\n"
          ]
        }
      ]
    },
    {
      "cell_type": "code",
      "source": [
        "training_start = time.time()\n",
        "history = model.fit(train_images, train_labels,\n",
        "                    steps_per_epoch=100,\n",
        "                    epochs=500,\n",
        "                    validation_split=0.2) \n",
        "training_stop = time.time()\n",
        "training_time = training_stop - training_start\n",
        "print(f\"Training time: {training_time}\")"
      ],
      "metadata": {
        "colab": {
          "base_uri": "https://localhost:8080/",
          "height": 0
        },
        "id": "ImyDRzvy1cWk",
        "outputId": "ae9b1076-fe25-4ba9-f8e0-49c18db9659f"
      },
      "execution_count": 56,
      "outputs": [
        {
          "output_type": "stream",
          "name": "stdout",
          "text": [
            "Epoch 1/500\n",
            "100/100 [==============================] - 3s 35ms/step - loss: 2.9340 - acc: 0.2765 - val_loss: 3.0999 - val_acc: 0.2457\n",
            "Epoch 2/500\n",
            "100/100 [==============================] - 5s 45ms/step - loss: 2.9341 - acc: 0.2761 - val_loss: 3.0991 - val_acc: 0.2456\n",
            "Epoch 3/500\n",
            "100/100 [==============================] - 5s 48ms/step - loss: 2.9335 - acc: 0.2771 - val_loss: 3.0993 - val_acc: 0.2463\n",
            "Epoch 4/500\n",
            "100/100 [==============================] - 5s 52ms/step - loss: 2.9341 - acc: 0.2765 - val_loss: 3.1017 - val_acc: 0.2452\n",
            "Epoch 5/500\n",
            "100/100 [==============================] - 3s 31ms/step - loss: 2.9339 - acc: 0.2762 - val_loss: 3.0989 - val_acc: 0.2461\n",
            "Epoch 6/500\n",
            "100/100 [==============================] - 3s 30ms/step - loss: 2.9328 - acc: 0.2772 - val_loss: 3.0988 - val_acc: 0.2451\n",
            "Epoch 7/500\n",
            "100/100 [==============================] - 3s 30ms/step - loss: 2.9321 - acc: 0.2768 - val_loss: 3.0998 - val_acc: 0.2454\n",
            "Epoch 8/500\n",
            "100/100 [==============================] - 3s 25ms/step - loss: 2.9324 - acc: 0.2764 - val_loss: 3.0983 - val_acc: 0.2459\n",
            "Epoch 9/500\n",
            "100/100 [==============================] - 3s 30ms/step - loss: 2.9315 - acc: 0.2768 - val_loss: 3.0980 - val_acc: 0.2464\n",
            "Epoch 10/500\n",
            "100/100 [==============================] - 3s 30ms/step - loss: 2.9311 - acc: 0.2778 - val_loss: 3.0980 - val_acc: 0.2470\n",
            "Epoch 11/500\n",
            "100/100 [==============================] - 3s 27ms/step - loss: 2.9318 - acc: 0.2768 - val_loss: 3.1000 - val_acc: 0.2460\n",
            "Epoch 12/500\n",
            "100/100 [==============================] - 3s 27ms/step - loss: 2.9313 - acc: 0.2772 - val_loss: 3.0970 - val_acc: 0.2463\n",
            "Epoch 13/500\n",
            "100/100 [==============================] - 2s 25ms/step - loss: 2.9307 - acc: 0.2772 - val_loss: 3.0979 - val_acc: 0.2452\n",
            "Epoch 14/500\n",
            "100/100 [==============================] - 3s 30ms/step - loss: 2.9309 - acc: 0.2784 - val_loss: 3.0979 - val_acc: 0.2465\n",
            "Epoch 15/500\n",
            "100/100 [==============================] - 3s 30ms/step - loss: 2.9302 - acc: 0.2770 - val_loss: 3.0982 - val_acc: 0.2462\n",
            "Epoch 16/500\n",
            "100/100 [==============================] - 3s 31ms/step - loss: 2.9298 - acc: 0.2779 - val_loss: 3.0967 - val_acc: 0.2472\n",
            "Epoch 17/500\n",
            "100/100 [==============================] - 3s 25ms/step - loss: 2.9295 - acc: 0.2772 - val_loss: 3.0967 - val_acc: 0.2472\n",
            "Epoch 18/500\n",
            "100/100 [==============================] - 3s 30ms/step - loss: 2.9292 - acc: 0.2771 - val_loss: 3.0968 - val_acc: 0.2459\n",
            "Epoch 19/500\n",
            "100/100 [==============================] - 3s 30ms/step - loss: 2.9296 - acc: 0.2776 - val_loss: 3.0965 - val_acc: 0.2474\n",
            "Epoch 20/500\n",
            "100/100 [==============================] - 3s 31ms/step - loss: 2.9293 - acc: 0.2774 - val_loss: 3.0967 - val_acc: 0.2469\n",
            "Epoch 21/500\n",
            "100/100 [==============================] - 3s 27ms/step - loss: 2.9291 - acc: 0.2777 - val_loss: 3.0963 - val_acc: 0.2458\n",
            "Epoch 22/500\n",
            "100/100 [==============================] - 3s 34ms/step - loss: 2.9281 - acc: 0.2779 - val_loss: 3.0949 - val_acc: 0.2474\n",
            "Epoch 23/500\n",
            "100/100 [==============================] - 2s 25ms/step - loss: 2.9282 - acc: 0.2771 - val_loss: 3.0951 - val_acc: 0.2455\n",
            "Epoch 24/500\n",
            "100/100 [==============================] - 3s 29ms/step - loss: 2.9285 - acc: 0.2782 - val_loss: 3.0984 - val_acc: 0.2455\n",
            "Epoch 25/500\n",
            "100/100 [==============================] - 3s 26ms/step - loss: 2.9281 - acc: 0.2776 - val_loss: 3.0948 - val_acc: 0.2468\n",
            "Epoch 26/500\n",
            "100/100 [==============================] - 2s 25ms/step - loss: 2.9271 - acc: 0.2775 - val_loss: 3.0957 - val_acc: 0.2474\n",
            "Epoch 27/500\n",
            "100/100 [==============================] - 2s 25ms/step - loss: 2.9275 - acc: 0.2774 - val_loss: 3.0948 - val_acc: 0.2474\n",
            "Epoch 28/500\n",
            "100/100 [==============================] - 3s 25ms/step - loss: 2.9271 - acc: 0.2768 - val_loss: 3.0984 - val_acc: 0.2462\n",
            "Epoch 29/500\n",
            "100/100 [==============================] - 3s 30ms/step - loss: 2.9271 - acc: 0.2779 - val_loss: 3.0973 - val_acc: 0.2458\n",
            "Epoch 30/500\n",
            "100/100 [==============================] - 3s 25ms/step - loss: 2.9266 - acc: 0.2782 - val_loss: 3.0950 - val_acc: 0.2474\n",
            "Epoch 31/500\n",
            "100/100 [==============================] - 3s 30ms/step - loss: 2.9262 - acc: 0.2779 - val_loss: 3.0969 - val_acc: 0.2473\n",
            "Epoch 32/500\n",
            "100/100 [==============================] - 3s 25ms/step - loss: 2.9263 - acc: 0.2788 - val_loss: 3.0940 - val_acc: 0.2462\n",
            "Epoch 33/500\n",
            "100/100 [==============================] - 3s 27ms/step - loss: 2.9257 - acc: 0.2773 - val_loss: 3.0935 - val_acc: 0.2474\n",
            "Epoch 34/500\n",
            "100/100 [==============================] - 3s 31ms/step - loss: 2.9256 - acc: 0.2772 - val_loss: 3.0935 - val_acc: 0.2461\n",
            "Epoch 35/500\n",
            "100/100 [==============================] - 3s 30ms/step - loss: 2.9250 - acc: 0.2785 - val_loss: 3.0926 - val_acc: 0.2473\n",
            "Epoch 36/500\n",
            "100/100 [==============================] - 3s 30ms/step - loss: 2.9249 - acc: 0.2783 - val_loss: 3.0932 - val_acc: 0.2465\n",
            "Epoch 37/500\n",
            "100/100 [==============================] - 3s 30ms/step - loss: 2.9254 - acc: 0.2780 - val_loss: 3.0933 - val_acc: 0.2470\n",
            "Epoch 38/500\n",
            "100/100 [==============================] - 3s 31ms/step - loss: 2.9244 - acc: 0.2777 - val_loss: 3.0926 - val_acc: 0.2472\n",
            "Epoch 39/500\n",
            "100/100 [==============================] - 2s 25ms/step - loss: 2.9245 - acc: 0.2781 - val_loss: 3.0926 - val_acc: 0.2476\n",
            "Epoch 40/500\n",
            "100/100 [==============================] - 3s 31ms/step - loss: 2.9241 - acc: 0.2773 - val_loss: 3.0925 - val_acc: 0.2462\n",
            "Epoch 41/500\n",
            "100/100 [==============================] - 3s 30ms/step - loss: 2.9232 - acc: 0.2780 - val_loss: 3.0933 - val_acc: 0.2472\n",
            "Epoch 42/500\n",
            "100/100 [==============================] - 3s 28ms/step - loss: 2.9230 - acc: 0.2783 - val_loss: 3.0927 - val_acc: 0.2466\n",
            "Epoch 43/500\n",
            "100/100 [==============================] - 3s 25ms/step - loss: 2.9234 - acc: 0.2787 - val_loss: 3.0918 - val_acc: 0.2478\n",
            "Epoch 44/500\n",
            "100/100 [==============================] - 3s 30ms/step - loss: 2.9230 - acc: 0.2789 - val_loss: 3.0917 - val_acc: 0.2472\n",
            "Epoch 45/500\n",
            "100/100 [==============================] - 3s 25ms/step - loss: 2.9224 - acc: 0.2786 - val_loss: 3.0934 - val_acc: 0.2463\n",
            "Epoch 46/500\n",
            "100/100 [==============================] - 3s 30ms/step - loss: 2.9221 - acc: 0.2783 - val_loss: 3.0933 - val_acc: 0.2475\n",
            "Epoch 47/500\n",
            "100/100 [==============================] - 3s 30ms/step - loss: 2.9221 - acc: 0.2783 - val_loss: 3.0910 - val_acc: 0.2460\n",
            "Epoch 48/500\n",
            "100/100 [==============================] - 3s 30ms/step - loss: 2.9218 - acc: 0.2790 - val_loss: 3.0944 - val_acc: 0.2462\n",
            "Epoch 49/500\n",
            "100/100 [==============================] - 3s 30ms/step - loss: 2.9216 - acc: 0.2785 - val_loss: 3.0916 - val_acc: 0.2468\n",
            "Epoch 50/500\n",
            "100/100 [==============================] - 3s 29ms/step - loss: 2.9213 - acc: 0.2784 - val_loss: 3.0915 - val_acc: 0.2469\n",
            "Epoch 51/500\n",
            "100/100 [==============================] - 3s 31ms/step - loss: 2.9216 - acc: 0.2788 - val_loss: 3.0948 - val_acc: 0.2453\n",
            "Epoch 52/500\n",
            "100/100 [==============================] - 3s 30ms/step - loss: 2.9213 - acc: 0.2786 - val_loss: 3.0899 - val_acc: 0.2484\n",
            "Epoch 53/500\n",
            "100/100 [==============================] - 3s 30ms/step - loss: 2.9200 - acc: 0.2784 - val_loss: 3.0905 - val_acc: 0.2458\n",
            "Epoch 54/500\n",
            "100/100 [==============================] - 3s 30ms/step - loss: 2.9200 - acc: 0.2792 - val_loss: 3.0892 - val_acc: 0.2479\n",
            "Epoch 55/500\n",
            "100/100 [==============================] - 3s 30ms/step - loss: 2.9197 - acc: 0.2790 - val_loss: 3.0905 - val_acc: 0.2472\n",
            "Epoch 56/500\n",
            "100/100 [==============================] - 3s 25ms/step - loss: 2.9199 - acc: 0.2792 - val_loss: 3.0901 - val_acc: 0.2470\n",
            "Epoch 57/500\n",
            "100/100 [==============================] - 3s 30ms/step - loss: 2.9187 - acc: 0.2793 - val_loss: 3.0893 - val_acc: 0.2475\n",
            "Epoch 58/500\n",
            "100/100 [==============================] - 3s 26ms/step - loss: 2.9192 - acc: 0.2789 - val_loss: 3.0897 - val_acc: 0.2479\n",
            "Epoch 59/500\n",
            "100/100 [==============================] - 3s 31ms/step - loss: 2.9187 - acc: 0.2783 - val_loss: 3.0910 - val_acc: 0.2461\n",
            "Epoch 60/500\n",
            "100/100 [==============================] - 3s 25ms/step - loss: 2.9191 - acc: 0.2793 - val_loss: 3.0898 - val_acc: 0.2470\n",
            "Epoch 61/500\n",
            "100/100 [==============================] - 3s 30ms/step - loss: 2.9192 - acc: 0.2791 - val_loss: 3.0906 - val_acc: 0.2480\n",
            "Epoch 62/500\n",
            "100/100 [==============================] - 3s 30ms/step - loss: 2.9187 - acc: 0.2794 - val_loss: 3.0884 - val_acc: 0.2496\n",
            "Epoch 63/500\n",
            "100/100 [==============================] - 3s 31ms/step - loss: 2.9176 - acc: 0.2796 - val_loss: 3.0886 - val_acc: 0.2474\n",
            "Epoch 64/500\n",
            "100/100 [==============================] - 3s 25ms/step - loss: 2.9178 - acc: 0.2795 - val_loss: 3.0874 - val_acc: 0.2486\n",
            "Epoch 65/500\n",
            "100/100 [==============================] - 3s 25ms/step - loss: 2.9173 - acc: 0.2788 - val_loss: 3.0886 - val_acc: 0.2469\n",
            "Epoch 66/500\n",
            "100/100 [==============================] - 3s 26ms/step - loss: 2.9173 - acc: 0.2791 - val_loss: 3.0872 - val_acc: 0.2487\n",
            "Epoch 67/500\n",
            "100/100 [==============================] - 3s 30ms/step - loss: 2.9171 - acc: 0.2799 - val_loss: 3.0869 - val_acc: 0.2485\n",
            "Epoch 68/500\n",
            "100/100 [==============================] - 3s 31ms/step - loss: 2.9171 - acc: 0.2799 - val_loss: 3.0878 - val_acc: 0.2492\n",
            "Epoch 69/500\n",
            "100/100 [==============================] - 3s 30ms/step - loss: 2.9168 - acc: 0.2793 - val_loss: 3.0877 - val_acc: 0.2471\n",
            "Epoch 70/500\n",
            "100/100 [==============================] - 3s 30ms/step - loss: 2.9157 - acc: 0.2793 - val_loss: 3.0861 - val_acc: 0.2480\n",
            "Epoch 71/500\n",
            "100/100 [==============================] - 3s 30ms/step - loss: 2.9161 - acc: 0.2791 - val_loss: 3.0869 - val_acc: 0.2466\n",
            "Epoch 72/500\n",
            "100/100 [==============================] - 3s 26ms/step - loss: 2.9157 - acc: 0.2800 - val_loss: 3.0868 - val_acc: 0.2484\n",
            "Epoch 73/500\n",
            "100/100 [==============================] - 3s 25ms/step - loss: 2.9159 - acc: 0.2801 - val_loss: 3.0865 - val_acc: 0.2481\n",
            "Epoch 74/500\n",
            "100/100 [==============================] - 3s 25ms/step - loss: 2.9156 - acc: 0.2796 - val_loss: 3.0868 - val_acc: 0.2481\n",
            "Epoch 75/500\n",
            "100/100 [==============================] - 3s 25ms/step - loss: 2.9153 - acc: 0.2799 - val_loss: 3.0866 - val_acc: 0.2484\n",
            "Epoch 76/500\n",
            "100/100 [==============================] - 3s 31ms/step - loss: 2.9148 - acc: 0.2797 - val_loss: 3.0858 - val_acc: 0.2477\n",
            "Epoch 77/500\n",
            "100/100 [==============================] - 3s 30ms/step - loss: 2.9145 - acc: 0.2796 - val_loss: 3.0845 - val_acc: 0.2479\n",
            "Epoch 78/500\n",
            "100/100 [==============================] - 3s 26ms/step - loss: 2.9144 - acc: 0.2790 - val_loss: 3.0863 - val_acc: 0.2487\n",
            "Epoch 79/500\n",
            "100/100 [==============================] - 3s 30ms/step - loss: 2.9136 - acc: 0.2790 - val_loss: 3.0853 - val_acc: 0.2484\n",
            "Epoch 80/500\n",
            "100/100 [==============================] - 3s 29ms/step - loss: 2.9147 - acc: 0.2800 - val_loss: 3.0856 - val_acc: 0.2480\n",
            "Epoch 81/500\n",
            "100/100 [==============================] - 3s 30ms/step - loss: 2.9137 - acc: 0.2802 - val_loss: 3.0844 - val_acc: 0.2480\n",
            "Epoch 82/500\n",
            "100/100 [==============================] - 3s 30ms/step - loss: 2.9132 - acc: 0.2803 - val_loss: 3.0858 - val_acc: 0.2493\n",
            "Epoch 83/500\n",
            "100/100 [==============================] - 3s 25ms/step - loss: 2.9128 - acc: 0.2817 - val_loss: 3.0844 - val_acc: 0.2491\n",
            "Epoch 84/500\n",
            "100/100 [==============================] - 3s 30ms/step - loss: 2.9123 - acc: 0.2806 - val_loss: 3.0850 - val_acc: 0.2492\n",
            "Epoch 85/500\n",
            "100/100 [==============================] - 3s 31ms/step - loss: 2.9128 - acc: 0.2807 - val_loss: 3.0849 - val_acc: 0.2482\n",
            "Epoch 86/500\n",
            "100/100 [==============================] - 3s 30ms/step - loss: 2.9120 - acc: 0.2803 - val_loss: 3.0844 - val_acc: 0.2489\n",
            "Epoch 87/500\n",
            "100/100 [==============================] - 3s 25ms/step - loss: 2.9117 - acc: 0.2793 - val_loss: 3.0850 - val_acc: 0.2481\n",
            "Epoch 88/500\n",
            "100/100 [==============================] - 3s 26ms/step - loss: 2.9119 - acc: 0.2808 - val_loss: 3.0873 - val_acc: 0.2474\n",
            "Epoch 89/500\n",
            "100/100 [==============================] - 3s 32ms/step - loss: 2.9124 - acc: 0.2803 - val_loss: 3.0834 - val_acc: 0.2473\n",
            "Epoch 90/500\n",
            "100/100 [==============================] - 3s 30ms/step - loss: 2.9112 - acc: 0.2824 - val_loss: 3.0823 - val_acc: 0.2493\n",
            "Epoch 91/500\n",
            "100/100 [==============================] - 3s 30ms/step - loss: 2.9104 - acc: 0.2814 - val_loss: 3.0844 - val_acc: 0.2474\n",
            "Epoch 92/500\n",
            "100/100 [==============================] - 2s 25ms/step - loss: 2.9106 - acc: 0.2810 - val_loss: 3.0835 - val_acc: 0.2478\n",
            "Epoch 93/500\n",
            "100/100 [==============================] - 3s 30ms/step - loss: 2.9108 - acc: 0.2807 - val_loss: 3.0864 - val_acc: 0.2481\n",
            "Epoch 94/500\n",
            "100/100 [==============================] - 3s 30ms/step - loss: 2.9102 - acc: 0.2807 - val_loss: 3.0835 - val_acc: 0.2497\n",
            "Epoch 95/500\n",
            "100/100 [==============================] - 3s 25ms/step - loss: 2.9102 - acc: 0.2808 - val_loss: 3.0823 - val_acc: 0.2487\n",
            "Epoch 96/500\n",
            "100/100 [==============================] - 3s 30ms/step - loss: 2.9101 - acc: 0.2808 - val_loss: 3.0818 - val_acc: 0.2500\n",
            "Epoch 97/500\n",
            "100/100 [==============================] - 3s 30ms/step - loss: 2.9096 - acc: 0.2810 - val_loss: 3.0822 - val_acc: 0.2491\n",
            "Epoch 98/500\n",
            "100/100 [==============================] - 3s 30ms/step - loss: 2.9088 - acc: 0.2814 - val_loss: 3.0814 - val_acc: 0.2496\n",
            "Epoch 99/500\n",
            "100/100 [==============================] - 3s 31ms/step - loss: 2.9089 - acc: 0.2807 - val_loss: 3.0812 - val_acc: 0.2475\n",
            "Epoch 100/500\n",
            "100/100 [==============================] - 3s 25ms/step - loss: 2.9086 - acc: 0.2810 - val_loss: 3.0826 - val_acc: 0.2484\n",
            "Epoch 101/500\n",
            "100/100 [==============================] - 3s 30ms/step - loss: 2.9082 - acc: 0.2809 - val_loss: 3.0818 - val_acc: 0.2499\n",
            "Epoch 102/500\n",
            "100/100 [==============================] - 3s 31ms/step - loss: 2.9080 - acc: 0.2818 - val_loss: 3.0805 - val_acc: 0.2514\n",
            "Epoch 103/500\n",
            "100/100 [==============================] - 3s 30ms/step - loss: 2.9082 - acc: 0.2797 - val_loss: 3.0822 - val_acc: 0.2487\n",
            "Epoch 104/500\n",
            "100/100 [==============================] - 3s 30ms/step - loss: 2.9073 - acc: 0.2808 - val_loss: 3.0806 - val_acc: 0.2513\n",
            "Epoch 105/500\n",
            "100/100 [==============================] - 3s 29ms/step - loss: 2.9081 - acc: 0.2808 - val_loss: 3.0864 - val_acc: 0.2448\n",
            "Epoch 106/500\n",
            "100/100 [==============================] - 3s 26ms/step - loss: 2.9071 - acc: 0.2815 - val_loss: 3.0807 - val_acc: 0.2500\n",
            "Epoch 107/500\n",
            "100/100 [==============================] - 3s 26ms/step - loss: 2.9066 - acc: 0.2819 - val_loss: 3.0818 - val_acc: 0.2487\n",
            "Epoch 108/500\n",
            "100/100 [==============================] - 3s 30ms/step - loss: 2.9068 - acc: 0.2816 - val_loss: 3.0820 - val_acc: 0.2494\n",
            "Epoch 109/500\n",
            "100/100 [==============================] - 3s 30ms/step - loss: 2.9065 - acc: 0.2812 - val_loss: 3.0791 - val_acc: 0.2504\n",
            "Epoch 110/500\n",
            "100/100 [==============================] - 3s 31ms/step - loss: 2.9062 - acc: 0.2816 - val_loss: 3.0817 - val_acc: 0.2485\n",
            "Epoch 111/500\n",
            "100/100 [==============================] - 3s 30ms/step - loss: 2.9063 - acc: 0.2821 - val_loss: 3.0803 - val_acc: 0.2497\n",
            "Epoch 112/500\n",
            "100/100 [==============================] - 2s 25ms/step - loss: 2.9055 - acc: 0.2809 - val_loss: 3.0808 - val_acc: 0.2488\n",
            "Epoch 113/500\n",
            "100/100 [==============================] - 3s 30ms/step - loss: 2.9051 - acc: 0.2821 - val_loss: 3.0789 - val_acc: 0.2499\n",
            "Epoch 114/500\n",
            "100/100 [==============================] - 3s 30ms/step - loss: 2.9049 - acc: 0.2819 - val_loss: 3.0783 - val_acc: 0.2493\n",
            "Epoch 115/500\n",
            "100/100 [==============================] - 3s 25ms/step - loss: 2.9046 - acc: 0.2815 - val_loss: 3.0784 - val_acc: 0.2490\n",
            "Epoch 116/500\n",
            "100/100 [==============================] - 3s 26ms/step - loss: 2.9053 - acc: 0.2823 - val_loss: 3.0798 - val_acc: 0.2495\n",
            "Epoch 117/500\n",
            "100/100 [==============================] - 3s 25ms/step - loss: 2.9042 - acc: 0.2817 - val_loss: 3.0799 - val_acc: 0.2486\n",
            "Epoch 118/500\n",
            "100/100 [==============================] - 3s 25ms/step - loss: 2.9044 - acc: 0.2820 - val_loss: 3.0780 - val_acc: 0.2502\n",
            "Epoch 119/500\n",
            "100/100 [==============================] - 3s 28ms/step - loss: 2.9042 - acc: 0.2824 - val_loss: 3.0799 - val_acc: 0.2477\n",
            "Epoch 120/500\n",
            "100/100 [==============================] - 3s 30ms/step - loss: 2.9038 - acc: 0.2819 - val_loss: 3.0786 - val_acc: 0.2506\n",
            "Epoch 121/500\n",
            "100/100 [==============================] - 3s 25ms/step - loss: 2.9032 - acc: 0.2822 - val_loss: 3.0770 - val_acc: 0.2512\n",
            "Epoch 122/500\n",
            "100/100 [==============================] - 3s 30ms/step - loss: 2.9035 - acc: 0.2824 - val_loss: 3.0770 - val_acc: 0.2489\n",
            "Epoch 123/500\n",
            "100/100 [==============================] - 3s 30ms/step - loss: 2.9028 - acc: 0.2818 - val_loss: 3.0775 - val_acc: 0.2495\n",
            "Epoch 124/500\n",
            "100/100 [==============================] - 3s 30ms/step - loss: 2.9024 - acc: 0.2823 - val_loss: 3.0769 - val_acc: 0.2482\n",
            "Epoch 125/500\n",
            "100/100 [==============================] - 3s 25ms/step - loss: 2.9021 - acc: 0.2820 - val_loss: 3.0777 - val_acc: 0.2507\n",
            "Epoch 126/500\n",
            "100/100 [==============================] - 3s 25ms/step - loss: 2.9022 - acc: 0.2818 - val_loss: 3.0767 - val_acc: 0.2505\n",
            "Epoch 127/500\n",
            "100/100 [==============================] - 3s 27ms/step - loss: 2.9021 - acc: 0.2825 - val_loss: 3.0784 - val_acc: 0.2496\n",
            "Epoch 128/500\n",
            "100/100 [==============================] - 3s 31ms/step - loss: 2.9020 - acc: 0.2820 - val_loss: 3.0778 - val_acc: 0.2513\n",
            "Epoch 129/500\n",
            "100/100 [==============================] - 3s 26ms/step - loss: 2.9012 - acc: 0.2831 - val_loss: 3.0754 - val_acc: 0.2507\n",
            "Epoch 130/500\n",
            "100/100 [==============================] - 3s 25ms/step - loss: 2.9013 - acc: 0.2819 - val_loss: 3.0781 - val_acc: 0.2501\n",
            "Epoch 131/500\n",
            "100/100 [==============================] - 3s 30ms/step - loss: 2.9012 - acc: 0.2828 - val_loss: 3.0767 - val_acc: 0.2486\n",
            "Epoch 132/500\n",
            "100/100 [==============================] - 3s 31ms/step - loss: 2.9007 - acc: 0.2822 - val_loss: 3.0763 - val_acc: 0.2485\n",
            "Epoch 133/500\n",
            "100/100 [==============================] - 3s 30ms/step - loss: 2.9009 - acc: 0.2827 - val_loss: 3.0782 - val_acc: 0.2490\n",
            "Epoch 134/500\n",
            "100/100 [==============================] - 3s 30ms/step - loss: 2.9008 - acc: 0.2819 - val_loss: 3.0762 - val_acc: 0.2497\n",
            "Epoch 135/500\n",
            "100/100 [==============================] - 3s 26ms/step - loss: 2.9002 - acc: 0.2828 - val_loss: 3.0754 - val_acc: 0.2501\n",
            "Epoch 136/500\n",
            "100/100 [==============================] - 3s 31ms/step - loss: 2.9000 - acc: 0.2829 - val_loss: 3.0763 - val_acc: 0.2494\n",
            "Epoch 137/500\n",
            "100/100 [==============================] - 3s 25ms/step - loss: 2.9006 - acc: 0.2827 - val_loss: 3.0750 - val_acc: 0.2497\n",
            "Epoch 138/500\n",
            "100/100 [==============================] - 3s 25ms/step - loss: 2.8998 - acc: 0.2826 - val_loss: 3.0757 - val_acc: 0.2501\n",
            "Epoch 139/500\n",
            "100/100 [==============================] - 3s 25ms/step - loss: 2.8994 - acc: 0.2829 - val_loss: 3.0771 - val_acc: 0.2497\n",
            "Epoch 140/500\n",
            "100/100 [==============================] - 3s 26ms/step - loss: 2.8994 - acc: 0.2828 - val_loss: 3.0738 - val_acc: 0.2508\n",
            "Epoch 141/500\n",
            "100/100 [==============================] - 3s 29ms/step - loss: 2.8985 - acc: 0.2828 - val_loss: 3.0745 - val_acc: 0.2510\n",
            "Epoch 142/500\n",
            "100/100 [==============================] - 3s 25ms/step - loss: 2.8993 - acc: 0.2824 - val_loss: 3.0748 - val_acc: 0.2497\n",
            "Epoch 143/500\n",
            "100/100 [==============================] - 3s 26ms/step - loss: 2.8993 - acc: 0.2828 - val_loss: 3.0750 - val_acc: 0.2501\n",
            "Epoch 144/500\n",
            "100/100 [==============================] - 3s 30ms/step - loss: 2.8978 - acc: 0.2826 - val_loss: 3.0744 - val_acc: 0.2507\n",
            "Epoch 145/500\n",
            "100/100 [==============================] - 3s 30ms/step - loss: 2.8978 - acc: 0.2837 - val_loss: 3.0772 - val_acc: 0.2489\n",
            "Epoch 146/500\n",
            "100/100 [==============================] - 3s 27ms/step - loss: 2.8980 - acc: 0.2831 - val_loss: 3.0743 - val_acc: 0.2496\n",
            "Epoch 147/500\n",
            "100/100 [==============================] - 3s 25ms/step - loss: 2.8976 - acc: 0.2829 - val_loss: 3.0731 - val_acc: 0.2508\n",
            "Epoch 148/500\n",
            "100/100 [==============================] - 3s 30ms/step - loss: 2.8968 - acc: 0.2840 - val_loss: 3.0735 - val_acc: 0.2493\n",
            "Epoch 149/500\n",
            "100/100 [==============================] - 3s 26ms/step - loss: 2.8970 - acc: 0.2829 - val_loss: 3.0753 - val_acc: 0.2482\n",
            "Epoch 150/500\n",
            "100/100 [==============================] - 3s 32ms/step - loss: 2.8972 - acc: 0.2829 - val_loss: 3.0746 - val_acc: 0.2509\n",
            "Epoch 151/500\n",
            "100/100 [==============================] - 3s 30ms/step - loss: 2.8960 - acc: 0.2831 - val_loss: 3.0742 - val_acc: 0.2496\n",
            "Epoch 152/500\n",
            "100/100 [==============================] - 3s 25ms/step - loss: 2.8956 - acc: 0.2832 - val_loss: 3.0720 - val_acc: 0.2512\n",
            "Epoch 153/500\n",
            "100/100 [==============================] - 3s 30ms/step - loss: 2.8956 - acc: 0.2838 - val_loss: 3.0723 - val_acc: 0.2519\n",
            "Epoch 154/500\n",
            "100/100 [==============================] - 3s 31ms/step - loss: 2.8956 - acc: 0.2840 - val_loss: 3.0722 - val_acc: 0.2514\n",
            "Epoch 155/500\n",
            "100/100 [==============================] - 3s 25ms/step - loss: 2.8955 - acc: 0.2837 - val_loss: 3.0726 - val_acc: 0.2491\n",
            "Epoch 156/500\n",
            "100/100 [==============================] - 3s 31ms/step - loss: 2.8954 - acc: 0.2837 - val_loss: 3.0740 - val_acc: 0.2489\n",
            "Epoch 157/500\n",
            "100/100 [==============================] - 3s 30ms/step - loss: 2.8950 - acc: 0.2835 - val_loss: 3.0719 - val_acc: 0.2522\n",
            "Epoch 158/500\n",
            "100/100 [==============================] - 3s 31ms/step - loss: 2.8949 - acc: 0.2827 - val_loss: 3.0725 - val_acc: 0.2513\n",
            "Epoch 159/500\n",
            "100/100 [==============================] - 3s 30ms/step - loss: 2.8950 - acc: 0.2840 - val_loss: 3.0719 - val_acc: 0.2513\n",
            "Epoch 160/500\n",
            "100/100 [==============================] - 3s 27ms/step - loss: 2.8945 - acc: 0.2837 - val_loss: 3.0713 - val_acc: 0.2513\n",
            "Epoch 161/500\n",
            "100/100 [==============================] - 3s 30ms/step - loss: 2.8941 - acc: 0.2842 - val_loss: 3.0706 - val_acc: 0.2496\n",
            "Epoch 162/500\n",
            "100/100 [==============================] - 3s 31ms/step - loss: 2.8933 - acc: 0.2837 - val_loss: 3.0719 - val_acc: 0.2502\n",
            "Epoch 163/500\n",
            "100/100 [==============================] - 3s 26ms/step - loss: 2.8938 - acc: 0.2841 - val_loss: 3.0707 - val_acc: 0.2506\n",
            "Epoch 164/500\n",
            "100/100 [==============================] - 3s 30ms/step - loss: 2.8933 - acc: 0.2833 - val_loss: 3.0720 - val_acc: 0.2518\n",
            "Epoch 165/500\n",
            "100/100 [==============================] - 3s 25ms/step - loss: 2.8928 - acc: 0.2834 - val_loss: 3.0710 - val_acc: 0.2502\n",
            "Epoch 166/500\n",
            "100/100 [==============================] - 3s 31ms/step - loss: 2.8928 - acc: 0.2846 - val_loss: 3.0700 - val_acc: 0.2530\n",
            "Epoch 167/500\n",
            "100/100 [==============================] - 3s 31ms/step - loss: 2.8927 - acc: 0.2844 - val_loss: 3.0711 - val_acc: 0.2495\n",
            "Epoch 168/500\n",
            "100/100 [==============================] - 3s 26ms/step - loss: 2.8930 - acc: 0.2838 - val_loss: 3.0712 - val_acc: 0.2519\n",
            "Epoch 169/500\n",
            "100/100 [==============================] - 2s 25ms/step - loss: 2.8919 - acc: 0.2842 - val_loss: 3.0726 - val_acc: 0.2482\n",
            "Epoch 170/500\n",
            "100/100 [==============================] - 3s 30ms/step - loss: 2.8919 - acc: 0.2844 - val_loss: 3.0695 - val_acc: 0.2509\n",
            "Epoch 171/500\n",
            "100/100 [==============================] - 3s 30ms/step - loss: 2.8917 - acc: 0.2844 - val_loss: 3.0699 - val_acc: 0.2524\n",
            "Epoch 172/500\n",
            "100/100 [==============================] - 3s 26ms/step - loss: 2.8913 - acc: 0.2837 - val_loss: 3.0702 - val_acc: 0.2502\n",
            "Epoch 173/500\n",
            "100/100 [==============================] - 3s 25ms/step - loss: 2.8910 - acc: 0.2843 - val_loss: 3.0696 - val_acc: 0.2513\n",
            "Epoch 174/500\n",
            "100/100 [==============================] - 3s 30ms/step - loss: 2.8904 - acc: 0.2842 - val_loss: 3.0689 - val_acc: 0.2512\n",
            "Epoch 175/500\n",
            "100/100 [==============================] - 3s 31ms/step - loss: 2.8906 - acc: 0.2844 - val_loss: 3.0687 - val_acc: 0.2512\n",
            "Epoch 176/500\n",
            "100/100 [==============================] - 3s 31ms/step - loss: 2.8901 - acc: 0.2850 - val_loss: 3.0685 - val_acc: 0.2514\n",
            "Epoch 177/500\n",
            "100/100 [==============================] - 3s 26ms/step - loss: 2.8901 - acc: 0.2849 - val_loss: 3.0691 - val_acc: 0.2516\n",
            "Epoch 178/500\n",
            "100/100 [==============================] - 3s 25ms/step - loss: 2.8903 - acc: 0.2831 - val_loss: 3.0678 - val_acc: 0.2520\n",
            "Epoch 179/500\n",
            "100/100 [==============================] - 3s 26ms/step - loss: 2.8893 - acc: 0.2848 - val_loss: 3.0691 - val_acc: 0.2510\n",
            "Epoch 180/500\n",
            "100/100 [==============================] - 3s 28ms/step - loss: 2.8899 - acc: 0.2842 - val_loss: 3.0670 - val_acc: 0.2516\n",
            "Epoch 181/500\n",
            "100/100 [==============================] - 3s 25ms/step - loss: 2.8891 - acc: 0.2858 - val_loss: 3.0682 - val_acc: 0.2503\n",
            "Epoch 182/500\n",
            "100/100 [==============================] - 3s 25ms/step - loss: 2.8889 - acc: 0.2847 - val_loss: 3.0680 - val_acc: 0.2516\n",
            "Epoch 183/500\n",
            "100/100 [==============================] - 3s 30ms/step - loss: 2.8886 - acc: 0.2850 - val_loss: 3.0694 - val_acc: 0.2509\n",
            "Epoch 184/500\n",
            "100/100 [==============================] - 3s 31ms/step - loss: 2.8885 - acc: 0.2845 - val_loss: 3.0682 - val_acc: 0.2514\n",
            "Epoch 185/500\n",
            "100/100 [==============================] - 3s 25ms/step - loss: 2.8882 - acc: 0.2846 - val_loss: 3.0668 - val_acc: 0.2529\n",
            "Epoch 186/500\n",
            "100/100 [==============================] - 3s 30ms/step - loss: 2.8884 - acc: 0.2846 - val_loss: 3.0675 - val_acc: 0.2528\n",
            "Epoch 187/500\n",
            "100/100 [==============================] - 3s 30ms/step - loss: 2.8880 - acc: 0.2841 - val_loss: 3.0665 - val_acc: 0.2507\n",
            "Epoch 188/500\n",
            "100/100 [==============================] - 3s 31ms/step - loss: 2.8879 - acc: 0.2853 - val_loss: 3.0683 - val_acc: 0.2520\n",
            "Epoch 189/500\n",
            "100/100 [==============================] - 3s 31ms/step - loss: 2.8879 - acc: 0.2850 - val_loss: 3.0696 - val_acc: 0.2498\n",
            "Epoch 190/500\n",
            "100/100 [==============================] - 3s 30ms/step - loss: 2.8876 - acc: 0.2851 - val_loss: 3.0685 - val_acc: 0.2508\n",
            "Epoch 191/500\n",
            "100/100 [==============================] - 3s 30ms/step - loss: 2.8873 - acc: 0.2848 - val_loss: 3.0650 - val_acc: 0.2530\n",
            "Epoch 192/500\n",
            "100/100 [==============================] - 3s 30ms/step - loss: 2.8861 - acc: 0.2847 - val_loss: 3.0675 - val_acc: 0.2522\n",
            "Epoch 193/500\n",
            "100/100 [==============================] - 3s 26ms/step - loss: 2.8860 - acc: 0.2865 - val_loss: 3.0652 - val_acc: 0.2513\n",
            "Epoch 194/500\n",
            "100/100 [==============================] - 3s 30ms/step - loss: 2.8861 - acc: 0.2851 - val_loss: 3.0661 - val_acc: 0.2520\n",
            "Epoch 195/500\n",
            "100/100 [==============================] - 3s 30ms/step - loss: 2.8857 - acc: 0.2855 - val_loss: 3.0661 - val_acc: 0.2522\n",
            "Epoch 196/500\n",
            "100/100 [==============================] - 3s 27ms/step - loss: 2.8859 - acc: 0.2855 - val_loss: 3.0644 - val_acc: 0.2520\n",
            "Epoch 197/500\n",
            "100/100 [==============================] - 3s 31ms/step - loss: 2.8857 - acc: 0.2853 - val_loss: 3.0651 - val_acc: 0.2525\n",
            "Epoch 198/500\n",
            "100/100 [==============================] - 3s 25ms/step - loss: 2.8849 - acc: 0.2853 - val_loss: 3.0658 - val_acc: 0.2530\n",
            "Epoch 199/500\n",
            "100/100 [==============================] - 3s 25ms/step - loss: 2.8845 - acc: 0.2855 - val_loss: 3.0654 - val_acc: 0.2522\n",
            "Epoch 200/500\n",
            "100/100 [==============================] - 3s 26ms/step - loss: 2.8844 - acc: 0.2858 - val_loss: 3.0655 - val_acc: 0.2511\n",
            "Epoch 201/500\n",
            "100/100 [==============================] - 3s 31ms/step - loss: 2.8851 - acc: 0.2858 - val_loss: 3.0649 - val_acc: 0.2519\n",
            "Epoch 202/500\n",
            "100/100 [==============================] - 3s 31ms/step - loss: 2.8846 - acc: 0.2856 - val_loss: 3.0645 - val_acc: 0.2513\n",
            "Epoch 203/500\n",
            "100/100 [==============================] - 3s 26ms/step - loss: 2.8842 - acc: 0.2859 - val_loss: 3.0653 - val_acc: 0.2519\n",
            "Epoch 204/500\n",
            "100/100 [==============================] - 3s 31ms/step - loss: 2.8834 - acc: 0.2852 - val_loss: 3.0635 - val_acc: 0.2535\n",
            "Epoch 205/500\n",
            "100/100 [==============================] - 3s 30ms/step - loss: 2.8836 - acc: 0.2856 - val_loss: 3.0659 - val_acc: 0.2517\n",
            "Epoch 206/500\n",
            "100/100 [==============================] - 3s 26ms/step - loss: 2.8831 - acc: 0.2862 - val_loss: 3.0637 - val_acc: 0.2525\n",
            "Epoch 207/500\n",
            "100/100 [==============================] - 3s 26ms/step - loss: 2.8833 - acc: 0.2859 - val_loss: 3.0663 - val_acc: 0.2498\n",
            "Epoch 208/500\n",
            "100/100 [==============================] - 3s 25ms/step - loss: 2.8824 - acc: 0.2855 - val_loss: 3.0641 - val_acc: 0.2518\n",
            "Epoch 209/500\n",
            "100/100 [==============================] - 3s 26ms/step - loss: 2.8821 - acc: 0.2858 - val_loss: 3.0626 - val_acc: 0.2530\n",
            "Epoch 210/500\n",
            "100/100 [==============================] - 3s 31ms/step - loss: 2.8825 - acc: 0.2863 - val_loss: 3.0633 - val_acc: 0.2518\n",
            "Epoch 211/500\n",
            "100/100 [==============================] - 3s 25ms/step - loss: 2.8822 - acc: 0.2870 - val_loss: 3.0625 - val_acc: 0.2523\n",
            "Epoch 212/500\n",
            "100/100 [==============================] - 3s 31ms/step - loss: 2.8822 - acc: 0.2867 - val_loss: 3.0631 - val_acc: 0.2527\n",
            "Epoch 213/500\n",
            "100/100 [==============================] - 3s 26ms/step - loss: 2.8818 - acc: 0.2865 - val_loss: 3.0629 - val_acc: 0.2531\n",
            "Epoch 214/500\n",
            "100/100 [==============================] - 3s 30ms/step - loss: 2.8815 - acc: 0.2866 - val_loss: 3.0629 - val_acc: 0.2530\n",
            "Epoch 215/500\n",
            "100/100 [==============================] - 3s 31ms/step - loss: 2.8816 - acc: 0.2866 - val_loss: 3.0620 - val_acc: 0.2530\n",
            "Epoch 216/500\n",
            "100/100 [==============================] - 3s 25ms/step - loss: 2.8818 - acc: 0.2869 - val_loss: 3.0621 - val_acc: 0.2533\n",
            "Epoch 217/500\n",
            "100/100 [==============================] - 3s 31ms/step - loss: 2.8807 - acc: 0.2867 - val_loss: 3.0636 - val_acc: 0.2511\n",
            "Epoch 218/500\n",
            "100/100 [==============================] - 3s 31ms/step - loss: 2.8805 - acc: 0.2870 - val_loss: 3.0617 - val_acc: 0.2531\n",
            "Epoch 219/500\n",
            "100/100 [==============================] - 3s 27ms/step - loss: 2.8813 - acc: 0.2862 - val_loss: 3.0618 - val_acc: 0.2520\n",
            "Epoch 220/500\n",
            "100/100 [==============================] - 3s 32ms/step - loss: 2.8801 - acc: 0.2866 - val_loss: 3.0615 - val_acc: 0.2529\n",
            "Epoch 221/500\n",
            "100/100 [==============================] - 3s 30ms/step - loss: 2.8799 - acc: 0.2871 - val_loss: 3.0605 - val_acc: 0.2527\n",
            "Epoch 222/500\n",
            "100/100 [==============================] - 3s 30ms/step - loss: 2.8791 - acc: 0.2865 - val_loss: 3.0647 - val_acc: 0.2506\n",
            "Epoch 223/500\n",
            "100/100 [==============================] - 3s 32ms/step - loss: 2.8799 - acc: 0.2867 - val_loss: 3.0605 - val_acc: 0.2526\n",
            "Epoch 224/500\n",
            "100/100 [==============================] - 3s 26ms/step - loss: 2.8794 - acc: 0.2865 - val_loss: 3.0617 - val_acc: 0.2515\n",
            "Epoch 225/500\n",
            "100/100 [==============================] - 3s 25ms/step - loss: 2.8788 - acc: 0.2864 - val_loss: 3.0598 - val_acc: 0.2535\n",
            "Epoch 226/500\n",
            "100/100 [==============================] - 3s 30ms/step - loss: 2.8786 - acc: 0.2877 - val_loss: 3.0605 - val_acc: 0.2540\n",
            "Epoch 227/500\n",
            "100/100 [==============================] - 3s 29ms/step - loss: 2.8784 - acc: 0.2873 - val_loss: 3.0610 - val_acc: 0.2539\n",
            "Epoch 228/500\n",
            "100/100 [==============================] - 3s 31ms/step - loss: 2.8782 - acc: 0.2867 - val_loss: 3.0598 - val_acc: 0.2530\n",
            "Epoch 229/500\n",
            "100/100 [==============================] - 3s 25ms/step - loss: 2.8778 - acc: 0.2875 - val_loss: 3.0607 - val_acc: 0.2535\n",
            "Epoch 230/500\n",
            "100/100 [==============================] - 3s 26ms/step - loss: 2.8776 - acc: 0.2865 - val_loss: 3.0605 - val_acc: 0.2529\n",
            "Epoch 231/500\n",
            "100/100 [==============================] - 3s 30ms/step - loss: 2.8771 - acc: 0.2864 - val_loss: 3.0609 - val_acc: 0.2529\n",
            "Epoch 232/500\n",
            "100/100 [==============================] - 3s 31ms/step - loss: 2.8776 - acc: 0.2878 - val_loss: 3.0618 - val_acc: 0.2530\n",
            "Epoch 233/500\n",
            "100/100 [==============================] - 3s 25ms/step - loss: 2.8771 - acc: 0.2874 - val_loss: 3.0580 - val_acc: 0.2541\n",
            "Epoch 234/500\n",
            "100/100 [==============================] - 3s 26ms/step - loss: 2.8762 - acc: 0.2875 - val_loss: 3.0583 - val_acc: 0.2540\n",
            "Epoch 235/500\n",
            "100/100 [==============================] - 3s 25ms/step - loss: 2.8767 - acc: 0.2873 - val_loss: 3.0605 - val_acc: 0.2530\n",
            "Epoch 236/500\n",
            "100/100 [==============================] - 3s 29ms/step - loss: 2.8767 - acc: 0.2876 - val_loss: 3.0589 - val_acc: 0.2529\n",
            "Epoch 237/500\n",
            "100/100 [==============================] - 3s 31ms/step - loss: 2.8762 - acc: 0.2871 - val_loss: 3.0613 - val_acc: 0.2516\n",
            "Epoch 238/500\n",
            "100/100 [==============================] - 3s 31ms/step - loss: 2.8770 - acc: 0.2864 - val_loss: 3.0599 - val_acc: 0.2529\n",
            "Epoch 239/500\n",
            "100/100 [==============================] - 3s 31ms/step - loss: 2.8760 - acc: 0.2869 - val_loss: 3.0592 - val_acc: 0.2530\n",
            "Epoch 240/500\n",
            "100/100 [==============================] - 3s 29ms/step - loss: 2.8758 - acc: 0.2870 - val_loss: 3.0590 - val_acc: 0.2526\n",
            "Epoch 241/500\n",
            "100/100 [==============================] - 3s 26ms/step - loss: 2.8761 - acc: 0.2867 - val_loss: 3.0571 - val_acc: 0.2558\n",
            "Epoch 242/500\n",
            "100/100 [==============================] - 3s 30ms/step - loss: 2.8749 - acc: 0.2882 - val_loss: 3.0577 - val_acc: 0.2541\n",
            "Epoch 243/500\n",
            "100/100 [==============================] - 3s 31ms/step - loss: 2.8748 - acc: 0.2878 - val_loss: 3.0571 - val_acc: 0.2524\n",
            "Epoch 244/500\n",
            "100/100 [==============================] - 3s 30ms/step - loss: 2.8746 - acc: 0.2883 - val_loss: 3.0570 - val_acc: 0.2532\n",
            "Epoch 245/500\n",
            "100/100 [==============================] - 3s 26ms/step - loss: 2.8745 - acc: 0.2875 - val_loss: 3.0566 - val_acc: 0.2527\n",
            "Epoch 246/500\n",
            "100/100 [==============================] - 3s 26ms/step - loss: 2.8739 - acc: 0.2877 - val_loss: 3.0574 - val_acc: 0.2514\n",
            "Epoch 247/500\n",
            "100/100 [==============================] - 3s 31ms/step - loss: 2.8745 - acc: 0.2879 - val_loss: 3.0572 - val_acc: 0.2521\n",
            "Epoch 248/500\n",
            "100/100 [==============================] - 3s 31ms/step - loss: 2.8742 - acc: 0.2883 - val_loss: 3.0576 - val_acc: 0.2531\n",
            "Epoch 249/500\n",
            "100/100 [==============================] - 3s 27ms/step - loss: 2.8731 - acc: 0.2873 - val_loss: 3.0568 - val_acc: 0.2545\n",
            "Epoch 250/500\n",
            "100/100 [==============================] - 3s 25ms/step - loss: 2.8733 - acc: 0.2882 - val_loss: 3.0572 - val_acc: 0.2536\n",
            "Epoch 251/500\n",
            "100/100 [==============================] - 3s 26ms/step - loss: 2.8734 - acc: 0.2883 - val_loss: 3.0559 - val_acc: 0.2547\n",
            "Epoch 252/500\n",
            "100/100 [==============================] - 3s 31ms/step - loss: 2.8730 - acc: 0.2880 - val_loss: 3.0554 - val_acc: 0.2527\n",
            "Epoch 253/500\n",
            "100/100 [==============================] - 3s 29ms/step - loss: 2.8730 - acc: 0.2883 - val_loss: 3.0555 - val_acc: 0.2545\n",
            "Epoch 254/500\n",
            "100/100 [==============================] - 3s 31ms/step - loss: 2.8724 - acc: 0.2868 - val_loss: 3.0551 - val_acc: 0.2556\n",
            "Epoch 255/500\n",
            "100/100 [==============================] - 3s 25ms/step - loss: 2.8725 - acc: 0.2880 - val_loss: 3.0550 - val_acc: 0.2521\n",
            "Epoch 256/500\n",
            "100/100 [==============================] - 3s 30ms/step - loss: 2.8717 - acc: 0.2882 - val_loss: 3.0593 - val_acc: 0.2524\n",
            "Epoch 257/500\n",
            "100/100 [==============================] - 3s 31ms/step - loss: 2.8719 - acc: 0.2885 - val_loss: 3.0549 - val_acc: 0.2545\n",
            "Epoch 258/500\n",
            "100/100 [==============================] - 3s 26ms/step - loss: 2.8715 - acc: 0.2882 - val_loss: 3.0561 - val_acc: 0.2546\n",
            "Epoch 259/500\n",
            "100/100 [==============================] - 3s 31ms/step - loss: 2.8714 - acc: 0.2877 - val_loss: 3.0567 - val_acc: 0.2537\n",
            "Epoch 260/500\n",
            "100/100 [==============================] - 3s 31ms/step - loss: 2.8706 - acc: 0.2890 - val_loss: 3.0540 - val_acc: 0.2541\n",
            "Epoch 261/500\n",
            "100/100 [==============================] - 3s 30ms/step - loss: 2.8716 - acc: 0.2888 - val_loss: 3.0546 - val_acc: 0.2538\n",
            "Epoch 262/500\n",
            "100/100 [==============================] - 3s 31ms/step - loss: 2.8704 - acc: 0.2885 - val_loss: 3.0553 - val_acc: 0.2528\n",
            "Epoch 263/500\n",
            "100/100 [==============================] - 3s 31ms/step - loss: 2.8702 - acc: 0.2885 - val_loss: 3.0548 - val_acc: 0.2540\n",
            "Epoch 264/500\n",
            "100/100 [==============================] - 3s 31ms/step - loss: 2.8706 - acc: 0.2880 - val_loss: 3.0532 - val_acc: 0.2541\n",
            "Epoch 265/500\n",
            "100/100 [==============================] - 3s 31ms/step - loss: 2.8694 - acc: 0.2887 - val_loss: 3.0535 - val_acc: 0.2547\n",
            "Epoch 266/500\n",
            "100/100 [==============================] - 3s 31ms/step - loss: 2.8694 - acc: 0.2882 - val_loss: 3.0565 - val_acc: 0.2536\n",
            "Epoch 267/500\n",
            "100/100 [==============================] - 3s 31ms/step - loss: 2.8691 - acc: 0.2888 - val_loss: 3.0545 - val_acc: 0.2528\n",
            "Epoch 268/500\n",
            "100/100 [==============================] - 3s 26ms/step - loss: 2.8695 - acc: 0.2882 - val_loss: 3.0529 - val_acc: 0.2541\n",
            "Epoch 269/500\n",
            "100/100 [==============================] - 3s 30ms/step - loss: 2.8693 - acc: 0.2883 - val_loss: 3.0537 - val_acc: 0.2540\n",
            "Epoch 270/500\n",
            "100/100 [==============================] - 3s 31ms/step - loss: 2.8685 - acc: 0.2885 - val_loss: 3.0531 - val_acc: 0.2534\n",
            "Epoch 271/500\n",
            "100/100 [==============================] - 3s 26ms/step - loss: 2.8684 - acc: 0.2886 - val_loss: 3.0534 - val_acc: 0.2530\n",
            "Epoch 272/500\n",
            "100/100 [==============================] - 3s 31ms/step - loss: 2.8679 - acc: 0.2892 - val_loss: 3.0527 - val_acc: 0.2543\n",
            "Epoch 273/500\n",
            "100/100 [==============================] - 3s 31ms/step - loss: 2.8682 - acc: 0.2881 - val_loss: 3.0518 - val_acc: 0.2550\n",
            "Epoch 274/500\n",
            "100/100 [==============================] - 3s 31ms/step - loss: 2.8681 - acc: 0.2883 - val_loss: 3.0521 - val_acc: 0.2536\n",
            "Epoch 275/500\n",
            "100/100 [==============================] - 3s 25ms/step - loss: 2.8673 - acc: 0.2891 - val_loss: 3.0550 - val_acc: 0.2525\n",
            "Epoch 276/500\n",
            "100/100 [==============================] - 3s 26ms/step - loss: 2.8674 - acc: 0.2892 - val_loss: 3.0538 - val_acc: 0.2529\n",
            "Epoch 277/500\n",
            "100/100 [==============================] - 3s 26ms/step - loss: 2.8679 - acc: 0.2893 - val_loss: 3.0531 - val_acc: 0.2530\n",
            "Epoch 278/500\n",
            "100/100 [==============================] - 3s 34ms/step - loss: 2.8684 - acc: 0.2894 - val_loss: 3.0521 - val_acc: 0.2544\n",
            "Epoch 279/500\n",
            "100/100 [==============================] - 3s 34ms/step - loss: 2.8665 - acc: 0.2894 - val_loss: 3.0527 - val_acc: 0.2550\n",
            "Epoch 280/500\n",
            "100/100 [==============================] - 3s 31ms/step - loss: 2.8665 - acc: 0.2891 - val_loss: 3.0522 - val_acc: 0.2537\n",
            "Epoch 281/500\n",
            "100/100 [==============================] - 3s 26ms/step - loss: 2.8659 - acc: 0.2887 - val_loss: 3.0525 - val_acc: 0.2536\n",
            "Epoch 282/500\n",
            "100/100 [==============================] - 3s 26ms/step - loss: 2.8665 - acc: 0.2890 - val_loss: 3.0518 - val_acc: 0.2537\n",
            "Epoch 283/500\n",
            "100/100 [==============================] - 3s 30ms/step - loss: 2.8664 - acc: 0.2895 - val_loss: 3.0518 - val_acc: 0.2541\n",
            "Epoch 284/500\n",
            "100/100 [==============================] - 3s 31ms/step - loss: 2.8653 - acc: 0.2896 - val_loss: 3.0503 - val_acc: 0.2548\n",
            "Epoch 285/500\n",
            "100/100 [==============================] - 3s 26ms/step - loss: 2.8656 - acc: 0.2885 - val_loss: 3.0509 - val_acc: 0.2539\n",
            "Epoch 286/500\n",
            "100/100 [==============================] - 3s 26ms/step - loss: 2.8650 - acc: 0.2898 - val_loss: 3.0526 - val_acc: 0.2552\n",
            "Epoch 287/500\n",
            "100/100 [==============================] - 3s 31ms/step - loss: 2.8651 - acc: 0.2891 - val_loss: 3.0563 - val_acc: 0.2525\n",
            "Epoch 288/500\n",
            "100/100 [==============================] - 3s 27ms/step - loss: 2.8652 - acc: 0.2895 - val_loss: 3.0488 - val_acc: 0.2555\n",
            "Epoch 289/500\n",
            "100/100 [==============================] - 3s 31ms/step - loss: 2.8640 - acc: 0.2900 - val_loss: 3.0525 - val_acc: 0.2530\n",
            "Epoch 290/500\n",
            "100/100 [==============================] - 3s 31ms/step - loss: 2.8645 - acc: 0.2894 - val_loss: 3.0506 - val_acc: 0.2552\n",
            "Epoch 291/500\n",
            "100/100 [==============================] - 3s 30ms/step - loss: 2.8644 - acc: 0.2897 - val_loss: 3.0486 - val_acc: 0.2556\n",
            "Epoch 292/500\n",
            "100/100 [==============================] - 3s 26ms/step - loss: 2.8632 - acc: 0.2896 - val_loss: 3.0503 - val_acc: 0.2534\n",
            "Epoch 293/500\n",
            "100/100 [==============================] - 3s 31ms/step - loss: 2.8641 - acc: 0.2893 - val_loss: 3.0498 - val_acc: 0.2559\n",
            "Epoch 294/500\n",
            "100/100 [==============================] - 3s 26ms/step - loss: 2.8637 - acc: 0.2903 - val_loss: 3.0487 - val_acc: 0.2541\n",
            "Epoch 295/500\n",
            "100/100 [==============================] - 3s 26ms/step - loss: 2.8640 - acc: 0.2904 - val_loss: 3.0488 - val_acc: 0.2531\n",
            "Epoch 296/500\n",
            "100/100 [==============================] - 3s 32ms/step - loss: 2.8630 - acc: 0.2898 - val_loss: 3.0489 - val_acc: 0.2550\n",
            "Epoch 297/500\n",
            "100/100 [==============================] - 3s 31ms/step - loss: 2.8626 - acc: 0.2898 - val_loss: 3.0517 - val_acc: 0.2541\n",
            "Epoch 298/500\n",
            "100/100 [==============================] - 3s 26ms/step - loss: 2.8628 - acc: 0.2904 - val_loss: 3.0479 - val_acc: 0.2539\n",
            "Epoch 299/500\n",
            "100/100 [==============================] - 3s 31ms/step - loss: 2.8621 - acc: 0.2893 - val_loss: 3.0488 - val_acc: 0.2534\n",
            "Epoch 300/500\n",
            "100/100 [==============================] - 3s 30ms/step - loss: 2.8625 - acc: 0.2901 - val_loss: 3.0490 - val_acc: 0.2539\n",
            "Epoch 301/500\n",
            "100/100 [==============================] - 3s 26ms/step - loss: 2.8615 - acc: 0.2899 - val_loss: 3.0490 - val_acc: 0.2556\n",
            "Epoch 302/500\n",
            "100/100 [==============================] - 3s 31ms/step - loss: 2.8617 - acc: 0.2903 - val_loss: 3.0476 - val_acc: 0.2547\n",
            "Epoch 303/500\n",
            "100/100 [==============================] - 3s 26ms/step - loss: 2.8619 - acc: 0.2900 - val_loss: 3.0486 - val_acc: 0.2544\n",
            "Epoch 304/500\n",
            "100/100 [==============================] - 3s 30ms/step - loss: 2.8608 - acc: 0.2904 - val_loss: 3.0471 - val_acc: 0.2548\n",
            "Epoch 305/500\n",
            "100/100 [==============================] - 3s 26ms/step - loss: 2.8610 - acc: 0.2903 - val_loss: 3.0501 - val_acc: 0.2542\n",
            "Epoch 306/500\n",
            "100/100 [==============================] - 3s 26ms/step - loss: 2.8614 - acc: 0.2905 - val_loss: 3.0480 - val_acc: 0.2546\n",
            "Epoch 307/500\n",
            "100/100 [==============================] - 3s 26ms/step - loss: 2.8607 - acc: 0.2898 - val_loss: 3.0471 - val_acc: 0.2563\n",
            "Epoch 308/500\n",
            "100/100 [==============================] - 3s 26ms/step - loss: 2.8605 - acc: 0.2903 - val_loss: 3.0469 - val_acc: 0.2560\n",
            "Epoch 309/500\n",
            "100/100 [==============================] - 3s 31ms/step - loss: 2.8601 - acc: 0.2910 - val_loss: 3.0491 - val_acc: 0.2546\n",
            "Epoch 310/500\n",
            "100/100 [==============================] - 3s 31ms/step - loss: 2.8606 - acc: 0.2903 - val_loss: 3.0471 - val_acc: 0.2557\n",
            "Epoch 311/500\n",
            "100/100 [==============================] - 3s 25ms/step - loss: 2.8593 - acc: 0.2912 - val_loss: 3.0469 - val_acc: 0.2550\n",
            "Epoch 312/500\n",
            "100/100 [==============================] - 3s 31ms/step - loss: 2.8596 - acc: 0.2903 - val_loss: 3.0475 - val_acc: 0.2551\n",
            "Epoch 313/500\n",
            "100/100 [==============================] - 3s 31ms/step - loss: 2.8592 - acc: 0.2899 - val_loss: 3.0456 - val_acc: 0.2542\n",
            "Epoch 314/500\n",
            "100/100 [==============================] - 3s 31ms/step - loss: 2.8589 - acc: 0.2914 - val_loss: 3.0478 - val_acc: 0.2550\n",
            "Epoch 315/500\n",
            "100/100 [==============================] - 3s 31ms/step - loss: 2.8589 - acc: 0.2901 - val_loss: 3.0465 - val_acc: 0.2538\n",
            "Epoch 316/500\n",
            "100/100 [==============================] - 3s 26ms/step - loss: 2.8585 - acc: 0.2907 - val_loss: 3.0457 - val_acc: 0.2566\n",
            "Epoch 317/500\n",
            "100/100 [==============================] - 3s 31ms/step - loss: 2.8585 - acc: 0.2908 - val_loss: 3.0456 - val_acc: 0.2563\n",
            "Epoch 318/500\n",
            "100/100 [==============================] - 3s 27ms/step - loss: 2.8582 - acc: 0.2900 - val_loss: 3.0488 - val_acc: 0.2542\n",
            "Epoch 319/500\n",
            "100/100 [==============================] - 3s 31ms/step - loss: 2.8580 - acc: 0.2912 - val_loss: 3.0458 - val_acc: 0.2555\n",
            "Epoch 320/500\n",
            "100/100 [==============================] - 3s 26ms/step - loss: 2.8575 - acc: 0.2910 - val_loss: 3.0469 - val_acc: 0.2545\n",
            "Epoch 321/500\n",
            "100/100 [==============================] - 3s 31ms/step - loss: 2.8573 - acc: 0.2916 - val_loss: 3.0451 - val_acc: 0.2542\n",
            "Epoch 322/500\n",
            "100/100 [==============================] - 3s 27ms/step - loss: 2.8574 - acc: 0.2912 - val_loss: 3.0477 - val_acc: 0.2548\n",
            "Epoch 323/500\n",
            "100/100 [==============================] - 3s 26ms/step - loss: 2.8567 - acc: 0.2905 - val_loss: 3.0486 - val_acc: 0.2566\n",
            "Epoch 324/500\n",
            "100/100 [==============================] - 3s 26ms/step - loss: 2.8575 - acc: 0.2906 - val_loss: 3.0491 - val_acc: 0.2528\n",
            "Epoch 325/500\n",
            "100/100 [==============================] - 3s 31ms/step - loss: 2.8567 - acc: 0.2910 - val_loss: 3.0449 - val_acc: 0.2551\n",
            "Epoch 326/500\n",
            "100/100 [==============================] - 3s 31ms/step - loss: 2.8559 - acc: 0.2911 - val_loss: 3.0458 - val_acc: 0.2557\n",
            "Epoch 327/500\n",
            "100/100 [==============================] - 3s 31ms/step - loss: 2.8561 - acc: 0.2914 - val_loss: 3.0436 - val_acc: 0.2558\n",
            "Epoch 328/500\n",
            "100/100 [==============================] - 3s 31ms/step - loss: 2.8557 - acc: 0.2921 - val_loss: 3.0481 - val_acc: 0.2551\n",
            "Epoch 329/500\n",
            "100/100 [==============================] - 3s 31ms/step - loss: 2.8555 - acc: 0.2916 - val_loss: 3.0447 - val_acc: 0.2549\n",
            "Epoch 330/500\n",
            "100/100 [==============================] - 3s 31ms/step - loss: 2.8558 - acc: 0.2903 - val_loss: 3.0438 - val_acc: 0.2554\n",
            "Epoch 331/500\n",
            "100/100 [==============================] - 3s 31ms/step - loss: 2.8549 - acc: 0.2917 - val_loss: 3.0465 - val_acc: 0.2549\n",
            "Epoch 332/500\n",
            "100/100 [==============================] - 3s 26ms/step - loss: 2.8551 - acc: 0.2916 - val_loss: 3.0442 - val_acc: 0.2555\n",
            "Epoch 333/500\n",
            "100/100 [==============================] - 3s 31ms/step - loss: 2.8549 - acc: 0.2921 - val_loss: 3.0431 - val_acc: 0.2558\n",
            "Epoch 334/500\n",
            "100/100 [==============================] - 3s 30ms/step - loss: 2.8545 - acc: 0.2922 - val_loss: 3.0440 - val_acc: 0.2550\n",
            "Epoch 335/500\n",
            "100/100 [==============================] - 3s 32ms/step - loss: 2.8541 - acc: 0.2913 - val_loss: 3.0444 - val_acc: 0.2542\n",
            "Epoch 336/500\n",
            "100/100 [==============================] - 3s 26ms/step - loss: 2.8546 - acc: 0.2918 - val_loss: 3.0419 - val_acc: 0.2548\n",
            "Epoch 337/500\n",
            "100/100 [==============================] - 3s 31ms/step - loss: 2.8537 - acc: 0.2925 - val_loss: 3.0433 - val_acc: 0.2559\n",
            "Epoch 338/500\n",
            "100/100 [==============================] - 3s 30ms/step - loss: 2.8543 - acc: 0.2918 - val_loss: 3.0423 - val_acc: 0.2561\n",
            "Epoch 339/500\n",
            "100/100 [==============================] - 3s 27ms/step - loss: 2.8538 - acc: 0.2918 - val_loss: 3.0415 - val_acc: 0.2559\n",
            "Epoch 340/500\n",
            "100/100 [==============================] - 3s 31ms/step - loss: 2.8536 - acc: 0.2913 - val_loss: 3.0420 - val_acc: 0.2567\n",
            "Epoch 341/500\n",
            "100/100 [==============================] - 3s 31ms/step - loss: 2.8532 - acc: 0.2913 - val_loss: 3.0442 - val_acc: 0.2553\n",
            "Epoch 342/500\n",
            "100/100 [==============================] - 3s 31ms/step - loss: 2.8528 - acc: 0.2914 - val_loss: 3.0416 - val_acc: 0.2562\n",
            "Epoch 343/500\n",
            "100/100 [==============================] - 3s 27ms/step - loss: 2.8528 - acc: 0.2923 - val_loss: 3.0448 - val_acc: 0.2571\n",
            "Epoch 344/500\n",
            "100/100 [==============================] - 3s 26ms/step - loss: 2.8527 - acc: 0.2923 - val_loss: 3.0425 - val_acc: 0.2550\n",
            "Epoch 345/500\n",
            "100/100 [==============================] - 3s 31ms/step - loss: 2.8522 - acc: 0.2921 - val_loss: 3.0439 - val_acc: 0.2562\n",
            "Epoch 346/500\n",
            "100/100 [==============================] - 3s 31ms/step - loss: 2.8525 - acc: 0.2928 - val_loss: 3.0429 - val_acc: 0.2557\n",
            "Epoch 347/500\n",
            "100/100 [==============================] - 3s 28ms/step - loss: 2.8517 - acc: 0.2922 - val_loss: 3.0406 - val_acc: 0.2561\n",
            "Epoch 348/500\n",
            "100/100 [==============================] - 3s 31ms/step - loss: 2.8521 - acc: 0.2918 - val_loss: 3.0426 - val_acc: 0.2557\n",
            "Epoch 349/500\n",
            "100/100 [==============================] - 3s 26ms/step - loss: 2.8519 - acc: 0.2919 - val_loss: 3.0417 - val_acc: 0.2559\n",
            "Epoch 350/500\n",
            "100/100 [==============================] - 3s 26ms/step - loss: 2.8508 - acc: 0.2916 - val_loss: 3.0410 - val_acc: 0.2557\n",
            "Epoch 351/500\n",
            "100/100 [==============================] - 3s 31ms/step - loss: 2.8509 - acc: 0.2928 - val_loss: 3.0405 - val_acc: 0.2565\n",
            "Epoch 352/500\n",
            "100/100 [==============================] - 3s 31ms/step - loss: 2.8519 - acc: 0.2926 - val_loss: 3.0407 - val_acc: 0.2559\n",
            "Epoch 353/500\n",
            "100/100 [==============================] - 3s 31ms/step - loss: 2.8510 - acc: 0.2923 - val_loss: 3.0411 - val_acc: 0.2577\n",
            "Epoch 354/500\n",
            "100/100 [==============================] - 3s 26ms/step - loss: 2.8509 - acc: 0.2927 - val_loss: 3.0429 - val_acc: 0.2566\n",
            "Epoch 355/500\n",
            "100/100 [==============================] - 3s 30ms/step - loss: 2.8504 - acc: 0.2920 - val_loss: 3.0422 - val_acc: 0.2565\n",
            "Epoch 356/500\n",
            "100/100 [==============================] - 3s 32ms/step - loss: 2.8500 - acc: 0.2928 - val_loss: 3.0406 - val_acc: 0.2569\n",
            "Epoch 357/500\n",
            "100/100 [==============================] - 3s 26ms/step - loss: 2.8503 - acc: 0.2923 - val_loss: 3.0405 - val_acc: 0.2558\n",
            "Epoch 358/500\n",
            "100/100 [==============================] - 3s 26ms/step - loss: 2.8503 - acc: 0.2921 - val_loss: 3.0397 - val_acc: 0.2554\n",
            "Epoch 359/500\n",
            "100/100 [==============================] - 3s 31ms/step - loss: 2.8496 - acc: 0.2926 - val_loss: 3.0405 - val_acc: 0.2563\n",
            "Epoch 360/500\n",
            "100/100 [==============================] - 3s 26ms/step - loss: 2.8490 - acc: 0.2930 - val_loss: 3.0379 - val_acc: 0.2588\n",
            "Epoch 361/500\n",
            "100/100 [==============================] - 3s 26ms/step - loss: 2.8491 - acc: 0.2924 - val_loss: 3.0431 - val_acc: 0.2558\n",
            "Epoch 362/500\n",
            "100/100 [==============================] - 3s 31ms/step - loss: 2.8484 - acc: 0.2931 - val_loss: 3.0380 - val_acc: 0.2561\n",
            "Epoch 363/500\n",
            "100/100 [==============================] - 3s 31ms/step - loss: 2.8482 - acc: 0.2929 - val_loss: 3.0403 - val_acc: 0.2565\n",
            "Epoch 364/500\n",
            "100/100 [==============================] - 3s 32ms/step - loss: 2.8482 - acc: 0.2935 - val_loss: 3.0397 - val_acc: 0.2553\n",
            "Epoch 365/500\n",
            "100/100 [==============================] - 3s 26ms/step - loss: 2.8483 - acc: 0.2937 - val_loss: 3.0396 - val_acc: 0.2558\n",
            "Epoch 366/500\n",
            "100/100 [==============================] - 3s 26ms/step - loss: 2.8487 - acc: 0.2923 - val_loss: 3.0411 - val_acc: 0.2566\n",
            "Epoch 367/500\n",
            "100/100 [==============================] - 3s 31ms/step - loss: 2.8469 - acc: 0.2944 - val_loss: 3.0373 - val_acc: 0.2572\n",
            "Epoch 368/500\n",
            "100/100 [==============================] - 3s 32ms/step - loss: 2.8480 - acc: 0.2921 - val_loss: 3.0379 - val_acc: 0.2576\n",
            "Epoch 369/500\n",
            "100/100 [==============================] - 3s 26ms/step - loss: 2.8466 - acc: 0.2935 - val_loss: 3.0393 - val_acc: 0.2547\n",
            "Epoch 370/500\n",
            "100/100 [==============================] - 3s 31ms/step - loss: 2.8470 - acc: 0.2934 - val_loss: 3.0386 - val_acc: 0.2561\n",
            "Epoch 371/500\n",
            "100/100 [==============================] - 3s 31ms/step - loss: 2.8467 - acc: 0.2933 - val_loss: 3.0389 - val_acc: 0.2570\n",
            "Epoch 372/500\n",
            "100/100 [==============================] - 3s 31ms/step - loss: 2.8469 - acc: 0.2930 - val_loss: 3.0402 - val_acc: 0.2563\n",
            "Epoch 373/500\n",
            "100/100 [==============================] - 3s 26ms/step - loss: 2.8471 - acc: 0.2930 - val_loss: 3.0375 - val_acc: 0.2558\n",
            "Epoch 374/500\n",
            "100/100 [==============================] - 3s 31ms/step - loss: 2.8461 - acc: 0.2946 - val_loss: 3.0389 - val_acc: 0.2569\n",
            "Epoch 375/500\n",
            "100/100 [==============================] - 3s 31ms/step - loss: 2.8456 - acc: 0.2943 - val_loss: 3.0371 - val_acc: 0.2586\n",
            "Epoch 376/500\n",
            "100/100 [==============================] - 3s 29ms/step - loss: 2.8454 - acc: 0.2932 - val_loss: 3.0363 - val_acc: 0.2580\n",
            "Epoch 377/500\n",
            "100/100 [==============================] - 3s 31ms/step - loss: 2.8467 - acc: 0.2929 - val_loss: 3.0372 - val_acc: 0.2577\n",
            "Epoch 378/500\n",
            "100/100 [==============================] - 3s 31ms/step - loss: 2.8450 - acc: 0.2930 - val_loss: 3.0375 - val_acc: 0.2562\n",
            "Epoch 379/500\n",
            "100/100 [==============================] - 3s 31ms/step - loss: 2.8454 - acc: 0.2936 - val_loss: 3.0368 - val_acc: 0.2572\n",
            "Epoch 380/500\n",
            "100/100 [==============================] - 3s 31ms/step - loss: 2.8455 - acc: 0.2932 - val_loss: 3.0379 - val_acc: 0.2563\n",
            "Epoch 381/500\n",
            "100/100 [==============================] - 3s 33ms/step - loss: 2.8449 - acc: 0.2935 - val_loss: 3.0367 - val_acc: 0.2569\n",
            "Epoch 382/500\n",
            "100/100 [==============================] - 3s 31ms/step - loss: 2.8452 - acc: 0.2928 - val_loss: 3.0356 - val_acc: 0.2572\n",
            "Epoch 383/500\n",
            "100/100 [==============================] - 3s 26ms/step - loss: 2.8441 - acc: 0.2941 - val_loss: 3.0368 - val_acc: 0.2589\n",
            "Epoch 384/500\n",
            "100/100 [==============================] - 3s 27ms/step - loss: 2.8441 - acc: 0.2932 - val_loss: 3.0375 - val_acc: 0.2574\n",
            "Epoch 385/500\n",
            "100/100 [==============================] - 3s 29ms/step - loss: 2.8444 - acc: 0.2940 - val_loss: 3.0353 - val_acc: 0.2577\n",
            "Epoch 386/500\n",
            "100/100 [==============================] - 3s 31ms/step - loss: 2.8438 - acc: 0.2942 - val_loss: 3.0362 - val_acc: 0.2583\n",
            "Epoch 387/500\n",
            "100/100 [==============================] - 3s 31ms/step - loss: 2.8434 - acc: 0.2934 - val_loss: 3.0381 - val_acc: 0.2566\n",
            "Epoch 388/500\n",
            "100/100 [==============================] - 3s 27ms/step - loss: 2.8432 - acc: 0.2937 - val_loss: 3.0353 - val_acc: 0.2565\n",
            "Epoch 389/500\n",
            "100/100 [==============================] - 3s 31ms/step - loss: 2.8432 - acc: 0.2943 - val_loss: 3.0363 - val_acc: 0.2560\n",
            "Epoch 390/500\n",
            "100/100 [==============================] - 3s 31ms/step - loss: 2.8428 - acc: 0.2942 - val_loss: 3.0373 - val_acc: 0.2575\n",
            "Epoch 391/500\n",
            "100/100 [==============================] - 3s 31ms/step - loss: 2.8429 - acc: 0.2937 - val_loss: 3.0353 - val_acc: 0.2574\n",
            "Epoch 392/500\n",
            "100/100 [==============================] - 3s 31ms/step - loss: 2.8424 - acc: 0.2938 - val_loss: 3.0362 - val_acc: 0.2567\n",
            "Epoch 393/500\n",
            "100/100 [==============================] - 3s 34ms/step - loss: 2.8424 - acc: 0.2937 - val_loss: 3.0336 - val_acc: 0.2586\n",
            "Epoch 394/500\n",
            "100/100 [==============================] - 3s 28ms/step - loss: 2.8418 - acc: 0.2946 - val_loss: 3.0349 - val_acc: 0.2580\n",
            "Epoch 395/500\n",
            "100/100 [==============================] - 3s 31ms/step - loss: 2.8417 - acc: 0.2938 - val_loss: 3.0353 - val_acc: 0.2591\n",
            "Epoch 396/500\n",
            "100/100 [==============================] - 3s 31ms/step - loss: 2.8420 - acc: 0.2934 - val_loss: 3.0350 - val_acc: 0.2579\n",
            "Epoch 397/500\n",
            "100/100 [==============================] - 3s 26ms/step - loss: 2.8415 - acc: 0.2946 - val_loss: 3.0336 - val_acc: 0.2580\n",
            "Epoch 398/500\n",
            "100/100 [==============================] - 3s 32ms/step - loss: 2.8418 - acc: 0.2943 - val_loss: 3.0334 - val_acc: 0.2575\n",
            "Epoch 399/500\n",
            "100/100 [==============================] - 3s 26ms/step - loss: 2.8412 - acc: 0.2946 - val_loss: 3.0333 - val_acc: 0.2585\n",
            "Epoch 400/500\n",
            "100/100 [==============================] - 3s 27ms/step - loss: 2.8410 - acc: 0.2946 - val_loss: 3.0344 - val_acc: 0.2574\n",
            "Epoch 401/500\n",
            "100/100 [==============================] - 3s 31ms/step - loss: 2.8405 - acc: 0.2940 - val_loss: 3.0341 - val_acc: 0.2575\n",
            "Epoch 402/500\n",
            "100/100 [==============================] - 3s 31ms/step - loss: 2.8410 - acc: 0.2944 - val_loss: 3.0337 - val_acc: 0.2582\n",
            "Epoch 403/500\n",
            "100/100 [==============================] - 3s 31ms/step - loss: 2.8401 - acc: 0.2938 - val_loss: 3.0338 - val_acc: 0.2586\n",
            "Epoch 404/500\n",
            "100/100 [==============================] - 3s 31ms/step - loss: 2.8399 - acc: 0.2955 - val_loss: 3.0332 - val_acc: 0.2576\n",
            "Epoch 405/500\n",
            "100/100 [==============================] - 3s 26ms/step - loss: 2.8392 - acc: 0.2952 - val_loss: 3.0340 - val_acc: 0.2583\n",
            "Epoch 406/500\n",
            "100/100 [==============================] - 3s 30ms/step - loss: 2.8403 - acc: 0.2940 - val_loss: 3.0418 - val_acc: 0.2551\n",
            "Epoch 407/500\n",
            "100/100 [==============================] - 3s 26ms/step - loss: 2.8397 - acc: 0.2952 - val_loss: 3.0325 - val_acc: 0.2587\n",
            "Epoch 408/500\n",
            "100/100 [==============================] - 3s 31ms/step - loss: 2.8390 - acc: 0.2954 - val_loss: 3.0314 - val_acc: 0.2591\n",
            "Epoch 409/500\n",
            "100/100 [==============================] - 3s 31ms/step - loss: 2.8388 - acc: 0.2938 - val_loss: 3.0329 - val_acc: 0.2563\n",
            "Epoch 410/500\n",
            "100/100 [==============================] - 3s 31ms/step - loss: 2.8389 - acc: 0.2943 - val_loss: 3.0335 - val_acc: 0.2578\n",
            "Epoch 411/500\n",
            "100/100 [==============================] - 3s 26ms/step - loss: 2.8384 - acc: 0.2951 - val_loss: 3.0317 - val_acc: 0.2586\n",
            "Epoch 412/500\n",
            "100/100 [==============================] - 3s 26ms/step - loss: 2.8383 - acc: 0.2951 - val_loss: 3.0340 - val_acc: 0.2578\n",
            "Epoch 413/500\n",
            "100/100 [==============================] - 3s 31ms/step - loss: 2.8381 - acc: 0.2947 - val_loss: 3.0340 - val_acc: 0.2586\n",
            "Epoch 414/500\n",
            "100/100 [==============================] - 3s 31ms/step - loss: 2.8380 - acc: 0.2950 - val_loss: 3.0331 - val_acc: 0.2570\n",
            "Epoch 415/500\n",
            "100/100 [==============================] - 3s 26ms/step - loss: 2.8376 - acc: 0.2949 - val_loss: 3.0327 - val_acc: 0.2583\n",
            "Epoch 416/500\n",
            "100/100 [==============================] - 3s 31ms/step - loss: 2.8374 - acc: 0.2943 - val_loss: 3.0307 - val_acc: 0.2595\n",
            "Epoch 417/500\n",
            "100/100 [==============================] - 3s 31ms/step - loss: 2.8379 - acc: 0.2948 - val_loss: 3.0328 - val_acc: 0.2585\n",
            "Epoch 418/500\n",
            "100/100 [==============================] - 3s 26ms/step - loss: 2.8377 - acc: 0.2950 - val_loss: 3.0309 - val_acc: 0.2580\n",
            "Epoch 419/500\n",
            "100/100 [==============================] - 3s 30ms/step - loss: 2.8367 - acc: 0.2948 - val_loss: 3.0311 - val_acc: 0.2598\n",
            "Epoch 420/500\n",
            "100/100 [==============================] - 3s 27ms/step - loss: 2.8362 - acc: 0.2959 - val_loss: 3.0312 - val_acc: 0.2574\n",
            "Epoch 421/500\n",
            "100/100 [==============================] - 3s 31ms/step - loss: 2.8365 - acc: 0.2947 - val_loss: 3.0299 - val_acc: 0.2588\n",
            "Epoch 422/500\n",
            "100/100 [==============================] - 3s 26ms/step - loss: 2.8364 - acc: 0.2952 - val_loss: 3.0338 - val_acc: 0.2565\n",
            "Epoch 423/500\n",
            "100/100 [==============================] - 3s 31ms/step - loss: 2.8361 - acc: 0.2949 - val_loss: 3.0330 - val_acc: 0.2578\n",
            "Epoch 424/500\n",
            "100/100 [==============================] - 3s 26ms/step - loss: 2.8359 - acc: 0.2947 - val_loss: 3.0298 - val_acc: 0.2580\n",
            "Epoch 425/500\n",
            "100/100 [==============================] - 3s 27ms/step - loss: 2.8356 - acc: 0.2954 - val_loss: 3.0325 - val_acc: 0.2574\n",
            "Epoch 426/500\n",
            "100/100 [==============================] - 3s 31ms/step - loss: 2.8357 - acc: 0.2950 - val_loss: 3.0314 - val_acc: 0.2574\n",
            "Epoch 427/500\n",
            "100/100 [==============================] - 3s 31ms/step - loss: 2.8350 - acc: 0.2964 - val_loss: 3.0304 - val_acc: 0.2588\n",
            "Epoch 428/500\n",
            "100/100 [==============================] - 3s 27ms/step - loss: 2.8347 - acc: 0.2961 - val_loss: 3.0296 - val_acc: 0.2598\n",
            "Epoch 429/500\n",
            "100/100 [==============================] - 3s 31ms/step - loss: 2.8356 - acc: 0.2948 - val_loss: 3.0303 - val_acc: 0.2575\n",
            "Epoch 430/500\n",
            "100/100 [==============================] - 3s 31ms/step - loss: 2.8349 - acc: 0.2957 - val_loss: 3.0293 - val_acc: 0.2599\n",
            "Epoch 431/500\n",
            "100/100 [==============================] - 3s 32ms/step - loss: 2.8348 - acc: 0.2959 - val_loss: 3.0285 - val_acc: 0.2592\n",
            "Epoch 432/500\n",
            "100/100 [==============================] - 3s 31ms/step - loss: 2.8337 - acc: 0.2959 - val_loss: 3.0297 - val_acc: 0.2597\n",
            "Epoch 433/500\n",
            "100/100 [==============================] - 3s 27ms/step - loss: 2.8334 - acc: 0.2962 - val_loss: 3.0299 - val_acc: 0.2596\n",
            "Epoch 434/500\n",
            "100/100 [==============================] - 3s 31ms/step - loss: 2.8343 - acc: 0.2965 - val_loss: 3.0296 - val_acc: 0.2592\n",
            "Epoch 435/500\n",
            "100/100 [==============================] - 3s 31ms/step - loss: 2.8336 - acc: 0.2955 - val_loss: 3.0290 - val_acc: 0.2588\n",
            "Epoch 436/500\n",
            "100/100 [==============================] - 3s 28ms/step - loss: 2.8339 - acc: 0.2957 - val_loss: 3.0281 - val_acc: 0.2575\n",
            "Epoch 437/500\n",
            "100/100 [==============================] - 3s 26ms/step - loss: 2.8335 - acc: 0.2957 - val_loss: 3.0294 - val_acc: 0.2597\n",
            "Epoch 438/500\n",
            "100/100 [==============================] - 3s 26ms/step - loss: 2.8331 - acc: 0.2962 - val_loss: 3.0294 - val_acc: 0.2583\n",
            "Epoch 439/500\n",
            "100/100 [==============================] - 3s 31ms/step - loss: 2.8330 - acc: 0.2968 - val_loss: 3.0280 - val_acc: 0.2605\n",
            "Epoch 440/500\n",
            "100/100 [==============================] - 3s 32ms/step - loss: 2.8321 - acc: 0.2960 - val_loss: 3.0290 - val_acc: 0.2595\n",
            "Epoch 441/500\n",
            "100/100 [==============================] - 3s 27ms/step - loss: 2.8328 - acc: 0.2955 - val_loss: 3.0272 - val_acc: 0.2604\n",
            "Epoch 442/500\n",
            "100/100 [==============================] - 3s 31ms/step - loss: 2.8320 - acc: 0.2960 - val_loss: 3.0294 - val_acc: 0.2591\n",
            "Epoch 443/500\n",
            "100/100 [==============================] - 3s 31ms/step - loss: 2.8318 - acc: 0.2962 - val_loss: 3.0267 - val_acc: 0.2601\n",
            "Epoch 444/500\n",
            "100/100 [==============================] - 3s 31ms/step - loss: 2.8316 - acc: 0.2961 - val_loss: 3.0297 - val_acc: 0.2580\n",
            "Epoch 445/500\n",
            "100/100 [==============================] - 3s 31ms/step - loss: 2.8314 - acc: 0.2965 - val_loss: 3.0271 - val_acc: 0.2595\n",
            "Epoch 446/500\n",
            "100/100 [==============================] - 3s 31ms/step - loss: 2.8311 - acc: 0.2956 - val_loss: 3.0286 - val_acc: 0.2579\n",
            "Epoch 447/500\n",
            "100/100 [==============================] - 3s 26ms/step - loss: 2.8313 - acc: 0.2961 - val_loss: 3.0270 - val_acc: 0.2598\n",
            "Epoch 448/500\n",
            "100/100 [==============================] - 3s 29ms/step - loss: 2.8310 - acc: 0.2967 - val_loss: 3.0263 - val_acc: 0.2595\n",
            "Epoch 449/500\n",
            "100/100 [==============================] - 3s 30ms/step - loss: 2.8308 - acc: 0.2959 - val_loss: 3.0269 - val_acc: 0.2588\n",
            "Epoch 450/500\n",
            "100/100 [==============================] - 3s 32ms/step - loss: 2.8304 - acc: 0.2960 - val_loss: 3.0277 - val_acc: 0.2585\n",
            "Epoch 451/500\n",
            "100/100 [==============================] - 3s 31ms/step - loss: 2.8301 - acc: 0.2968 - val_loss: 3.0278 - val_acc: 0.2588\n",
            "Epoch 452/500\n",
            "100/100 [==============================] - 3s 28ms/step - loss: 2.8305 - acc: 0.2958 - val_loss: 3.0269 - val_acc: 0.2579\n",
            "Epoch 453/500\n",
            "100/100 [==============================] - 3s 32ms/step - loss: 2.8301 - acc: 0.2967 - val_loss: 3.0275 - val_acc: 0.2579\n",
            "Epoch 454/500\n",
            "100/100 [==============================] - 3s 31ms/step - loss: 2.8296 - acc: 0.2973 - val_loss: 3.0259 - val_acc: 0.2595\n",
            "Epoch 455/500\n",
            "100/100 [==============================] - 3s 31ms/step - loss: 2.8293 - acc: 0.2965 - val_loss: 3.0253 - val_acc: 0.2606\n",
            "Epoch 456/500\n",
            "100/100 [==============================] - 3s 31ms/step - loss: 2.8293 - acc: 0.2962 - val_loss: 3.0250 - val_acc: 0.2610\n",
            "Epoch 457/500\n",
            "100/100 [==============================] - 3s 26ms/step - loss: 2.8286 - acc: 0.2970 - val_loss: 3.0252 - val_acc: 0.2590\n",
            "Epoch 458/500\n",
            "100/100 [==============================] - 3s 31ms/step - loss: 2.8291 - acc: 0.2967 - val_loss: 3.0280 - val_acc: 0.2573\n",
            "Epoch 459/500\n",
            "100/100 [==============================] - 3s 26ms/step - loss: 2.8292 - acc: 0.2962 - val_loss: 3.0265 - val_acc: 0.2604\n",
            "Epoch 460/500\n",
            "100/100 [==============================] - 3s 26ms/step - loss: 2.8279 - acc: 0.2970 - val_loss: 3.0245 - val_acc: 0.2608\n",
            "Epoch 461/500\n",
            "100/100 [==============================] - 3s 30ms/step - loss: 2.8283 - acc: 0.2983 - val_loss: 3.0251 - val_acc: 0.2601\n",
            "Epoch 462/500\n",
            "100/100 [==============================] - 3s 26ms/step - loss: 2.8281 - acc: 0.2973 - val_loss: 3.0254 - val_acc: 0.2592\n",
            "Epoch 463/500\n",
            "100/100 [==============================] - 3s 31ms/step - loss: 2.8284 - acc: 0.2966 - val_loss: 3.0242 - val_acc: 0.2582\n",
            "Epoch 464/500\n",
            "100/100 [==============================] - 3s 26ms/step - loss: 2.8281 - acc: 0.2974 - val_loss: 3.0256 - val_acc: 0.2605\n",
            "Epoch 465/500\n",
            "100/100 [==============================] - 3s 30ms/step - loss: 2.8295 - acc: 0.2964 - val_loss: 3.0279 - val_acc: 0.2584\n",
            "Epoch 466/500\n",
            "100/100 [==============================] - 3s 32ms/step - loss: 2.8271 - acc: 0.2967 - val_loss: 3.0274 - val_acc: 0.2595\n",
            "Epoch 467/500\n",
            "100/100 [==============================] - 3s 26ms/step - loss: 2.8269 - acc: 0.2968 - val_loss: 3.0265 - val_acc: 0.2577\n",
            "Epoch 468/500\n",
            "100/100 [==============================] - 3s 26ms/step - loss: 2.8277 - acc: 0.2968 - val_loss: 3.0246 - val_acc: 0.2593\n",
            "Epoch 469/500\n",
            "100/100 [==============================] - 3s 31ms/step - loss: 2.8274 - acc: 0.2964 - val_loss: 3.0262 - val_acc: 0.2565\n",
            "Epoch 470/500\n",
            "100/100 [==============================] - 3s 29ms/step - loss: 2.8264 - acc: 0.2970 - val_loss: 3.0249 - val_acc: 0.2591\n",
            "Epoch 471/500\n",
            "100/100 [==============================] - 3s 26ms/step - loss: 2.8259 - acc: 0.2972 - val_loss: 3.0253 - val_acc: 0.2584\n",
            "Epoch 472/500\n",
            "100/100 [==============================] - 3s 31ms/step - loss: 2.8260 - acc: 0.2968 - val_loss: 3.0250 - val_acc: 0.2603\n",
            "Epoch 473/500\n",
            "100/100 [==============================] - 3s 26ms/step - loss: 2.8257 - acc: 0.2979 - val_loss: 3.0227 - val_acc: 0.2616\n",
            "Epoch 474/500\n",
            "100/100 [==============================] - 3s 31ms/step - loss: 2.8257 - acc: 0.2974 - val_loss: 3.0249 - val_acc: 0.2597\n",
            "Epoch 475/500\n",
            "100/100 [==============================] - 3s 32ms/step - loss: 2.8254 - acc: 0.2971 - val_loss: 3.0237 - val_acc: 0.2594\n",
            "Epoch 476/500\n",
            "100/100 [==============================] - 3s 26ms/step - loss: 2.8250 - acc: 0.2972 - val_loss: 3.0236 - val_acc: 0.2589\n",
            "Epoch 477/500\n",
            "100/100 [==============================] - 3s 27ms/step - loss: 2.8248 - acc: 0.2985 - val_loss: 3.0244 - val_acc: 0.2576\n",
            "Epoch 478/500\n",
            "100/100 [==============================] - 3s 28ms/step - loss: 2.8249 - acc: 0.2982 - val_loss: 3.0237 - val_acc: 0.2604\n",
            "Epoch 479/500\n",
            "100/100 [==============================] - 3s 27ms/step - loss: 2.8249 - acc: 0.2973 - val_loss: 3.0230 - val_acc: 0.2609\n",
            "Epoch 480/500\n",
            "100/100 [==============================] - 3s 31ms/step - loss: 2.8246 - acc: 0.2977 - val_loss: 3.0220 - val_acc: 0.2599\n",
            "Epoch 481/500\n",
            "100/100 [==============================] - 3s 31ms/step - loss: 2.8246 - acc: 0.2982 - val_loss: 3.0218 - val_acc: 0.2596\n",
            "Epoch 482/500\n",
            "100/100 [==============================] - 3s 27ms/step - loss: 2.8237 - acc: 0.2980 - val_loss: 3.0213 - val_acc: 0.2620\n",
            "Epoch 483/500\n",
            "100/100 [==============================] - 3s 30ms/step - loss: 2.8243 - acc: 0.2980 - val_loss: 3.0228 - val_acc: 0.2597\n",
            "Epoch 484/500\n",
            "100/100 [==============================] - 3s 31ms/step - loss: 2.8233 - acc: 0.2977 - val_loss: 3.0229 - val_acc: 0.2598\n",
            "Epoch 485/500\n",
            "100/100 [==============================] - 3s 31ms/step - loss: 2.8245 - acc: 0.2977 - val_loss: 3.0218 - val_acc: 0.2600\n",
            "Epoch 486/500\n",
            "100/100 [==============================] - 3s 26ms/step - loss: 2.8231 - acc: 0.2977 - val_loss: 3.0239 - val_acc: 0.2591\n",
            "Epoch 487/500\n",
            "100/100 [==============================] - 3s 31ms/step - loss: 2.8229 - acc: 0.2975 - val_loss: 3.0222 - val_acc: 0.2600\n",
            "Epoch 488/500\n",
            "100/100 [==============================] - 3s 27ms/step - loss: 2.8226 - acc: 0.2982 - val_loss: 3.0221 - val_acc: 0.2606\n",
            "Epoch 489/500\n",
            "100/100 [==============================] - 3s 31ms/step - loss: 2.8231 - acc: 0.2987 - val_loss: 3.0204 - val_acc: 0.2610\n",
            "Epoch 490/500\n",
            "100/100 [==============================] - 3s 26ms/step - loss: 2.8227 - acc: 0.2982 - val_loss: 3.0201 - val_acc: 0.2592\n",
            "Epoch 491/500\n",
            "100/100 [==============================] - 3s 31ms/step - loss: 2.8223 - acc: 0.2967 - val_loss: 3.0218 - val_acc: 0.2609\n",
            "Epoch 492/500\n",
            "100/100 [==============================] - 3s 32ms/step - loss: 2.8223 - acc: 0.2981 - val_loss: 3.0206 - val_acc: 0.2595\n",
            "Epoch 493/500\n",
            "100/100 [==============================] - 3s 31ms/step - loss: 2.8218 - acc: 0.2976 - val_loss: 3.0234 - val_acc: 0.2602\n",
            "Epoch 494/500\n",
            "100/100 [==============================] - 3s 31ms/step - loss: 2.8219 - acc: 0.2979 - val_loss: 3.0218 - val_acc: 0.2599\n",
            "Epoch 495/500\n",
            "100/100 [==============================] - 3s 31ms/step - loss: 2.8217 - acc: 0.2977 - val_loss: 3.0204 - val_acc: 0.2601\n",
            "Epoch 496/500\n",
            "100/100 [==============================] - 3s 31ms/step - loss: 2.8213 - acc: 0.2980 - val_loss: 3.0196 - val_acc: 0.2606\n",
            "Epoch 497/500\n",
            "100/100 [==============================] - 3s 31ms/step - loss: 2.8212 - acc: 0.2984 - val_loss: 3.0215 - val_acc: 0.2618\n",
            "Epoch 498/500\n",
            "100/100 [==============================] - 3s 26ms/step - loss: 2.8210 - acc: 0.2988 - val_loss: 3.0208 - val_acc: 0.2612\n",
            "Epoch 499/500\n",
            "100/100 [==============================] - 3s 31ms/step - loss: 2.8207 - acc: 0.2985 - val_loss: 3.0199 - val_acc: 0.2611\n",
            "Epoch 500/500\n",
            "100/100 [==============================] - 3s 27ms/step - loss: 2.8207 - acc: 0.2986 - val_loss: 3.0223 - val_acc: 0.2599\n",
            "Training time: 1463.2082512378693\n"
          ]
        }
      ]
    },
    {
      "cell_type": "code",
      "source": [
        "plt.plot(history.history['acc'], label='accuracy')\n",
        "plt.plot(history.history['val_acc'], label = 'val_accuracy')\n",
        "plt.xlabel('Epoch')\n",
        "plt.ylabel('Accuracy')\n",
        "plt.legend(loc='lower right')"
      ],
      "metadata": {
        "colab": {
          "base_uri": "https://localhost:8080/",
          "height": 296
        },
        "id": "I3glCnqyA0Jv",
        "outputId": "d6391c26-1e05-4f3a-e275-f477e7348f41"
      },
      "execution_count": 57,
      "outputs": [
        {
          "output_type": "execute_result",
          "data": {
            "text/plain": [
              "<matplotlib.legend.Legend at 0x7f471b676520>"
            ]
          },
          "metadata": {},
          "execution_count": 57
        },
        {
          "output_type": "display_data",
          "data": {
            "text/plain": [
              "<Figure size 432x288 with 1 Axes>"
            ],
            "image/png": "[encoded data removed]"
          },
          "metadata": {
            "needs_background": "light"
          }
        }
      ]
    },
    {
      "cell_type": "code",
      "source": [
        "test_loss, test_acc = model.evaluate(test_images,  test_labels, verbose=2)\n",
        "print(test_acc)"
      ],
      "metadata": {
        "colab": {
          "base_uri": "https://localhost:8080/",
          "height": 0
        },
        "id": "3qh1lFkLA6uw",
        "outputId": "e0b4b9f4-4ce0-4ff5-c1c2-0d407f469419"
      },
      "execution_count": 58,
      "outputs": [
        {
          "output_type": "stream",
          "name": "stdout",
          "text": [
            "313/313 - 1s - loss: 3.0036 - acc: 0.2741 - 893ms/epoch - 3ms/step\n",
            "0.27410000562667847\n"
          ]
        }
      ]
    },
    {
      "cell_type": "markdown",
      "source": [
        "##5 - Learning Rate: 1e-04, Epochs/Steps: 100/500, GPU as Hardware Accelerator, Training time: 7.23 minutes, Accuracy: 31%"
      ],
      "metadata": {
        "id": "m2AZ2zuyBELv"
      }
    },
    {
      "cell_type": "code",
      "source": [
        "model.compile(optimizer=optimizers.Adam(learning_rate=1e-04),\n",
        "              loss='categorical_crossentropy',\n",
        "              metrics=['acc'])\n",
        "print(\"Learning rate before second fit:\", model.optimizer.learning_rate.numpy())"
      ],
      "metadata": {
        "colab": {
          "base_uri": "https://localhost:8080/",
          "height": 0
        },
        "id": "4Rs7mGatBKeA",
        "outputId": "48d2bf53-cb03-44f2-ff70-d95a90509d1b"
      },
      "execution_count": 59,
      "outputs": [
        {
          "output_type": "stream",
          "name": "stdout",
          "text": [
            "Learning rate before second fit: 1e-04\n"
          ]
        }
      ]
    },
    {
      "cell_type": "code",
      "source": [
        "training_start = time.time()\n",
        "history = model.fit(train_images, train_labels,\n",
        "                    steps_per_epoch=500,\n",
        "                    epochs=100,\n",
        "                    validation_split=0.2) \n",
        "training_stop = time.time()\n",
        "training_time = training_stop - training_start\n",
        "print(f\"Training time: {training_time}\")"
      ],
      "metadata": {
        "colab": {
          "base_uri": "https://localhost:8080/",
          "height": 0
        },
        "id": "fUXRs0wKBf4P",
        "outputId": "1ebacef0-3827-4604-a503-d76d0abfb548"
      },
      "execution_count": 60,
      "outputs": [
        {
          "output_type": "stream",
          "name": "stdout",
          "text": [
            "Epoch 1/100\n",
            "500/500 [==============================] - 6s 10ms/step - loss: 2.8792 - acc: 0.2849 - val_loss: 3.0681 - val_acc: 0.2522\n",
            "Epoch 2/100\n",
            "500/500 [==============================] - 4s 7ms/step - loss: 2.8707 - acc: 0.2858 - val_loss: 3.0333 - val_acc: 0.2574\n",
            "Epoch 3/100\n",
            "500/500 [==============================] - 4s 8ms/step - loss: 2.8697 - acc: 0.2865 - val_loss: 3.0369 - val_acc: 0.2568\n",
            "Epoch 4/100\n",
            "500/500 [==============================] - 4s 9ms/step - loss: 2.8688 - acc: 0.2844 - val_loss: 3.0443 - val_acc: 0.2560\n",
            "Epoch 5/100\n",
            "500/500 [==============================] - 4s 8ms/step - loss: 2.8647 - acc: 0.2868 - val_loss: 3.0260 - val_acc: 0.2557\n",
            "Epoch 6/100\n",
            "500/500 [==============================] - 4s 7ms/step - loss: 2.8588 - acc: 0.2888 - val_loss: 3.0233 - val_acc: 0.2616\n",
            "Epoch 7/100\n",
            "500/500 [==============================] - 4s 8ms/step - loss: 2.8523 - acc: 0.2906 - val_loss: 3.0886 - val_acc: 0.2496\n",
            "Epoch 8/100\n",
            "500/500 [==============================] - 4s 7ms/step - loss: 2.8545 - acc: 0.2928 - val_loss: 3.0394 - val_acc: 0.2557\n",
            "Epoch 9/100\n",
            "500/500 [==============================] - 4s 7ms/step - loss: 2.8453 - acc: 0.2928 - val_loss: 3.0586 - val_acc: 0.2552\n",
            "Epoch 10/100\n",
            "500/500 [==============================] - 4s 9ms/step - loss: 2.8439 - acc: 0.2930 - val_loss: 3.0009 - val_acc: 0.2638\n",
            "Epoch 11/100\n",
            "500/500 [==============================] - 5s 9ms/step - loss: 2.8334 - acc: 0.2945 - val_loss: 3.0408 - val_acc: 0.2569\n",
            "Epoch 12/100\n",
            "500/500 [==============================] - 4s 8ms/step - loss: 2.8348 - acc: 0.2924 - val_loss: 3.0204 - val_acc: 0.2634\n",
            "Epoch 13/100\n",
            "500/500 [==============================] - 4s 9ms/step - loss: 2.8338 - acc: 0.2930 - val_loss: 3.0280 - val_acc: 0.2626\n",
            "Epoch 14/100\n",
            "500/500 [==============================] - 4s 7ms/step - loss: 2.8309 - acc: 0.2948 - val_loss: 3.0078 - val_acc: 0.2611\n",
            "Epoch 15/100\n",
            "500/500 [==============================] - 4s 8ms/step - loss: 2.8269 - acc: 0.2947 - val_loss: 3.0222 - val_acc: 0.2608\n",
            "Epoch 16/100\n",
            "500/500 [==============================] - 4s 9ms/step - loss: 2.8200 - acc: 0.2970 - val_loss: 3.0076 - val_acc: 0.2620\n",
            "Epoch 17/100\n",
            "500/500 [==============================] - 4s 7ms/step - loss: 2.8165 - acc: 0.2970 - val_loss: 3.0009 - val_acc: 0.2621\n",
            "Epoch 18/100\n",
            "500/500 [==============================] - 4s 8ms/step - loss: 2.8113 - acc: 0.2972 - val_loss: 3.0391 - val_acc: 0.2604\n",
            "Epoch 19/100\n",
            "500/500 [==============================] - 4s 9ms/step - loss: 2.8105 - acc: 0.2970 - val_loss: 3.0102 - val_acc: 0.2576\n",
            "Epoch 20/100\n",
            "500/500 [==============================] - 4s 7ms/step - loss: 2.8042 - acc: 0.2991 - val_loss: 2.9979 - val_acc: 0.2647\n",
            "Epoch 21/100\n",
            "500/500 [==============================] - 4s 7ms/step - loss: 2.8014 - acc: 0.2992 - val_loss: 3.0086 - val_acc: 0.2628\n",
            "Epoch 22/100\n",
            "500/500 [==============================] - 4s 8ms/step - loss: 2.8001 - acc: 0.2984 - val_loss: 3.0133 - val_acc: 0.2606\n",
            "Epoch 23/100\n",
            "500/500 [==============================] - 4s 8ms/step - loss: 2.7879 - acc: 0.3010 - val_loss: 2.9785 - val_acc: 0.2683\n",
            "Epoch 24/100\n",
            "500/500 [==============================] - 4s 8ms/step - loss: 2.7921 - acc: 0.3016 - val_loss: 2.9892 - val_acc: 0.2640\n",
            "Epoch 25/100\n",
            "500/500 [==============================] - 4s 9ms/step - loss: 2.7842 - acc: 0.3035 - val_loss: 2.9664 - val_acc: 0.2711\n",
            "Epoch 26/100\n",
            "500/500 [==============================] - 4s 7ms/step - loss: 2.7795 - acc: 0.3031 - val_loss: 2.9713 - val_acc: 0.2662\n",
            "Epoch 27/100\n",
            "500/500 [==============================] - 4s 7ms/step - loss: 2.7771 - acc: 0.3062 - val_loss: 2.9795 - val_acc: 0.2639\n",
            "Epoch 28/100\n",
            "500/500 [==============================] - 4s 8ms/step - loss: 2.7726 - acc: 0.3044 - val_loss: 2.9801 - val_acc: 0.2681\n",
            "Epoch 29/100\n",
            "500/500 [==============================] - 4s 8ms/step - loss: 2.7692 - acc: 0.3072 - val_loss: 2.9787 - val_acc: 0.2665\n",
            "Epoch 30/100\n",
            "500/500 [==============================] - 4s 7ms/step - loss: 2.7679 - acc: 0.3054 - val_loss: 2.9643 - val_acc: 0.2704\n",
            "Epoch 31/100\n",
            "500/500 [==============================] - 4s 8ms/step - loss: 2.7626 - acc: 0.3074 - val_loss: 2.9721 - val_acc: 0.2687\n",
            "Epoch 32/100\n",
            "500/500 [==============================] - 4s 9ms/step - loss: 2.7576 - acc: 0.3092 - val_loss: 2.9632 - val_acc: 0.2706\n",
            "Epoch 33/100\n",
            "500/500 [==============================] - 4s 8ms/step - loss: 2.7506 - acc: 0.3086 - val_loss: 2.9583 - val_acc: 0.2715\n",
            "Epoch 34/100\n",
            "500/500 [==============================] - 4s 8ms/step - loss: 2.7498 - acc: 0.3112 - val_loss: 2.9639 - val_acc: 0.2694\n",
            "Epoch 35/100\n",
            "500/500 [==============================] - 4s 8ms/step - loss: 2.7507 - acc: 0.3102 - val_loss: 2.9618 - val_acc: 0.2692\n",
            "Epoch 36/100\n",
            "500/500 [==============================] - 4s 7ms/step - loss: 2.7474 - acc: 0.3109 - val_loss: 2.9590 - val_acc: 0.2689\n",
            "Epoch 37/100\n",
            "500/500 [==============================] - 4s 7ms/step - loss: 2.7383 - acc: 0.3132 - val_loss: 2.9545 - val_acc: 0.2741\n",
            "Epoch 38/100\n",
            "500/500 [==============================] - 4s 8ms/step - loss: 2.7380 - acc: 0.3122 - val_loss: 2.9340 - val_acc: 0.2729\n",
            "Epoch 39/100\n",
            "500/500 [==============================] - 4s 7ms/step - loss: 2.7309 - acc: 0.3133 - val_loss: 2.9347 - val_acc: 0.2746\n",
            "Epoch 40/100\n",
            "500/500 [==============================] - 4s 7ms/step - loss: 2.7283 - acc: 0.3185 - val_loss: 2.9437 - val_acc: 0.2727\n",
            "Epoch 41/100\n",
            "500/500 [==============================] - 4s 8ms/step - loss: 2.7219 - acc: 0.3163 - val_loss: 2.9372 - val_acc: 0.2745\n",
            "Epoch 42/100\n",
            "500/500 [==============================] - 4s 7ms/step - loss: 2.7163 - acc: 0.3168 - val_loss: 2.9270 - val_acc: 0.2766\n",
            "Epoch 43/100\n",
            "500/500 [==============================] - 4s 8ms/step - loss: 2.7159 - acc: 0.3176 - val_loss: 2.9458 - val_acc: 0.2717\n",
            "Epoch 44/100\n",
            "500/500 [==============================] - 4s 8ms/step - loss: 2.7087 - acc: 0.3189 - val_loss: 2.9397 - val_acc: 0.2728\n",
            "Epoch 45/100\n",
            "500/500 [==============================] - 4s 7ms/step - loss: 2.7086 - acc: 0.3180 - val_loss: 2.9590 - val_acc: 0.2769\n",
            "Epoch 46/100\n",
            "500/500 [==============================] - 4s 8ms/step - loss: 2.7063 - acc: 0.3195 - val_loss: 2.9380 - val_acc: 0.2745\n",
            "Epoch 47/100\n",
            "500/500 [==============================] - 5s 9ms/step - loss: 2.7022 - acc: 0.3195 - val_loss: 2.9343 - val_acc: 0.2774\n",
            "Epoch 48/100\n",
            "500/500 [==============================] - 4s 7ms/step - loss: 2.6993 - acc: 0.3189 - val_loss: 2.9370 - val_acc: 0.2791\n",
            "Epoch 49/100\n",
            "500/500 [==============================] - 3s 7ms/step - loss: 2.6963 - acc: 0.3220 - val_loss: 2.9260 - val_acc: 0.2740\n",
            "Epoch 50/100\n",
            "500/500 [==============================] - 4s 8ms/step - loss: 2.6878 - acc: 0.3249 - val_loss: 2.9316 - val_acc: 0.2791\n",
            "Epoch 51/100\n",
            "500/500 [==============================] - 4s 7ms/step - loss: 2.6906 - acc: 0.3213 - val_loss: 2.9254 - val_acc: 0.2783\n",
            "Epoch 52/100\n",
            "500/500 [==============================] - 4s 7ms/step - loss: 2.6821 - acc: 0.3232 - val_loss: 2.9111 - val_acc: 0.2796\n",
            "Epoch 53/100\n",
            "500/500 [==============================] - 4s 8ms/step - loss: 2.6763 - acc: 0.3253 - val_loss: 2.9369 - val_acc: 0.2777\n",
            "Epoch 54/100\n",
            "500/500 [==============================] - 4s 8ms/step - loss: 2.6718 - acc: 0.3259 - val_loss: 2.8938 - val_acc: 0.2801\n",
            "Epoch 55/100\n",
            "500/500 [==============================] - 4s 7ms/step - loss: 2.6710 - acc: 0.3244 - val_loss: 2.9032 - val_acc: 0.2806\n",
            "Epoch 56/100\n",
            "500/500 [==============================] - 4s 7ms/step - loss: 2.6642 - acc: 0.3259 - val_loss: 2.9112 - val_acc: 0.2860\n",
            "Epoch 57/100\n",
            "500/500 [==============================] - 4s 8ms/step - loss: 2.6641 - acc: 0.3286 - val_loss: 2.8818 - val_acc: 0.2890\n",
            "Epoch 58/100\n",
            "500/500 [==============================] - 4s 8ms/step - loss: 2.6583 - acc: 0.3301 - val_loss: 2.8788 - val_acc: 0.2877\n",
            "Epoch 59/100\n",
            "500/500 [==============================] - 4s 7ms/step - loss: 2.6530 - acc: 0.3291 - val_loss: 2.8779 - val_acc: 0.2892\n",
            "Epoch 60/100\n",
            "500/500 [==============================] - 4s 8ms/step - loss: 2.6489 - acc: 0.3311 - val_loss: 2.8877 - val_acc: 0.2849\n",
            "Epoch 61/100\n",
            "500/500 [==============================] - 4s 7ms/step - loss: 2.6470 - acc: 0.3309 - val_loss: 2.9050 - val_acc: 0.2817\n",
            "Epoch 62/100\n",
            "500/500 [==============================] - 4s 7ms/step - loss: 2.6478 - acc: 0.3293 - val_loss: 2.9094 - val_acc: 0.2821\n",
            "Epoch 63/100\n",
            "500/500 [==============================] - 4s 8ms/step - loss: 2.6409 - acc: 0.3335 - val_loss: 2.9077 - val_acc: 0.2783\n",
            "Epoch 64/100\n",
            "500/500 [==============================] - 4s 7ms/step - loss: 2.6380 - acc: 0.3319 - val_loss: 2.8635 - val_acc: 0.2901\n",
            "Epoch 65/100\n",
            "500/500 [==============================] - 4s 7ms/step - loss: 2.6346 - acc: 0.3334 - val_loss: 2.8702 - val_acc: 0.2925\n",
            "Epoch 66/100\n",
            "500/500 [==============================] - 4s 8ms/step - loss: 2.6303 - acc: 0.3354 - val_loss: 2.8867 - val_acc: 0.2880\n",
            "Epoch 67/100\n",
            "500/500 [==============================] - 4s 9ms/step - loss: 2.6259 - acc: 0.3358 - val_loss: 2.8700 - val_acc: 0.2876\n",
            "Epoch 68/100\n",
            "500/500 [==============================] - 4s 8ms/step - loss: 2.6213 - acc: 0.3373 - val_loss: 2.8773 - val_acc: 0.2873\n",
            "Epoch 69/100\n",
            "500/500 [==============================] - 4s 8ms/step - loss: 2.6226 - acc: 0.3377 - val_loss: 2.8672 - val_acc: 0.2922\n",
            "Epoch 70/100\n",
            "500/500 [==============================] - 4s 8ms/step - loss: 2.6130 - acc: 0.3380 - val_loss: 2.8698 - val_acc: 0.2911\n",
            "Epoch 71/100\n",
            "500/500 [==============================] - 4s 7ms/step - loss: 2.6119 - acc: 0.3385 - val_loss: 2.8840 - val_acc: 0.2867\n",
            "Epoch 72/100\n",
            "500/500 [==============================] - 4s 8ms/step - loss: 2.6100 - acc: 0.3381 - val_loss: 2.8749 - val_acc: 0.2893\n",
            "Epoch 73/100\n",
            "500/500 [==============================] - 4s 8ms/step - loss: 2.6018 - acc: 0.3383 - val_loss: 2.8653 - val_acc: 0.2929\n",
            "Epoch 74/100\n",
            "500/500 [==============================] - 4s 8ms/step - loss: 2.5997 - acc: 0.3410 - val_loss: 2.8474 - val_acc: 0.2936\n",
            "Epoch 75/100\n",
            "500/500 [==============================] - 4s 8ms/step - loss: 2.6009 - acc: 0.3396 - val_loss: 2.8434 - val_acc: 0.2934\n",
            "Epoch 76/100\n",
            "500/500 [==============================] - 4s 9ms/step - loss: 2.5954 - acc: 0.3421 - val_loss: 2.8723 - val_acc: 0.2893\n",
            "Epoch 77/100\n",
            "500/500 [==============================] - 4s 7ms/step - loss: 2.5924 - acc: 0.3432 - val_loss: 2.8526 - val_acc: 0.2947\n",
            "Epoch 78/100\n",
            "500/500 [==============================] - 4s 8ms/step - loss: 2.5855 - acc: 0.3427 - val_loss: 2.8593 - val_acc: 0.2912\n",
            "Epoch 79/100\n",
            "500/500 [==============================] - 4s 9ms/step - loss: 2.5871 - acc: 0.3413 - val_loss: 2.9083 - val_acc: 0.2857\n",
            "Epoch 80/100\n",
            "500/500 [==============================] - 4s 7ms/step - loss: 2.5854 - acc: 0.3438 - val_loss: 2.8379 - val_acc: 0.2979\n",
            "Epoch 81/100\n",
            "500/500 [==============================] - 4s 8ms/step - loss: 2.5789 - acc: 0.3444 - val_loss: 2.8249 - val_acc: 0.3018\n",
            "Epoch 82/100\n",
            "500/500 [==============================] - 4s 9ms/step - loss: 2.5781 - acc: 0.3434 - val_loss: 2.8956 - val_acc: 0.2843\n",
            "Epoch 83/100\n",
            "500/500 [==============================] - 4s 8ms/step - loss: 2.5735 - acc: 0.3444 - val_loss: 2.8345 - val_acc: 0.2959\n",
            "Epoch 84/100\n",
            "500/500 [==============================] - 4s 8ms/step - loss: 2.5655 - acc: 0.3492 - val_loss: 2.8304 - val_acc: 0.2986\n",
            "Epoch 85/100\n",
            "500/500 [==============================] - 4s 8ms/step - loss: 2.5631 - acc: 0.3484 - val_loss: 2.8337 - val_acc: 0.2959\n",
            "Epoch 86/100\n",
            "500/500 [==============================] - 4s 7ms/step - loss: 2.5601 - acc: 0.3487 - val_loss: 2.8318 - val_acc: 0.2960\n",
            "Epoch 87/100\n",
            "500/500 [==============================] - 4s 8ms/step - loss: 2.5574 - acc: 0.3512 - val_loss: 2.8267 - val_acc: 0.2975\n",
            "Epoch 88/100\n",
            "500/500 [==============================] - 4s 9ms/step - loss: 2.5570 - acc: 0.3480 - val_loss: 2.8565 - val_acc: 0.2948\n",
            "Epoch 89/100\n",
            "500/500 [==============================] - 4s 7ms/step - loss: 2.5517 - acc: 0.3517 - val_loss: 2.8344 - val_acc: 0.3008\n",
            "Epoch 90/100\n",
            "500/500 [==============================] - 4s 8ms/step - loss: 2.5503 - acc: 0.3505 - val_loss: 2.8126 - val_acc: 0.3004\n",
            "Epoch 91/100\n",
            "500/500 [==============================] - 4s 9ms/step - loss: 2.5474 - acc: 0.3517 - val_loss: 2.8218 - val_acc: 0.3006\n",
            "Epoch 92/100\n",
            "500/500 [==============================] - 4s 8ms/step - loss: 2.5429 - acc: 0.3511 - val_loss: 2.8686 - val_acc: 0.2922\n",
            "Epoch 93/100\n",
            "500/500 [==============================] - 4s 8ms/step - loss: 2.5378 - acc: 0.3524 - val_loss: 2.8306 - val_acc: 0.2985\n",
            "Epoch 94/100\n",
            "500/500 [==============================] - 4s 8ms/step - loss: 2.5391 - acc: 0.3524 - val_loss: 2.8142 - val_acc: 0.3009\n",
            "Epoch 95/100\n",
            "500/500 [==============================] - 4s 7ms/step - loss: 2.5332 - acc: 0.3530 - val_loss: 2.8199 - val_acc: 0.2998\n",
            "Epoch 96/100\n",
            "500/500 [==============================] - 4s 8ms/step - loss: 2.5292 - acc: 0.3553 - val_loss: 2.8322 - val_acc: 0.2944\n",
            "Epoch 97/100\n",
            "500/500 [==============================] - 4s 8ms/step - loss: 2.5283 - acc: 0.3548 - val_loss: 2.8435 - val_acc: 0.2974\n",
            "Epoch 98/100\n",
            "500/500 [==============================] - 4s 7ms/step - loss: 2.5246 - acc: 0.3562 - val_loss: 2.8070 - val_acc: 0.3019\n",
            "Epoch 99/100\n",
            "500/500 [==============================] - 4s 8ms/step - loss: 2.5202 - acc: 0.3554 - val_loss: 2.8294 - val_acc: 0.2962\n",
            "Epoch 100/100\n",
            "500/500 [==============================] - 5s 9ms/step - loss: 2.5173 - acc: 0.3585 - val_loss: 2.7964 - val_acc: 0.3015\n",
            "Training time: 443.7711670398712\n"
          ]
        }
      ]
    },
    {
      "cell_type": "code",
      "source": [
        "plt.plot(history.history['acc'], label='accuracy')\n",
        "plt.plot(history.history['val_acc'], label = 'val_accuracy')\n",
        "plt.xlabel('Epoch')\n",
        "plt.ylabel('Accuracy')\n",
        "plt.legend(loc='lower right')"
      ],
      "metadata": {
        "colab": {
          "base_uri": "https://localhost:8080/",
          "height": 296
        },
        "id": "wZqWUZTADXH3",
        "outputId": "b8bc224b-d17f-4e58-bd2a-082f3a230e73"
      },
      "execution_count": 61,
      "outputs": [
        {
          "output_type": "execute_result",
          "data": {
            "text/plain": [
              "<matplotlib.legend.Legend at 0x7f478c7d8fd0>"
            ]
          },
          "metadata": {},
          "execution_count": 61
        },
        {
          "output_type": "display_data",
          "data": {
            "text/plain": [
              "<Figure size 432x288 with 1 Axes>"
            ],
            "image/png": "[encoded data removed]"
          },
          "metadata": {
            "needs_background": "light"
          }
        }
      ]
    },
    {
      "cell_type": "code",
      "source": [
        "test_loss, test_acc = model.evaluate(test_images,  test_labels, verbose=2)\n",
        "print(test_acc)"
      ],
      "metadata": {
        "colab": {
          "base_uri": "https://localhost:8080/",
          "height": 0
        },
        "id": "b7O304UHDbln",
        "outputId": "747f88e6-976b-48de-e6d0-0d2859671e05"
      },
      "execution_count": 62,
      "outputs": [
        {
          "output_type": "stream",
          "name": "stdout",
          "text": [
            "313/313 - 1s - loss: 2.7652 - acc: 0.3114 - 878ms/epoch - 3ms/step\n",
            "0.31139999628067017\n"
          ]
        }
      ]
    },
    {
      "cell_type": "markdown",
      "source": [
        "##6 - Learning Rate: 1e-05, Epochs/Steps: 100/500, GPU as Hardware Accelerator, Training time: 6.40 minutes, Accuracy: 31.9%"
      ],
      "metadata": {
        "id": "9S_DEQlhDo03"
      }
    },
    {
      "cell_type": "code",
      "source": [
        "model.compile(optimizer=optimizers.Adam(learning_rate=1e-05),\n",
        "              loss='categorical_crossentropy',\n",
        "              metrics=['acc'])\n",
        "print(\"Learning rate before fifth fit:\", model.optimizer.learning_rate.numpy())"
      ],
      "metadata": {
        "colab": {
          "base_uri": "https://localhost:8080/",
          "height": 0
        },
        "id": "z4vExtYMDsmV",
        "outputId": "67261369-fab0-419d-f1a4-0f880d9db5af"
      },
      "execution_count": 64,
      "outputs": [
        {
          "output_type": "stream",
          "name": "stdout",
          "text": [
            "Learning rate before fifth fit: 1e-05\n"
          ]
        }
      ]
    },
    {
      "cell_type": "code",
      "source": [
        "training_start = time.time()\n",
        "history = model.fit(train_images, train_labels,\n",
        "                    steps_per_epoch=500,\n",
        "                    epochs=100,\n",
        "                    validation_split=0.2) \n",
        "training_stop = time.time()\n",
        "training_time = training_stop - training_start\n",
        "print(f\"Training time: {training_time}\")"
      ],
      "metadata": {
        "colab": {
          "base_uri": "https://localhost:8080/",
          "height": 0
        },
        "id": "D4el-zZFDxmd",
        "outputId": "be509e25-bce9-4bff-dee8-cf621e458f1b"
      },
      "execution_count": 65,
      "outputs": [
        {
          "output_type": "stream",
          "name": "stdout",
          "text": [
            "Epoch 1/100\n",
            "500/500 [==============================] - 5s 9ms/step - loss: 2.4705 - acc: 0.3686 - val_loss: 2.7722 - val_acc: 0.3118\n",
            "Epoch 2/100\n",
            "500/500 [==============================] - 4s 8ms/step - loss: 2.4659 - acc: 0.3706 - val_loss: 2.7708 - val_acc: 0.3117\n",
            "Epoch 3/100\n",
            "500/500 [==============================] - 4s 9ms/step - loss: 2.4648 - acc: 0.3695 - val_loss: 2.7733 - val_acc: 0.3117\n",
            "Epoch 4/100\n",
            "500/500 [==============================] - 4s 8ms/step - loss: 2.4636 - acc: 0.3709 - val_loss: 2.7733 - val_acc: 0.3112\n",
            "Epoch 5/100\n",
            "500/500 [==============================] - 4s 8ms/step - loss: 2.4638 - acc: 0.3706 - val_loss: 2.7712 - val_acc: 0.3131\n",
            "Epoch 6/100\n",
            "500/500 [==============================] - 4s 8ms/step - loss: 2.4622 - acc: 0.3717 - val_loss: 2.7730 - val_acc: 0.3123\n",
            "Epoch 7/100\n",
            "500/500 [==============================] - 4s 8ms/step - loss: 2.4635 - acc: 0.3716 - val_loss: 2.7705 - val_acc: 0.3113\n",
            "Epoch 8/100\n",
            "500/500 [==============================] - 4s 8ms/step - loss: 2.4620 - acc: 0.3712 - val_loss: 2.7754 - val_acc: 0.3114\n",
            "Epoch 9/100\n",
            "500/500 [==============================] - 4s 8ms/step - loss: 2.4615 - acc: 0.3711 - val_loss: 2.7746 - val_acc: 0.3106\n",
            "Epoch 10/100\n",
            "500/500 [==============================] - 4s 8ms/step - loss: 2.4611 - acc: 0.3711 - val_loss: 2.7731 - val_acc: 0.3131\n",
            "Epoch 11/100\n",
            "500/500 [==============================] - 4s 8ms/step - loss: 2.4603 - acc: 0.3711 - val_loss: 2.7717 - val_acc: 0.3141\n",
            "Epoch 12/100\n",
            "500/500 [==============================] - 4s 8ms/step - loss: 2.4601 - acc: 0.3712 - val_loss: 2.7740 - val_acc: 0.3125\n",
            "Epoch 13/100\n",
            "500/500 [==============================] - 4s 7ms/step - loss: 2.4593 - acc: 0.3702 - val_loss: 2.7707 - val_acc: 0.3150\n",
            "Epoch 14/100\n",
            "500/500 [==============================] - 4s 8ms/step - loss: 2.4596 - acc: 0.3707 - val_loss: 2.7708 - val_acc: 0.3117\n",
            "Epoch 15/100\n",
            "500/500 [==============================] - 4s 9ms/step - loss: 2.4585 - acc: 0.3713 - val_loss: 2.7712 - val_acc: 0.3139\n",
            "Epoch 16/100\n",
            "500/500 [==============================] - 4s 7ms/step - loss: 2.4582 - acc: 0.3715 - val_loss: 2.7732 - val_acc: 0.3126\n",
            "Epoch 17/100\n",
            "500/500 [==============================] - 4s 8ms/step - loss: 2.4580 - acc: 0.3711 - val_loss: 2.7699 - val_acc: 0.3129\n",
            "Epoch 18/100\n",
            "500/500 [==============================] - 5s 10ms/step - loss: 2.4576 - acc: 0.3721 - val_loss: 2.7711 - val_acc: 0.3125\n",
            "Epoch 19/100\n",
            "500/500 [==============================] - 4s 7ms/step - loss: 2.4570 - acc: 0.3709 - val_loss: 2.7714 - val_acc: 0.3120\n",
            "Epoch 20/100\n",
            "500/500 [==============================] - 4s 8ms/step - loss: 2.4578 - acc: 0.3715 - val_loss: 2.7732 - val_acc: 0.3119\n",
            "Epoch 21/100\n",
            "500/500 [==============================] - 4s 9ms/step - loss: 2.4567 - acc: 0.3713 - val_loss: 2.7693 - val_acc: 0.3132\n",
            "Epoch 22/100\n",
            "500/500 [==============================] - 4s 8ms/step - loss: 2.4555 - acc: 0.3725 - val_loss: 2.7713 - val_acc: 0.3114\n",
            "Epoch 23/100\n",
            "500/500 [==============================] - 4s 8ms/step - loss: 2.4558 - acc: 0.3715 - val_loss: 2.7720 - val_acc: 0.3129\n",
            "Epoch 24/100\n",
            "500/500 [==============================] - 4s 9ms/step - loss: 2.4558 - acc: 0.3712 - val_loss: 2.7769 - val_acc: 0.3101\n",
            "Epoch 25/100\n",
            "500/500 [==============================] - 3s 7ms/step - loss: 2.4546 - acc: 0.3719 - val_loss: 2.7679 - val_acc: 0.3145\n",
            "Epoch 26/100\n",
            "500/500 [==============================] - 4s 7ms/step - loss: 2.4549 - acc: 0.3724 - val_loss: 2.7681 - val_acc: 0.3140\n",
            "Epoch 27/100\n",
            "500/500 [==============================] - 4s 9ms/step - loss: 2.4543 - acc: 0.3726 - val_loss: 2.7687 - val_acc: 0.3132\n",
            "Epoch 28/100\n",
            "500/500 [==============================] - 4s 7ms/step - loss: 2.4544 - acc: 0.3721 - val_loss: 2.7730 - val_acc: 0.3115\n",
            "Epoch 29/100\n",
            "500/500 [==============================] - 4s 7ms/step - loss: 2.4541 - acc: 0.3722 - val_loss: 2.7703 - val_acc: 0.3139\n",
            "Epoch 30/100\n",
            "500/500 [==============================] - 5s 9ms/step - loss: 2.4531 - acc: 0.3720 - val_loss: 2.7752 - val_acc: 0.3116\n",
            "Epoch 31/100\n",
            "500/500 [==============================] - 4s 7ms/step - loss: 2.4528 - acc: 0.3725 - val_loss: 2.7690 - val_acc: 0.3121\n",
            "Epoch 32/100\n",
            "500/500 [==============================] - 4s 7ms/step - loss: 2.4521 - acc: 0.3729 - val_loss: 2.7690 - val_acc: 0.3142\n",
            "Epoch 33/100\n",
            "500/500 [==============================] - 4s 8ms/step - loss: 2.4519 - acc: 0.3728 - val_loss: 2.7711 - val_acc: 0.3133\n",
            "Epoch 34/100\n",
            "500/500 [==============================] - 4s 7ms/step - loss: 2.4521 - acc: 0.3724 - val_loss: 2.7708 - val_acc: 0.3128\n",
            "Epoch 35/100\n",
            "500/500 [==============================] - 4s 7ms/step - loss: 2.4510 - acc: 0.3726 - val_loss: 2.7697 - val_acc: 0.3130\n",
            "Epoch 36/100\n",
            "500/500 [==============================] - 4s 8ms/step - loss: 2.4515 - acc: 0.3738 - val_loss: 2.7724 - val_acc: 0.3110\n",
            "Epoch 37/100\n",
            "500/500 [==============================] - 4s 7ms/step - loss: 2.4506 - acc: 0.3740 - val_loss: 2.7713 - val_acc: 0.3140\n",
            "Epoch 38/100\n",
            "500/500 [==============================] - 4s 7ms/step - loss: 2.4501 - acc: 0.3732 - val_loss: 2.7707 - val_acc: 0.3128\n",
            "Epoch 39/100\n",
            "500/500 [==============================] - 4s 8ms/step - loss: 2.4496 - acc: 0.3726 - val_loss: 2.7691 - val_acc: 0.3118\n",
            "Epoch 40/100\n",
            "500/500 [==============================] - 4s 9ms/step - loss: 2.4492 - acc: 0.3728 - val_loss: 2.7702 - val_acc: 0.3123\n",
            "Epoch 41/100\n",
            "500/500 [==============================] - 4s 8ms/step - loss: 2.4494 - acc: 0.3745 - val_loss: 2.7688 - val_acc: 0.3124\n",
            "Epoch 42/100\n",
            "500/500 [==============================] - 4s 9ms/step - loss: 2.4496 - acc: 0.3726 - val_loss: 2.7666 - val_acc: 0.3132\n",
            "Epoch 43/100\n",
            "500/500 [==============================] - 4s 8ms/step - loss: 2.4492 - acc: 0.3731 - val_loss: 2.7686 - val_acc: 0.3139\n",
            "Epoch 44/100\n",
            "500/500 [==============================] - 3s 7ms/step - loss: 2.4481 - acc: 0.3738 - val_loss: 2.7678 - val_acc: 0.3123\n",
            "Epoch 45/100\n",
            "500/500 [==============================] - 4s 8ms/step - loss: 2.4477 - acc: 0.3728 - val_loss: 2.7684 - val_acc: 0.3142\n",
            "Epoch 46/100\n",
            "500/500 [==============================] - 4s 8ms/step - loss: 2.4479 - acc: 0.3744 - val_loss: 2.7683 - val_acc: 0.3136\n",
            "Epoch 47/100\n",
            "500/500 [==============================] - 4s 8ms/step - loss: 2.4470 - acc: 0.3741 - val_loss: 2.7666 - val_acc: 0.3137\n",
            "Epoch 48/100\n",
            "500/500 [==============================] - 4s 7ms/step - loss: 2.4468 - acc: 0.3734 - val_loss: 2.7675 - val_acc: 0.3130\n",
            "Epoch 49/100\n",
            "500/500 [==============================] - 4s 8ms/step - loss: 2.4462 - acc: 0.3735 - val_loss: 2.7645 - val_acc: 0.3149\n",
            "Epoch 50/100\n",
            "500/500 [==============================] - 4s 7ms/step - loss: 2.4463 - acc: 0.3745 - val_loss: 2.7661 - val_acc: 0.3113\n",
            "Epoch 51/100\n",
            "500/500 [==============================] - 4s 8ms/step - loss: 2.4459 - acc: 0.3728 - val_loss: 2.7662 - val_acc: 0.3145\n",
            "Epoch 52/100\n",
            "500/500 [==============================] - 4s 8ms/step - loss: 2.4460 - acc: 0.3732 - val_loss: 2.7681 - val_acc: 0.3144\n",
            "Epoch 53/100\n",
            "500/500 [==============================] - 4s 7ms/step - loss: 2.4447 - acc: 0.3742 - val_loss: 2.7656 - val_acc: 0.3137\n",
            "Epoch 54/100\n",
            "500/500 [==============================] - 4s 7ms/step - loss: 2.4448 - acc: 0.3740 - val_loss: 2.7635 - val_acc: 0.3152\n",
            "Epoch 55/100\n",
            "500/500 [==============================] - 4s 9ms/step - loss: 2.4444 - acc: 0.3753 - val_loss: 2.7655 - val_acc: 0.3156\n",
            "Epoch 56/100\n",
            "500/500 [==============================] - 4s 8ms/step - loss: 2.4445 - acc: 0.3742 - val_loss: 2.7631 - val_acc: 0.3137\n",
            "Epoch 57/100\n",
            "500/500 [==============================] - 4s 8ms/step - loss: 2.4442 - acc: 0.3756 - val_loss: 2.7654 - val_acc: 0.3138\n",
            "Epoch 58/100\n",
            "500/500 [==============================] - 4s 9ms/step - loss: 2.4434 - acc: 0.3745 - val_loss: 2.7644 - val_acc: 0.3143\n",
            "Epoch 59/100\n",
            "500/500 [==============================] - 3s 7ms/step - loss: 2.4431 - acc: 0.3751 - val_loss: 2.7658 - val_acc: 0.3128\n",
            "Epoch 60/100\n",
            "500/500 [==============================] - 4s 7ms/step - loss: 2.4427 - acc: 0.3748 - val_loss: 2.7640 - val_acc: 0.3165\n",
            "Epoch 61/100\n",
            "500/500 [==============================] - 4s 8ms/step - loss: 2.4422 - acc: 0.3753 - val_loss: 2.7645 - val_acc: 0.3126\n",
            "Epoch 62/100\n",
            "500/500 [==============================] - 4s 9ms/step - loss: 2.4425 - acc: 0.3746 - val_loss: 2.7647 - val_acc: 0.3144\n",
            "Epoch 63/100\n",
            "500/500 [==============================] - 4s 8ms/step - loss: 2.4416 - acc: 0.3746 - val_loss: 2.7630 - val_acc: 0.3144\n",
            "Epoch 64/100\n",
            "500/500 [==============================] - 4s 8ms/step - loss: 2.4416 - acc: 0.3758 - val_loss: 2.7661 - val_acc: 0.3146\n",
            "Epoch 65/100\n",
            "500/500 [==============================] - 4s 8ms/step - loss: 2.4409 - acc: 0.3752 - val_loss: 2.7687 - val_acc: 0.3130\n",
            "Epoch 66/100\n",
            "500/500 [==============================] - 4s 7ms/step - loss: 2.4418 - acc: 0.3745 - val_loss: 2.7656 - val_acc: 0.3148\n",
            "Epoch 67/100\n",
            "500/500 [==============================] - 4s 8ms/step - loss: 2.4397 - acc: 0.3757 - val_loss: 2.7679 - val_acc: 0.3150\n",
            "Epoch 68/100\n",
            "500/500 [==============================] - 4s 9ms/step - loss: 2.4400 - acc: 0.3753 - val_loss: 2.7670 - val_acc: 0.3118\n",
            "Epoch 69/100\n",
            "500/500 [==============================] - 4s 7ms/step - loss: 2.4392 - acc: 0.3744 - val_loss: 2.7642 - val_acc: 0.3159\n",
            "Epoch 70/100\n",
            "500/500 [==============================] - 4s 8ms/step - loss: 2.4392 - acc: 0.3744 - val_loss: 2.7621 - val_acc: 0.3141\n",
            "Epoch 71/100\n",
            "500/500 [==============================] - 4s 8ms/step - loss: 2.4393 - acc: 0.3761 - val_loss: 2.7660 - val_acc: 0.3149\n",
            "Epoch 72/100\n",
            "500/500 [==============================] - 4s 8ms/step - loss: 2.4388 - acc: 0.3754 - val_loss: 2.7623 - val_acc: 0.3148\n",
            "Epoch 73/100\n",
            "500/500 [==============================] - 4s 8ms/step - loss: 2.4389 - acc: 0.3758 - val_loss: 2.7656 - val_acc: 0.3140\n",
            "Epoch 74/100\n",
            "500/500 [==============================] - 4s 8ms/step - loss: 2.4382 - acc: 0.3753 - val_loss: 2.7625 - val_acc: 0.3148\n",
            "Epoch 75/100\n",
            "500/500 [==============================] - 4s 8ms/step - loss: 2.4385 - acc: 0.3762 - val_loss: 2.7616 - val_acc: 0.3159\n",
            "Epoch 76/100\n",
            "500/500 [==============================] - 4s 8ms/step - loss: 2.4373 - acc: 0.3756 - val_loss: 2.7613 - val_acc: 0.3157\n",
            "Epoch 77/100\n",
            "500/500 [==============================] - 4s 8ms/step - loss: 2.4372 - acc: 0.3756 - val_loss: 2.7640 - val_acc: 0.3154\n",
            "Epoch 78/100\n",
            "500/500 [==============================] - 4s 7ms/step - loss: 2.4366 - acc: 0.3767 - val_loss: 2.7610 - val_acc: 0.3136\n",
            "Epoch 79/100\n",
            "500/500 [==============================] - 4s 7ms/step - loss: 2.4365 - acc: 0.3748 - val_loss: 2.7616 - val_acc: 0.3158\n",
            "Epoch 80/100\n",
            "500/500 [==============================] - 4s 8ms/step - loss: 2.4361 - acc: 0.3761 - val_loss: 2.7608 - val_acc: 0.3150\n",
            "Epoch 81/100\n",
            "500/500 [==============================] - 4s 7ms/step - loss: 2.4352 - acc: 0.3755 - val_loss: 2.7630 - val_acc: 0.3151\n",
            "Epoch 82/100\n",
            "500/500 [==============================] - 3s 7ms/step - loss: 2.4354 - acc: 0.3753 - val_loss: 2.7616 - val_acc: 0.3156\n",
            "Epoch 83/100\n",
            "500/500 [==============================] - 4s 9ms/step - loss: 2.4353 - acc: 0.3772 - val_loss: 2.7662 - val_acc: 0.3130\n",
            "Epoch 84/100\n",
            "500/500 [==============================] - 4s 8ms/step - loss: 2.4353 - acc: 0.3759 - val_loss: 2.7626 - val_acc: 0.3138\n",
            "Epoch 85/100\n",
            "500/500 [==============================] - 4s 7ms/step - loss: 2.4342 - acc: 0.3759 - val_loss: 2.7612 - val_acc: 0.3159\n",
            "Epoch 86/100\n",
            "500/500 [==============================] - 4s 9ms/step - loss: 2.4346 - acc: 0.3776 - val_loss: 2.7602 - val_acc: 0.3144\n",
            "Epoch 87/100\n",
            "500/500 [==============================] - 4s 8ms/step - loss: 2.4344 - acc: 0.3762 - val_loss: 2.7607 - val_acc: 0.3152\n",
            "Epoch 88/100\n",
            "500/500 [==============================] - 4s 7ms/step - loss: 2.4337 - acc: 0.3771 - val_loss: 2.7578 - val_acc: 0.3165\n",
            "Epoch 89/100\n",
            "500/500 [==============================] - 4s 8ms/step - loss: 2.4337 - acc: 0.3760 - val_loss: 2.7601 - val_acc: 0.3170\n",
            "Epoch 90/100\n",
            "500/500 [==============================] - 4s 8ms/step - loss: 2.4327 - acc: 0.3772 - val_loss: 2.7632 - val_acc: 0.3143\n",
            "Epoch 91/100\n",
            "500/500 [==============================] - 4s 8ms/step - loss: 2.4329 - acc: 0.3755 - val_loss: 2.7618 - val_acc: 0.3158\n",
            "Epoch 92/100\n",
            "500/500 [==============================] - 4s 9ms/step - loss: 2.4324 - acc: 0.3760 - val_loss: 2.7631 - val_acc: 0.3138\n",
            "Epoch 93/100\n",
            "500/500 [==============================] - 4s 8ms/step - loss: 2.4322 - acc: 0.3769 - val_loss: 2.7598 - val_acc: 0.3161\n",
            "Epoch 94/100\n",
            "500/500 [==============================] - 4s 8ms/step - loss: 2.4312 - acc: 0.3765 - val_loss: 2.7620 - val_acc: 0.3166\n",
            "Epoch 95/100\n",
            "500/500 [==============================] - 5s 9ms/step - loss: 2.4313 - acc: 0.3769 - val_loss: 2.7602 - val_acc: 0.3167\n",
            "Epoch 96/100\n",
            "500/500 [==============================] - 4s 8ms/step - loss: 2.4316 - acc: 0.3756 - val_loss: 2.7587 - val_acc: 0.3156\n",
            "Epoch 97/100\n",
            "500/500 [==============================] - 4s 8ms/step - loss: 2.4312 - acc: 0.3765 - val_loss: 2.7584 - val_acc: 0.3164\n",
            "Epoch 98/100\n",
            "500/500 [==============================] - 5s 10ms/step - loss: 2.4305 - acc: 0.3769 - val_loss: 2.7662 - val_acc: 0.3143\n",
            "Epoch 99/100\n",
            "500/500 [==============================] - 4s 8ms/step - loss: 2.4304 - acc: 0.3762 - val_loss: 2.7574 - val_acc: 0.3163\n",
            "Epoch 100/100\n",
            "500/500 [==============================] - 4s 7ms/step - loss: 2.4294 - acc: 0.3771 - val_loss: 2.7617 - val_acc: 0.3151\n",
            "Training time: 399.33709931373596\n"
          ]
        }
      ]
    },
    {
      "cell_type": "code",
      "source": [
        "plt.plot(history.history['acc'], label='accuracy')\n",
        "plt.plot(history.history['val_acc'], label = 'val_accuracy')\n",
        "plt.xlabel('Epoch')\n",
        "plt.ylabel('Accuracy')\n",
        "plt.legend(loc='lower right')"
      ],
      "metadata": {
        "colab": {
          "base_uri": "https://localhost:8080/",
          "height": 298
        },
        "id": "Ys0p0GPcFdqF",
        "outputId": "e91518cf-d3e2-43d5-9888-2d1fe8993f17"
      },
      "execution_count": 66,
      "outputs": [
        {
          "output_type": "execute_result",
          "data": {
            "text/plain": [
              "<matplotlib.legend.Legend at 0x7f478c8c5a00>"
            ]
          },
          "metadata": {},
          "execution_count": 66
        },
        {
          "output_type": "display_data",
          "data": {
            "text/plain": [
              "<Figure size 432x288 with 1 Axes>"
            ],
            "image/png": "[encoded data removed]"
          },
          "metadata": {
            "needs_background": "light"
          }
        }
      ]
    },
    {
      "cell_type": "code",
      "source": [
        "test_loss, test_acc = model.evaluate(test_images,  test_labels, verbose=2)\n",
        "print(test_acc)"
      ],
      "metadata": {
        "colab": {
          "base_uri": "https://localhost:8080/",
          "height": 0
        },
        "id": "jtBPfCsmFiFU",
        "outputId": "3f491bd9-ebd0-4e6a-f277-bcb3ea87ca8a"
      },
      "execution_count": 67,
      "outputs": [
        {
          "output_type": "stream",
          "name": "stdout",
          "text": [
            "313/313 - 1s - loss: 2.7311 - acc: 0.3192 - 1s/epoch - 3ms/step\n",
            "0.3192000091075897\n"
          ]
        }
      ]
    }
  ]
}